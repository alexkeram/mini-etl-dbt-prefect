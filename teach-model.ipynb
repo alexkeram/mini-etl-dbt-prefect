{
 "cells": [
  {
   "cell_type": "markdown",
   "metadata": {},
   "source": [
    "<div style=\"border:solid Chocolate 2px; padding: 40px\">\n",
    " \n",
    "<b> Александр, привет!👋</b> \n",
    "\n",
    "Меня зовут Кирилл Васильев, я буду ревьюером твоего проекта. Я предлагаю общаться на «ты», но если привычнее на «вы», просто скажи об этом! \n",
    "\n",
    "Я буду оставлять комментарии в твоем проекте. Пожалуйста, не удаляй их, они могут быть полезны в случае повторной проверки.\n",
    "\n",
    "Свои комментарии я буду обозначать <font color='green'>зеленым</font>, <font color='gold'>желтым</font> и <font color='red'>красным</font> цветами, например:\n",
    "  \n",
    "<br/> \n",
    "\n",
    "<div class=\"alert alert-success\">\n",
    "<h2> Комментарий ревьюера <a class=\"tocSkip\"> </h2>\n",
    "\n",
    "<b>Все отлично!👍:</b> В случае, если решение на отдельном шаге является полностью правильным. Здесь же я могу давать советы и предложения.\n",
    "</div>\n",
    "\n",
    "<br/>\n",
    "\n",
    "<div class=\"alert alert-warning\">\n",
    "    <h2> Комментарий ревьюера <a class=\"tocSkip\"> </h2>\n",
    "    \n",
    "<b>Некоторые замечания и рекомендации💡:</b> В случае, когда решение на отдельном шаге станет еще лучше, если внести небольшие коррективы.\n",
    "</div> \n",
    "\n",
    "\n",
    "<br/>\n",
    "<div class=\"alert alert-block alert-danger\">\n",
    "<h2> Комментарий ревьюера <a class=\"tocSkip\"></h2>\n",
    " \n",
    "   \n",
    "<b>На доработку🤔:</b>\n",
    " В случае, когда решение на отдельном шаге требует существенной переработки и внесения правок. Напоминаю, что проект не может быть принят с первого раза, если ревью содержит комментарии, рекомендующие доработать шаги.\n",
    "</div>  \n",
    "\n",
    "<br/>\n",
    "<div class=\"alert alert-info\">\n",
    "Рекомендую для твоих комментариев использовать синий или любой другой цветной фон. Я постараюсь ничего не пропустить, но если комментарии будут выделены, то это мне очень поможет!\n",
    "</div>\n",
    "    \n",
    "Увидев у тебя неточность, в первый раз я лишь укажу на ее наличие и дам тебе возможность самостоятельно найти и исправить ее. На реальной работе твой руководитель будет поступать также. Но если ты пока не справишься с такой задачей - при следующей проверке я дам более точную подсказку.\n",
    "\n"
   ]
  },
  {
   "cell_type": "markdown",
   "metadata": {
    "id": "H6cQIZr3ElW1"
   },
   "source": [
    "# Обучение с учителем — качество модели\n",
    "\n",
    "\n",
    "\n",
    "\n",
    "\n",
    "\n",
    "\n",
    "## 📌 Цель проекта\n",
    "Разработать модель, которая предсказывает вероятность снижения покупательской активности клиента, и выделить сегменты для персонализированных маркетинговых предложений.\n",
    "\n",
    "---\n",
    "\n",
    "## 🔹 Шаг 1. Загрузка данных\n",
    "\n",
    "- Загрузить все предоставленные файлы:\n",
    "  - `/datasets/market_file.csv`\n",
    "  - `/datasets/market_money.csv`\n",
    "  - `/datasets/market_time.csv`\n",
    "  - `/datasets/money.csv`\n",
    "- Убедиться, что данные соответствуют описанию.\n",
    "- Проверить разделители и корректно считать таблицы (особое внимание на `sep=';'` и `decimal=','`).\n",
    "\n",
    "---\n",
    "\n",
    "## 🔹 Шаг 2. Предобработка данных\n",
    "\n",
    "- Проверить типы данных, пропуски, дубликаты.\n",
    "- Преобразовать числовые признаки в корректный формат (например, с `object` → `float`).\n",
    "- Удалить или заполнить пропущенные значения.\n",
    "- Провести первичную очистку и при необходимости перекодировать категориальные значения.\n",
    "\n",
    "---\n",
    "\n",
    "## 🔹 Шаг 3. Исследовательский анализ данных (EDA)\n",
    "\n",
    "- Провести визуализацию и описательный анализ признаков:\n",
    "  - распределения,\n",
    "  - выбросы,\n",
    "  - уникальные значения категориальных признаков.\n",
    "- Выявить клиентов, имеющих хотя бы одну покупку за последние 3 месяца.\n",
    "- Проверить распределение целевого признака (`Покупательская активность`).\n",
    "- Выявить потенциальные корреляции и аномалии.\n",
    "\n",
    "---\n",
    "\n",
    "## 🔹 Шаг 4. Объединение таблиц\n",
    "\n",
    "- Объединить таблицы по `id`, преобразовав:\n",
    "  - `market_money.csv` в ширину по периодам: `Выручка_тек`, `Выручка_пред`, `Выручка_до_этого`.\n",
    "  - `market_time.csv` в аналогичную ширину: `Время_тек`, `Время_пред`, `Время_до_этого`.\n",
    "- Присоединить к `market_file.csv`.\n",
    "- Таблицу `money.csv` с прибылью сохранить отдельно (использовать позже для сегментации).\n",
    "\n",
    "---\n",
    "\n",
    "## 🔹 Шаг 5. Корреляционный анализ\n",
    "\n",
    "- Рассчитать матрицу корреляций между числовыми признаками.\n",
    "- Визуализировать тепловую карту.\n",
    "- При необходимости — удалить один из сильно коррелирующих признаков (мультиколлинеарность).\n",
    "\n",
    "---\n",
    "\n",
    "## 🔹 Шаг 6. Построение моделей с использованием пайплайнов\n",
    "\n",
    "### 6.1 Подготовка пайплайна\n",
    "\n",
    "- Использовать `ColumnTransformer` для раздельной обработки признаков:\n",
    "  - категориальные: `OneHotEncoder`, `OrdinalEncoder`\n",
    "  - числовые: `StandardScaler`, `MinMaxScaler`\n",
    "- Собрать пайплайн на базе `Pipeline`.\n",
    "\n",
    "### 6.2 Обучение моделей\n",
    "\n",
    "Обучить следующие модели с подбором гиперпараметров:\n",
    "- `LogisticRegression`\n",
    "- `DecisionTreeClassifier`\n",
    "- `KNeighborsClassifier`\n",
    "- `SVC`\n",
    "\n",
    "### 6.3 Подбор метрики\n",
    "\n",
    "- Основная метрика: **ROC AUC** (из-за задачи бинарной классификации и возможного дисбаланса классов).\n",
    "- Использовать `RandomizedSearchCV` или `GridSearchCV` с кросс-валидацией.\n",
    "\n",
    "---\n",
    "\n",
    "## 🔹 Шаг 7. Интерпретация модели\n",
    "\n",
    "- Определить лучшую модель по ROC AUC.\n",
    "- Рассчитать важность признаков для лучшей модели.\n",
    "- Использовать библиотеку `SHAP` для построения графика важности.\n",
    "- Вывод:\n",
    "  - какие признаки оказали наибольшее влияние;\n",
    "  - какие можно исключить;\n",
    "  - бизнес-интерпретация результата.\n",
    "\n",
    "---\n",
    "\n",
    "## 🔹 Шаг 8. Сегментация клиентов и рекомендации\n",
    "\n",
    "### 8.1 Сегментация\n",
    "\n",
    "- Объединить данные модели (вероятности снижения активности) и `money.csv`.\n",
    "- Создать сегменты (примерно 2–3 сегмента) по:\n",
    "  - прибыли,\n",
    "  - доле акционных покупок,\n",
    "  - категории товаров,\n",
    "  - вероятности снижения активности.\n",
    "\n",
    "### 8.2 Анализ сегмента\n",
    "\n",
    "- Визуализировать распределения и признаки выбранного сегмента.\n",
    "- Описать бизнес-характеристики.\n",
    "- Сделать предложения по удержанию активности:\n",
    "  - изменение условий рассылок,\n",
    "  - новые акции,\n",
    "  - персонализированные предложения.\n",
    "\n",
    "### 8.3 Выводы по сегментам\n",
    "\n",
    "- Какой сегмент выбран.\n",
    "- Какие меры предложены.\n",
    "- Почему это важно для бизнеса.\n",
    "\n",
    "---\n",
    "\n",
    "## 🔹 Шаг 9. Общий вывод\n",
    "\n",
    "- Кратко описать:\n",
    "  - задачу,\n",
    "  - исходные данные и источники,\n",
    "  - этапы предобработки,\n",
    "  - обучение моделей и результаты,\n",
    "  - выбранную модель и метрику,\n",
    "  - интерпретацию признаков,\n",
    "  - сегментацию и бизнес-рекомендации.\n"
   ]
  },
  {
   "cell_type": "markdown",
   "metadata": {},
   "source": [
    "<div class=\"alert alert-success\">\n",
    "<h2> Комментарий ревьюера <a class=\"tocSkip\"> </h2>\n",
    " \n",
    "👍 Контекст и план проекта понятны. Отлично по оформлению.\n",
    "</div>     "
   ]
  },
  {
   "cell_type": "code",
   "execution_count": 1,
   "metadata": {},
   "outputs": [],
   "source": [
    "!pip install shap -q\n",
    "\n",
    "# Общие библиотеки\n",
    "import pandas as pd\n",
    "import numpy as np\n",
    "import math\n",
    "\n",
    "# Визуализация\n",
    "import matplotlib.pyplot as plt\n",
    "\n",
    "# Предобработка\n",
    "from sklearn.model_selection import train_test_split\n",
    "from sklearn.preprocessing import StandardScaler, MinMaxScaler, RobustScaler\n",
    "from sklearn.preprocessing import OneHotEncoder, OrdinalEncoder\n",
    "from sklearn.impute import SimpleImputer\n",
    "from sklearn.compose import ColumnTransformer\n",
    "from sklearn.pipeline import Pipeline\n",
    "\n",
    "# Модели\n",
    "from sklearn.linear_model import LogisticRegression\n",
    "from sklearn.tree import DecisionTreeClassifier\n",
    "from sklearn.neighbors import KNeighborsClassifier\n",
    "from sklearn.svm import SVC\n",
    "\n",
    "# Подбор гиперпараметров\n",
    "from sklearn.model_selection import GridSearchCV, RandomizedSearchCV\n",
    "\n",
    "# Метрики\n",
    "from sklearn.metrics import (\n",
    "    roc_auc_score, \n",
    "    accuracy_score, \n",
    "    precision_score, \n",
    "    recall_score, \n",
    "    f1_score, \n",
    "    confusion_matrix,\n",
    "    classification_report\n",
    ")\n",
    "\n",
    "# Интерпретация признаков\n",
    "import shap\n",
    "\n",
    "# Игнорировать предупреждения\n",
    "import warnings\n",
    "warnings.filterwarnings('ignore')\n",
    "\n",
    "# Настройки для визуализации\n",
    "plt.rcParams['figure.figsize'] = (10, 6)\n"
   ]
  },
  {
   "cell_type": "markdown",
   "metadata": {},
   "source": [
    "<div class=\"alert alert-success\">\n",
    "<h2> Комментарий ревьюера <a class=\"tocSkip\"> </h2>\n",
    " \n",
    "👍 Здесь также все замечательно. Думаю, можно препроцессинг тоже сгруппировать в один импорт.\n",
    "</div>     "
   ]
  },
  {
   "cell_type": "markdown",
   "metadata": {},
   "source": [
    "<div class=\"alert alert-warning\">\n",
    "<h2> Комментарий ревьюера 2<a class=\"tocSkip\"> </h2>\n",
    "    \n",
    "<b>Некоторые замечания и рекомендации💡:</b> \n",
    "\n",
    "Если добавить `-q` к загрузке, то логи выводиться не будут.\n",
    "\n",
    "`!pip install shap -q`\n",
    "\n",
    "\n",
    "</div>"
   ]
  },
  {
   "cell_type": "code",
   "execution_count": 2,
   "metadata": {},
   "outputs": [
    {
     "name": "stdout",
     "output_type": "stream",
     "text": [
      "market_file.csv:\n"
     ]
    },
    {
     "data": {
      "text/html": [
       "<div>\n",
       "<style scoped>\n",
       "    .dataframe tbody tr th:only-of-type {\n",
       "        vertical-align: middle;\n",
       "    }\n",
       "\n",
       "    .dataframe tbody tr th {\n",
       "        vertical-align: top;\n",
       "    }\n",
       "\n",
       "    .dataframe thead th {\n",
       "        text-align: right;\n",
       "    }\n",
       "</style>\n",
       "<table border=\"1\" class=\"dataframe\">\n",
       "  <thead>\n",
       "    <tr style=\"text-align: right;\">\n",
       "      <th></th>\n",
       "      <th>id</th>\n",
       "      <th>Покупательская активность</th>\n",
       "      <th>Тип сервиса</th>\n",
       "      <th>Разрешить сообщать</th>\n",
       "      <th>Маркет_актив_6_мес</th>\n",
       "      <th>Маркет_актив_тек_мес</th>\n",
       "      <th>Длительность</th>\n",
       "      <th>Акционные_покупки</th>\n",
       "      <th>Популярная_категория</th>\n",
       "      <th>Средний_просмотр_категорий_за_визит</th>\n",
       "      <th>Неоплаченные_продукты_штук_квартал</th>\n",
       "      <th>Ошибка_сервиса</th>\n",
       "      <th>Страниц_за_визит</th>\n",
       "    </tr>\n",
       "  </thead>\n",
       "  <tbody>\n",
       "    <tr>\n",
       "      <th>0</th>\n",
       "      <td>215348</td>\n",
       "      <td>Снизилась</td>\n",
       "      <td>премиум</td>\n",
       "      <td>да</td>\n",
       "      <td>3.4</td>\n",
       "      <td>5</td>\n",
       "      <td>121</td>\n",
       "      <td>0.00</td>\n",
       "      <td>Товары для детей</td>\n",
       "      <td>6</td>\n",
       "      <td>2</td>\n",
       "      <td>1</td>\n",
       "      <td>5</td>\n",
       "    </tr>\n",
       "    <tr>\n",
       "      <th>1</th>\n",
       "      <td>215349</td>\n",
       "      <td>Снизилась</td>\n",
       "      <td>премиум</td>\n",
       "      <td>да</td>\n",
       "      <td>4.4</td>\n",
       "      <td>4</td>\n",
       "      <td>819</td>\n",
       "      <td>0.75</td>\n",
       "      <td>Товары для детей</td>\n",
       "      <td>4</td>\n",
       "      <td>4</td>\n",
       "      <td>2</td>\n",
       "      <td>5</td>\n",
       "    </tr>\n",
       "    <tr>\n",
       "      <th>2</th>\n",
       "      <td>215350</td>\n",
       "      <td>Снизилась</td>\n",
       "      <td>стандартт</td>\n",
       "      <td>нет</td>\n",
       "      <td>4.9</td>\n",
       "      <td>3</td>\n",
       "      <td>539</td>\n",
       "      <td>0.14</td>\n",
       "      <td>Домашний текстиль</td>\n",
       "      <td>5</td>\n",
       "      <td>2</td>\n",
       "      <td>1</td>\n",
       "      <td>5</td>\n",
       "    </tr>\n",
       "    <tr>\n",
       "      <th>3</th>\n",
       "      <td>215351</td>\n",
       "      <td>Снизилась</td>\n",
       "      <td>стандартт</td>\n",
       "      <td>да</td>\n",
       "      <td>3.2</td>\n",
       "      <td>5</td>\n",
       "      <td>896</td>\n",
       "      <td>0.99</td>\n",
       "      <td>Товары для детей</td>\n",
       "      <td>5</td>\n",
       "      <td>0</td>\n",
       "      <td>6</td>\n",
       "      <td>4</td>\n",
       "    </tr>\n",
       "    <tr>\n",
       "      <th>4</th>\n",
       "      <td>215352</td>\n",
       "      <td>Снизилась</td>\n",
       "      <td>стандартт</td>\n",
       "      <td>нет</td>\n",
       "      <td>5.1</td>\n",
       "      <td>3</td>\n",
       "      <td>1064</td>\n",
       "      <td>0.94</td>\n",
       "      <td>Товары для детей</td>\n",
       "      <td>3</td>\n",
       "      <td>2</td>\n",
       "      <td>3</td>\n",
       "      <td>2</td>\n",
       "    </tr>\n",
       "  </tbody>\n",
       "</table>\n",
       "</div>"
      ],
      "text/plain": [
       "       id Покупательская активность Тип сервиса Разрешить сообщать  \\\n",
       "0  215348                 Снизилась     премиум                 да   \n",
       "1  215349                 Снизилась     премиум                 да   \n",
       "2  215350                 Снизилась   стандартт                нет   \n",
       "3  215351                 Снизилась   стандартт                 да   \n",
       "4  215352                 Снизилась   стандартт                нет   \n",
       "\n",
       "   Маркет_актив_6_мес  Маркет_актив_тек_мес  Длительность  Акционные_покупки  \\\n",
       "0                 3.4                     5           121               0.00   \n",
       "1                 4.4                     4           819               0.75   \n",
       "2                 4.9                     3           539               0.14   \n",
       "3                 3.2                     5           896               0.99   \n",
       "4                 5.1                     3          1064               0.94   \n",
       "\n",
       "  Популярная_категория  Средний_просмотр_категорий_за_визит  \\\n",
       "0     Товары для детей                                    6   \n",
       "1     Товары для детей                                    4   \n",
       "2    Домашний текстиль                                    5   \n",
       "3     Товары для детей                                    5   \n",
       "4     Товары для детей                                    3   \n",
       "\n",
       "   Неоплаченные_продукты_штук_квартал  Ошибка_сервиса  Страниц_за_визит  \n",
       "0                                   2               1                 5  \n",
       "1                                   4               2                 5  \n",
       "2                                   2               1                 5  \n",
       "3                                   0               6                 4  \n",
       "4                                   2               3                 2  "
      ]
     },
     "metadata": {},
     "output_type": "display_data"
    },
    {
     "name": "stdout",
     "output_type": "stream",
     "text": [
      "<class 'pandas.core.frame.DataFrame'>\n",
      "RangeIndex: 1300 entries, 0 to 1299\n",
      "Data columns (total 13 columns):\n",
      " #   Column                               Non-Null Count  Dtype  \n",
      "---  ------                               --------------  -----  \n",
      " 0   id                                   1300 non-null   int64  \n",
      " 1   Покупательская активность            1300 non-null   object \n",
      " 2   Тип сервиса                          1300 non-null   object \n",
      " 3   Разрешить сообщать                   1300 non-null   object \n",
      " 4   Маркет_актив_6_мес                   1300 non-null   float64\n",
      " 5   Маркет_актив_тек_мес                 1300 non-null   int64  \n",
      " 6   Длительность                         1300 non-null   int64  \n",
      " 7   Акционные_покупки                    1300 non-null   float64\n",
      " 8   Популярная_категория                 1300 non-null   object \n",
      " 9   Средний_просмотр_категорий_за_визит  1300 non-null   int64  \n",
      " 10  Неоплаченные_продукты_штук_квартал   1300 non-null   int64  \n",
      " 11  Ошибка_сервиса                       1300 non-null   int64  \n",
      " 12  Страниц_за_визит                     1300 non-null   int64  \n",
      "dtypes: float64(2), int64(7), object(4)\n",
      "memory usage: 132.2+ KB\n",
      "None \n",
      "\n",
      "market_money.csv:\n"
     ]
    },
    {
     "data": {
      "text/html": [
       "<div>\n",
       "<style scoped>\n",
       "    .dataframe tbody tr th:only-of-type {\n",
       "        vertical-align: middle;\n",
       "    }\n",
       "\n",
       "    .dataframe tbody tr th {\n",
       "        vertical-align: top;\n",
       "    }\n",
       "\n",
       "    .dataframe thead th {\n",
       "        text-align: right;\n",
       "    }\n",
       "</style>\n",
       "<table border=\"1\" class=\"dataframe\">\n",
       "  <thead>\n",
       "    <tr style=\"text-align: right;\">\n",
       "      <th></th>\n",
       "      <th>id</th>\n",
       "      <th>Период</th>\n",
       "      <th>Выручка</th>\n",
       "    </tr>\n",
       "  </thead>\n",
       "  <tbody>\n",
       "    <tr>\n",
       "      <th>0</th>\n",
       "      <td>215348</td>\n",
       "      <td>препредыдущий_месяц</td>\n",
       "      <td>0.0</td>\n",
       "    </tr>\n",
       "    <tr>\n",
       "      <th>1</th>\n",
       "      <td>215348</td>\n",
       "      <td>текущий_месяц</td>\n",
       "      <td>3293.1</td>\n",
       "    </tr>\n",
       "    <tr>\n",
       "      <th>2</th>\n",
       "      <td>215348</td>\n",
       "      <td>предыдущий_месяц</td>\n",
       "      <td>0.0</td>\n",
       "    </tr>\n",
       "    <tr>\n",
       "      <th>3</th>\n",
       "      <td>215349</td>\n",
       "      <td>препредыдущий_месяц</td>\n",
       "      <td>4472.0</td>\n",
       "    </tr>\n",
       "    <tr>\n",
       "      <th>4</th>\n",
       "      <td>215349</td>\n",
       "      <td>текущий_месяц</td>\n",
       "      <td>4971.6</td>\n",
       "    </tr>\n",
       "  </tbody>\n",
       "</table>\n",
       "</div>"
      ],
      "text/plain": [
       "       id               Период  Выручка\n",
       "0  215348  препредыдущий_месяц      0.0\n",
       "1  215348        текущий_месяц   3293.1\n",
       "2  215348     предыдущий_месяц      0.0\n",
       "3  215349  препредыдущий_месяц   4472.0\n",
       "4  215349        текущий_месяц   4971.6"
      ]
     },
     "metadata": {},
     "output_type": "display_data"
    },
    {
     "name": "stdout",
     "output_type": "stream",
     "text": [
      "<class 'pandas.core.frame.DataFrame'>\n",
      "RangeIndex: 3900 entries, 0 to 3899\n",
      "Data columns (total 3 columns):\n",
      " #   Column   Non-Null Count  Dtype  \n",
      "---  ------   --------------  -----  \n",
      " 0   id       3900 non-null   int64  \n",
      " 1   Период   3900 non-null   object \n",
      " 2   Выручка  3900 non-null   float64\n",
      "dtypes: float64(1), int64(1), object(1)\n",
      "memory usage: 91.5+ KB\n",
      "None \n",
      "\n",
      "market_time.csv:\n"
     ]
    },
    {
     "data": {
      "text/html": [
       "<div>\n",
       "<style scoped>\n",
       "    .dataframe tbody tr th:only-of-type {\n",
       "        vertical-align: middle;\n",
       "    }\n",
       "\n",
       "    .dataframe tbody tr th {\n",
       "        vertical-align: top;\n",
       "    }\n",
       "\n",
       "    .dataframe thead th {\n",
       "        text-align: right;\n",
       "    }\n",
       "</style>\n",
       "<table border=\"1\" class=\"dataframe\">\n",
       "  <thead>\n",
       "    <tr style=\"text-align: right;\">\n",
       "      <th></th>\n",
       "      <th>id</th>\n",
       "      <th>Период</th>\n",
       "      <th>минут</th>\n",
       "    </tr>\n",
       "  </thead>\n",
       "  <tbody>\n",
       "    <tr>\n",
       "      <th>0</th>\n",
       "      <td>215348</td>\n",
       "      <td>текущий_месяц</td>\n",
       "      <td>14</td>\n",
       "    </tr>\n",
       "    <tr>\n",
       "      <th>1</th>\n",
       "      <td>215348</td>\n",
       "      <td>предыдцщий_месяц</td>\n",
       "      <td>13</td>\n",
       "    </tr>\n",
       "    <tr>\n",
       "      <th>2</th>\n",
       "      <td>215349</td>\n",
       "      <td>текущий_месяц</td>\n",
       "      <td>10</td>\n",
       "    </tr>\n",
       "    <tr>\n",
       "      <th>3</th>\n",
       "      <td>215349</td>\n",
       "      <td>предыдцщий_месяц</td>\n",
       "      <td>12</td>\n",
       "    </tr>\n",
       "    <tr>\n",
       "      <th>4</th>\n",
       "      <td>215350</td>\n",
       "      <td>текущий_месяц</td>\n",
       "      <td>13</td>\n",
       "    </tr>\n",
       "  </tbody>\n",
       "</table>\n",
       "</div>"
      ],
      "text/plain": [
       "       id            Период  минут\n",
       "0  215348     текущий_месяц     14\n",
       "1  215348  предыдцщий_месяц     13\n",
       "2  215349     текущий_месяц     10\n",
       "3  215349  предыдцщий_месяц     12\n",
       "4  215350     текущий_месяц     13"
      ]
     },
     "metadata": {},
     "output_type": "display_data"
    },
    {
     "name": "stdout",
     "output_type": "stream",
     "text": [
      "<class 'pandas.core.frame.DataFrame'>\n",
      "RangeIndex: 2600 entries, 0 to 2599\n",
      "Data columns (total 3 columns):\n",
      " #   Column  Non-Null Count  Dtype \n",
      "---  ------  --------------  ----- \n",
      " 0   id      2600 non-null   int64 \n",
      " 1   Период  2600 non-null   object\n",
      " 2   минут   2600 non-null   int64 \n",
      "dtypes: int64(2), object(1)\n",
      "memory usage: 61.1+ KB\n",
      "None \n",
      "\n",
      "money.csv:\n"
     ]
    },
    {
     "data": {
      "text/html": [
       "<div>\n",
       "<style scoped>\n",
       "    .dataframe tbody tr th:only-of-type {\n",
       "        vertical-align: middle;\n",
       "    }\n",
       "\n",
       "    .dataframe tbody tr th {\n",
       "        vertical-align: top;\n",
       "    }\n",
       "\n",
       "    .dataframe thead th {\n",
       "        text-align: right;\n",
       "    }\n",
       "</style>\n",
       "<table border=\"1\" class=\"dataframe\">\n",
       "  <thead>\n",
       "    <tr style=\"text-align: right;\">\n",
       "      <th></th>\n",
       "      <th>id</th>\n",
       "      <th>Прибыль</th>\n",
       "    </tr>\n",
       "  </thead>\n",
       "  <tbody>\n",
       "    <tr>\n",
       "      <th>0</th>\n",
       "      <td>215348</td>\n",
       "      <td>0.98</td>\n",
       "    </tr>\n",
       "    <tr>\n",
       "      <th>1</th>\n",
       "      <td>215349</td>\n",
       "      <td>4.16</td>\n",
       "    </tr>\n",
       "    <tr>\n",
       "      <th>2</th>\n",
       "      <td>215350</td>\n",
       "      <td>3.13</td>\n",
       "    </tr>\n",
       "    <tr>\n",
       "      <th>3</th>\n",
       "      <td>215351</td>\n",
       "      <td>4.87</td>\n",
       "    </tr>\n",
       "    <tr>\n",
       "      <th>4</th>\n",
       "      <td>215352</td>\n",
       "      <td>4.21</td>\n",
       "    </tr>\n",
       "  </tbody>\n",
       "</table>\n",
       "</div>"
      ],
      "text/plain": [
       "       id  Прибыль\n",
       "0  215348     0.98\n",
       "1  215349     4.16\n",
       "2  215350     3.13\n",
       "3  215351     4.87\n",
       "4  215352     4.21"
      ]
     },
     "metadata": {},
     "output_type": "display_data"
    },
    {
     "name": "stdout",
     "output_type": "stream",
     "text": [
      "<class 'pandas.core.frame.DataFrame'>\n",
      "RangeIndex: 1300 entries, 0 to 1299\n",
      "Data columns (total 2 columns):\n",
      " #   Column   Non-Null Count  Dtype  \n",
      "---  ------   --------------  -----  \n",
      " 0   id       1300 non-null   int64  \n",
      " 1   Прибыль  1300 non-null   float64\n",
      "dtypes: float64(1), int64(1)\n",
      "memory usage: 20.4 KB\n",
      "None\n"
     ]
    }
   ],
   "source": [
    "# Шаг 1. Загрузка данных\n",
    "\n",
    "# Пути к файлам\n",
    "file_path_main = '/datasets/market_file.csv'\n",
    "file_path_money = '/datasets/market_money.csv'\n",
    "file_path_time = '/datasets/market_time.csv'\n",
    "file_path_profit = '/datasets/money.csv'\n",
    "\n",
    "# Загружаем таблицы с правильными параметрами:\n",
    "# Т.к. фактический разделитель — запятая, а десятичный знак — точка\n",
    "df_main = pd.read_csv(file_path_main, sep=',', decimal='.')\n",
    "df_revenue = pd.read_csv(file_path_money, sep=',', decimal='.')\n",
    "df_time = pd.read_csv(file_path_time, sep=',', decimal='.')\n",
    "df_profit = pd.read_csv(file_path_profit, sep=';', decimal=',')\n",
    "\n",
    "# Просмотр первых строк и информации о таблицах\n",
    "print(\"market_file.csv:\")\n",
    "display(df_main.head())\n",
    "print(df_main.info(), '\\n')\n",
    "\n",
    "print(\"market_money.csv:\")\n",
    "display(df_revenue.head())\n",
    "print(df_revenue.info(), '\\n')\n",
    "\n",
    "print(\"market_time.csv:\")\n",
    "display(df_time.head())\n",
    "print(df_time.info(), '\\n')\n",
    "\n",
    "print(\"money.csv:\")\n",
    "display(df_profit.head())\n",
    "print(df_profit.info())\n"
   ]
  },
  {
   "cell_type": "markdown",
   "metadata": {},
   "source": [
    "<div class=\"alert alert-success\">\n",
    "<h2> Комментарий ревьюера <a class=\"tocSkip\"> </h2>\n",
    " \n",
    "👍 Отлично, что обрабатываешь случаи с запятой-разделителем.\n",
    "</div>  \n"
   ]
  },
  {
   "cell_type": "markdown",
   "metadata": {},
   "source": [
    "### Вывод по шагу 1: Загрузка данных\n",
    "\n",
    "Данные успешно загружены и в целом соответствуют описанию. Все таблицы имеют корректную структуру и необходимое количество строк. Обнаруженные незначительные несоответствия в отдельных значениях (например, опечатки в названиях категорий или периодов) будут обработаны в соответствующих разделах предобработки и очистки данных. Можно переходить к следующему этапу.\n"
   ]
  },
  {
   "cell_type": "markdown",
   "metadata": {},
   "source": [
    "# Предобработка данных"
   ]
  },
  {
   "cell_type": "code",
   "execution_count": 3,
   "metadata": {},
   "outputs": [
    {
     "name": "stdout",
     "output_type": "stream",
     "text": [
      "\n",
      "===== Основная таблица (market_file) =====\n",
      "Форма: (1300, 13)\n",
      "Дубликатов: 0\n",
      "Типы данных:\n",
      "id                                       int64\n",
      "Покупательская активность               object\n",
      "Тип сервиса                             object\n",
      "Разрешить сообщать                      object\n",
      "Маркет_актив_6_мес                     float64\n",
      "Маркет_актив_тек_мес                     int64\n",
      "Длительность                             int64\n",
      "Акционные_покупки                      float64\n",
      "Популярная_категория                    object\n",
      "Средний_просмотр_категорий_за_визит      int64\n",
      "Неоплаченные_продукты_штук_квартал       int64\n",
      "Ошибка_сервиса                           int64\n",
      "Страниц_за_визит                         int64\n",
      "dtype: object\n",
      "\n",
      "Пропуски по столбцам:\n",
      "id                                     0\n",
      "Покупательская активность              0\n",
      "Тип сервиса                            0\n",
      "Разрешить сообщать                     0\n",
      "Маркет_актив_6_мес                     0\n",
      "Маркет_актив_тек_мес                   0\n",
      "Длительность                           0\n",
      "Акционные_покупки                      0\n",
      "Популярная_категория                   0\n",
      "Средний_просмотр_категорий_за_визит    0\n",
      "Неоплаченные_продукты_штук_квартал     0\n",
      "Ошибка_сервиса                         0\n",
      "Страниц_за_визит                       0\n",
      "dtype: int64\n",
      "--------------------------------------------------\n",
      "\n",
      "===== Выручка (market_money) =====\n",
      "Форма: (3900, 3)\n",
      "Дубликатов: 0\n",
      "Типы данных:\n",
      "id           int64\n",
      "Период      object\n",
      "Выручка    float64\n",
      "dtype: object\n",
      "\n",
      "Пропуски по столбцам:\n",
      "id         0\n",
      "Период     0\n",
      "Выручка    0\n",
      "dtype: int64\n",
      "--------------------------------------------------\n",
      "\n",
      "===== Время на сайте (market_time) =====\n",
      "Форма: (2600, 3)\n",
      "Дубликатов: 0\n",
      "Типы данных:\n",
      "id         int64\n",
      "Период    object\n",
      "минут      int64\n",
      "dtype: object\n",
      "\n",
      "Пропуски по столбцам:\n",
      "id        0\n",
      "Период    0\n",
      "минут     0\n",
      "dtype: int64\n",
      "--------------------------------------------------\n",
      "\n",
      "===== Прибыль (money) =====\n",
      "Форма: (1300, 2)\n",
      "Дубликатов: 0\n",
      "Типы данных:\n",
      "id           int64\n",
      "Прибыль    float64\n",
      "dtype: object\n",
      "\n",
      "Пропуски по столбцам:\n",
      "id         0\n",
      "Прибыль    0\n",
      "dtype: int64\n",
      "--------------------------------------------------\n"
     ]
    }
   ],
   "source": [
    "# Шаг 2. Предобработка данных\n",
    "\n",
    "# Проверка типов данных, пропусков и дубликатов во всех таблицах\n",
    "\n",
    "def check_df(df, name):\n",
    "    print(f'\\n===== {name} =====')\n",
    "    print('Форма:', df.shape)\n",
    "    print('Дубликатов:', df.duplicated().sum())\n",
    "    print('Типы данных:')\n",
    "    print(df.dtypes)\n",
    "    print('\\nПропуски по столбцам:')\n",
    "    print(df.isna().sum())\n",
    "    print('-' * 50)\n",
    "\n",
    "check_df(df_main, 'Основная таблица (market_file)')\n",
    "check_df(df_revenue, 'Выручка (market_money)')\n",
    "check_df(df_time, 'Время на сайте (market_time)')\n",
    "check_df(df_profit, 'Прибыль (money)')\n"
   ]
  },
  {
   "cell_type": "code",
   "execution_count": 4,
   "metadata": {
    "scrolled": true
   },
   "outputs": [
    {
     "data": {
      "image/png": "[encoded data removed]",
      "text/plain": [
       "<Figure size 720x288 with 1 Axes>"
      ]
     },
     "metadata": {
      "needs_background": "light"
     },
     "output_type": "display_data"
    }
   ],
   "source": [
    "# Визуализация пропусков в основной таблице\n",
    "plt.figure(figsize=(10, 4))\n",
    "plt.bar(df_main.columns, df_main.isna().sum())\n",
    "plt.xticks(rotation=90)\n",
    "plt.title('Пропуски в основной таблице')\n",
    "plt.ylabel('Количество пропусков')\n",
    "plt.grid(axis='y')\n",
    "plt.tight_layout()\n",
    "plt.show()\n"
   ]
  },
  {
   "cell_type": "code",
   "execution_count": 5,
   "metadata": {},
   "outputs": [
    {
     "name": "stdout",
     "output_type": "stream",
     "text": [
      "Покупательская активность: ['Снизилась' 'Прежний уровень']...\n",
      "Тип сервиса: ['премиум' 'стандартт' 'стандарт']...\n",
      "Разрешить сообщать: ['да' 'нет']...\n",
      "Популярная_категория: ['Товары для детей' 'Домашний текстиль' 'Косметика и аксесуары'\n",
      " 'Техника для красоты и здоровья' 'Кухонная посуда']...\n"
     ]
    }
   ],
   "source": [
    "# Преобразование типов\n",
    "# Проверим, есть ли нечисловые данные в числовых колонках (на всякий случай)\n",
    "for col in df_main.select_dtypes(include='object').columns:\n",
    "    print(f'{col}: {df_main[col].unique()[:5]}...')  # первые 5 уникальных значений\n"
   ]
  },
  {
   "cell_type": "code",
   "execution_count": 6,
   "metadata": {},
   "outputs": [],
   "source": [
    "# Удалим дубликаты, если есть\n",
    "df_main = df_main.drop_duplicates()\n",
    "df_revenue = df_revenue.drop_duplicates()\n",
    "df_time = df_time.drop_duplicates()\n",
    "df_profit = df_profit.drop_duplicates()\n"
   ]
  },
  {
   "cell_type": "code",
   "execution_count": 7,
   "metadata": {},
   "outputs": [],
   "source": [
    "# Исправим опечатку в \"Тип сервиса\" (стандартт → стандарт)\n",
    "df_main['Тип сервиса'] = df_main['Тип сервиса'].replace('стандартт', 'стандарт')\n",
    "\n",
    "# Исправим опечатку в \"Период\" в market_time\n",
    "df_time['Период'] = df_time['Период'].replace({'предыдцщий_месяц': 'предыдущий_месяц'})\n"
   ]
  },
  {
   "cell_type": "code",
   "execution_count": 8,
   "metadata": {},
   "outputs": [],
   "source": [
    "# Приведём значения в \"Разрешить сообщать\" к бинарному виду (да → 1, нет → 0)\n",
    "df_main['Разрешить сообщать'] = df_main['Разрешить сообщать'].map({'да': 1, 'нет': 0})\n"
   ]
  },
  {
   "cell_type": "markdown",
   "metadata": {},
   "source": [
    "<div class=\"alert alert-success\">\n",
    "<h2> Комментарий ревьюера <a class=\"tocSkip\"> </h2>\n",
    " \n",
    "👍 Все супер, хорошая внимательность.\n",
    "</div>  \n"
   ]
  },
  {
   "cell_type": "code",
   "execution_count": 9,
   "metadata": {},
   "outputs": [
    {
     "name": "stdout",
     "output_type": "stream",
     "text": [
      "Основная таблица: (1300, 13)\n",
      "Выручка: (3900, 3)\n",
      "Время на сайте: (2600, 3)\n",
      "Прибыль: (1300, 2)\n"
     ]
    }
   ],
   "source": [
    "# Проверка размеров после очистки\n",
    "print(f'Основная таблица: {df_main.shape}')\n",
    "print(f'Выручка: {df_revenue.shape}')\n",
    "print(f'Время на сайте: {df_time.shape}')\n",
    "print(f'Прибыль: {df_profit.shape}')\n"
   ]
  },
  {
   "cell_type": "code",
   "execution_count": 10,
   "metadata": {},
   "outputs": [
    {
     "name": "stdout",
     "output_type": "stream",
     "text": [
      "\n",
      "Покупательская активность:\n",
      "Прежний уровень    802\n",
      "Снизилась          498\n",
      "Name: Покупательская активность, dtype: int64\n",
      "\n",
      "Тип сервиса:\n",
      "стандарт    924\n",
      "премиум     376\n",
      "Name: Тип сервиса, dtype: int64\n",
      "\n",
      "Популярная_категория:\n",
      "Товары для детей                        330\n",
      "Домашний текстиль                       251\n",
      "Косметика и аксесуары                   223\n",
      "Техника для красоты и здоровья          184\n",
      "Мелкая бытовая техника и электроника    174\n",
      "Кухонная посуда                         138\n",
      "Name: Популярная_категория, dtype: int64\n"
     ]
    }
   ],
   "source": [
    "# Посмотрим на уникальные значения категориальных переменных\n",
    "cat_columns = ['Покупательская активность', 'Тип сервиса', 'Популярная_категория']\n",
    "\n",
    "for col in cat_columns:\n",
    "    print(f'\\n{col}:')\n",
    "    print(df_main[col].value_counts())\n"
   ]
  },
  {
   "cell_type": "code",
   "execution_count": 11,
   "metadata": {},
   "outputs": [
    {
     "data": {
      "image/png": "[encoded data removed]",
      "text/plain": [
       "<Figure size 1080x1152 with 10 Axes>"
      ]
     },
     "metadata": {
      "needs_background": "light"
     },
     "output_type": "display_data"
    }
   ],
   "source": [
    "# Построим гистограммы для всех числовых признаков\n",
    "\n",
    "\n",
    "# Числовые признаки\n",
    "num_columns = df_main.select_dtypes(include=['int64', 'float64']).columns\n",
    "\n",
    "# Параметры сетки\n",
    "cols = 3\n",
    "rows = math.ceil(len(num_columns) / cols)\n",
    "\n",
    "plt.figure(figsize=(5 * cols, 4 * rows))\n",
    "for i, col in enumerate(num_columns):\n",
    "    plt.subplot(rows, cols, i + 1)\n",
    "    plt.hist(df_main[col], bins=20, edgecolor='black')\n",
    "    plt.title(col)\n",
    "    plt.tight_layout()\n",
    "\n",
    "plt.suptitle('Распределения числовых признаков', y=1.02, fontsize=16)\n",
    "plt.show()\n",
    "\n"
   ]
  },
  {
   "cell_type": "code",
   "execution_count": 12,
   "metadata": {},
   "outputs": [
    {
     "data": {
      "image/png": "[encoded data removed]",
      "text/plain": [
       "<Figure size 1080x432 with 3 Axes>"
      ]
     },
     "metadata": {
      "needs_background": "light"
     },
     "output_type": "display_data"
    }
   ],
   "source": [
    "# Графики распределения категориальных признаков\n",
    "plt.figure(figsize=(15, 6))\n",
    "for i, col in enumerate(cat_columns):\n",
    "    plt.subplot(1, 3, i+1)\n",
    "    df_main[col].value_counts().plot(kind='bar')\n",
    "    plt.title(col)\n",
    "    plt.xticks(rotation=45)\n",
    "    plt.tight_layout()\n",
    "plt.suptitle('Распределения категориальных признаков', y=1.05, fontsize=16)\n",
    "plt.show()\n"
   ]
  },
  {
   "cell_type": "code",
   "execution_count": 13,
   "metadata": {},
   "outputs": [
    {
     "name": "stdout",
     "output_type": "stream",
     "text": [
      "Повторяющихся id в market_file: 0\n",
      "Неявных дубликатов в market_money по (id, Период): 0\n",
      "Неявных дубликатов в market_time по (id, Период): 0\n",
      "Повторяющихся id в money.csv: 0\n"
     ]
    }
   ],
   "source": [
    "# Проверка 1: основной датасет (должно быть по 1 строке на клиента)\n",
    "duplicate_main = df_main[df_main.duplicated(subset='id', keep=False)]\n",
    "print(f'Повторяющихся id в market_file: {duplicate_main.shape[0]}')\n",
    "if not duplicate_main.empty:\n",
    "    display(duplicate_main)\n",
    "\n",
    "# Проверка 2: выручка — неявные дубликаты по id + Период\n",
    "duplicate_revenue = df_revenue[df_revenue.duplicated(subset=['id', 'Период'], keep=False)]\n",
    "print(f'Неявных дубликатов в market_money по (id, Период): {duplicate_revenue.shape[0]}')\n",
    "if not duplicate_revenue.empty:\n",
    "    display(duplicate_revenue.sort_values(by=['id', 'Период']))\n",
    "\n",
    "# Проверка 3: время — неявные дубликаты по id + Период\n",
    "duplicate_time = df_time[df_time.duplicated(subset=['id', 'Период'], keep=False)]\n",
    "print(f'Неявных дубликатов в market_time по (id, Период): {duplicate_time.shape[0]}')\n",
    "if not duplicate_time.empty:\n",
    "    display(duplicate_time.sort_values(by=['id', 'Период']))\n",
    "\n",
    "# Проверка 4: таблица прибыли — должен быть один id на строку\n",
    "duplicate_profit = df_profit[df_profit.duplicated(subset='id', keep=False)]\n",
    "print(f'Повторяющихся id в money.csv: {duplicate_profit.shape[0]}')\n",
    "if not duplicate_profit.empty:\n",
    "    display(duplicate_profit)\n"
   ]
  },
  {
   "cell_type": "markdown",
   "metadata": {},
   "source": [
    "## Анализ и удаление выбросов по выручке"
   ]
  },
  {
   "cell_type": "markdown",
   "metadata": {},
   "source": [
    "Цель: исключить клиентов с аномально высокой выручкой, чтобы модель не искажалась экстремальными значениями."
   ]
  },
  {
   "cell_type": "code",
   "execution_count": 14,
   "metadata": {},
   "outputs": [
    {
     "data": {
      "image/png": "[encoded data removed]",
      "text/plain": [
       "<Figure size 720x72 with 1 Axes>"
      ]
     },
     "metadata": {
      "needs_background": "light"
     },
     "output_type": "display_data"
    }
   ],
   "source": [
    "# Боксплот по выручке\n",
    "plt.figure(figsize=(10, 1))\n",
    "plt.boxplot(df_revenue['Выручка'], vert=False)\n",
    "plt.title('Boxplot выручки (market_money)')\n",
    "plt.xlabel('Выручка')\n",
    "plt.grid(True, axis='x')\n",
    "plt.show()"
   ]
  },
  {
   "cell_type": "markdown",
   "metadata": {},
   "source": [
    "Отсечем радикальный выброс сверху, не задевая более мелкие значения"
   ]
  },
  {
   "cell_type": "code",
   "execution_count": 15,
   "metadata": {},
   "outputs": [
    {
     "name": "stdout",
     "output_type": "stream",
     "text": [
      "Ограничение сверху: 6522.28\n"
     ]
    }
   ],
   "source": [
    "# Расчёт границ по методу межквартильного размаха\n",
    "Q1 = df_revenue['Выручка'].quantile(0.25)\n",
    "Q3 = df_revenue['Выручка'].quantile(0.75)\n",
    "IQR = Q3 - Q1\n",
    "upper_bound = Q3 + 1.5 * IQR\n",
    "\n",
    "print(f'Ограничение сверху: {upper_bound:.2f}')\n",
    "\n",
    "# Фильтрация: оставляем только разумные значения выручки\n",
    "df_revenue = df_revenue[df_revenue['Выручка'] <= upper_bound]"
   ]
  },
  {
   "cell_type": "code",
   "execution_count": 16,
   "metadata": {},
   "outputs": [
    {
     "data": {
      "image/png": "[encoded data removed]",
      "text/plain": [
       "<Figure size 720x72 with 1 Axes>"
      ]
     },
     "metadata": {
      "needs_background": "light"
     },
     "output_type": "display_data"
    }
   ],
   "source": [
    "# Боксплот по выручке\n",
    "plt.figure(figsize=(10, 1))\n",
    "plt.boxplot(df_revenue['Выручка'], vert=False)\n",
    "plt.title('Boxplot выручки (market_money)')\n",
    "plt.xlabel('Выручка')\n",
    "plt.grid(True, axis='x')\n",
    "plt.show()\n"
   ]
  },
  {
   "cell_type": "markdown",
   "metadata": {},
   "source": [
    "## Фильтрация неактивных клиентов"
   ]
  },
  {
   "cell_type": "raw",
   "metadata": {},
   "source": [
    "Цель:\n",
    "Удалить из анализа клиентов, которые ничего не покупали в хотя бы один месяц\n",
    "\n",
    "- Считаем суммарную выручку по каждому id.\n",
    "- Оставляем только тех, у кого были покупки\n",
    "- Отфильтровываем все таблицы по этим id."
   ]
  },
  {
   "cell_type": "code",
   "execution_count": 17,
   "metadata": {
    "scrolled": false
   },
   "outputs": [
    {
     "name": "stdout",
     "output_type": "stream",
     "text": [
      "Удаляем клиентов: 3 — [215348, 215357, 215359]\n",
      "Осталось клиентов после фильтрации: 1297\n"
     ]
    }
   ],
   "source": [
    "# Преобразуем таблицу в широкий формат\n",
    "revenue_raw = pd.read_csv('/datasets/market_money.csv')\n",
    "revenue_pivot = revenue_raw.pivot(index='id', columns='Период', values='Выручка')\n",
    "\n",
    "# Найдём клиентов, у которых хотя бы один месяц = 0\n",
    "ids_to_remove = revenue_pivot[revenue_pivot.isna().any(axis=1) | (revenue_pivot == 0).any(axis=1)].index\n",
    "\n",
    "print(f'Удаляем клиентов: {len(ids_to_remove)} — {list(ids_to_remove)}')\n",
    "\n",
    "# Фильтруем все таблицы\n",
    "df_main = df_main[~df_main['id'].isin(ids_to_remove)]\n",
    "df_revenue = df_revenue[~df_revenue['id'].isin(ids_to_remove)]\n",
    "df_time = df_time[~df_time['id'].isin(ids_to_remove)]\n",
    "df_profit = df_profit[~df_profit['id'].isin(ids_to_remove)]\n",
    "print(f\"Осталось клиентов после фильтрации: {df_main['id'].nunique()}\")"
   ]
  },
  {
   "cell_type": "markdown",
   "metadata": {},
   "source": [
    "\n",
    "<div class=\"alert alert-block alert-danger\">\n",
    "<h2><s> Комментарий ревьюера #2 <a class=\"tocSkip\"></h2>\n",
    "  \n",
    "<b>На доработку🤔:</b>\n",
    " \n",
    "Зачем здесь считаем по суммарной выручке? Очень рекомендую подходить к генерации ИИ критичнее. \n",
    "\n",
    "</div>\n"
   ]
  },
  {
   "cell_type": "markdown",
   "metadata": {},
   "source": [
    "### Вывод по шагу 2: Предобработка данных\n",
    "\n",
    "- **Типы данных** во всех таблицах приведены к корректному формату, числовые и категориальные признаки распознаны верно.\n",
    "- **Пропуски** и **дубликаты** в основной таблице (`market_file.csv`) отсутствуют.\n",
    "- Были устранены **опечатки** в данных: `'стандартт' → 'стандарт'`, `'предыдцщий_месяц' → 'предыдущий_месяц'`.\n",
    "- Значение признака `Разрешить сообщать` приведено к бинарному формату: `да` → `1`, `нет` → `0`.\n",
    "- Целевой признак `Покупательская активность` содержит два класса с умеренным дисбалансом и готов к бинарной кодировке.\n",
    "- Категориальные признаки (`Тип сервиса`, `Популярная категория`) имеют адекватное распределение и подготовлены для последующего кодирования.\n",
    "- Вцелом числовые признаки не содержат явных выбросов, кроме одного радикального выброса в таблице с выручкой, который был отфильтрован, большинство распределены нормально или дискретно.\n",
    "- В таблицах `market_money` и `market_time` не выявлено неявных дубликатов по составному ключу `id + Период`.\n",
    "- В таблице `money.csv` каждый `id` встречается один раз, структура корректна.\n"
   ]
  },
  {
   "cell_type": "markdown",
   "metadata": {},
   "source": [
    "        \n",
    "<div class=\"alert alert-warning\">\n",
    "<h2> Комментарий ревьюера <a class=\"tocSkip\"> </h2>\n",
    "    \n",
    "<b>Некоторые замечания и рекомендации💡:</b> \n",
    "\n",
    "На этом этапе можно рассмотреть подробнее все таблицы, у нас будет выброс в выручке, логично его отсечь уже на этапе предобработки. Также можно обработать и неактивных клиентов."
   ]
  },
  {
   "cell_type": "markdown",
   "metadata": {},
   "source": [
    "<div class=\"alert alert-success\">\n",
    "<h2> Комментарий ревьюера #2 <a class=\"tocSkip\"> </h2>\n",
    "\n",
    "👍 \n",
    "</div>"
   ]
  },
  {
   "cell_type": "markdown",
   "metadata": {},
   "source": [
    "# Исследовательский анализ данных (EDA)"
   ]
  },
  {
   "cell_type": "code",
   "execution_count": 18,
   "metadata": {},
   "outputs": [
    {
     "data": {
      "image/png": "[encoded data removed]",
      "text/plain": [
       "<Figure size 432x288 with 1 Axes>"
      ]
     },
     "metadata": {
      "needs_background": "light"
     },
     "output_type": "display_data"
    },
    {
     "name": "stdout",
     "output_type": "stream",
     "text": [
      "Прежний уровень    61.84\n",
      "Снизилась          38.16\n",
      "Name: Покупательская активность, dtype: float64\n"
     ]
    }
   ],
   "source": [
    "# Построим распределение целевого признака\n",
    "plt.figure(figsize=(6, 4))\n",
    "df_main['Покупательская активность'].value_counts().plot(kind='bar')\n",
    "plt.title('Распределение покупательской активности среди активных клиентов')\n",
    "plt.ylabel('Количество клиентов')\n",
    "plt.xticks(rotation=0)\n",
    "plt.tight_layout()\n",
    "plt.show()\n",
    "\n",
    "# в процентах\n",
    "print(round(df_main['Покупательская активность'].value_counts(normalize=True) * 100, 2))\n"
   ]
  },
  {
   "cell_type": "code",
   "execution_count": 19,
   "metadata": {
    "scrolled": false
   },
   "outputs": [
    {
     "data": {
      "image/png": "[encoded data removed]",
      "text/plain": [
       "<Figure size 864x720 with 2 Axes>"
      ]
     },
     "metadata": {
      "needs_background": "light"
     },
     "output_type": "display_data"
    }
   ],
   "source": [
    "# оставляем только числовые фичи\n",
    "numeric_features = df_main.drop(columns=['id', 'Покупательская активность']).select_dtypes(include=['int64', 'float64'])\n",
    "\n",
    "# Вычисляем корреляционную матрицу\n",
    "corr = numeric_features.corr(method='spearman')\n",
    "\n",
    "# Построение тепловой карты\n",
    "plt.figure(figsize=(12, 10))\n",
    "im = plt.imshow(corr, cmap='RdYlGn', vmin=-1, vmax=1)\n",
    "\n",
    "# Подписи осей\n",
    "plt.xticks(ticks=np.arange(len(corr.columns)), labels=corr.columns, rotation=90)\n",
    "plt.yticks(ticks=np.arange(len(corr.index)), labels=corr.index)\n",
    "\n",
    "# Добавление значений на тепловую карту\n",
    "for i in range(len(corr.index)):\n",
    "    for j in range(len(corr.columns)):\n",
    "        plt.text(j, i, f\"{corr.iloc[i, j]:.2f}\",\n",
    "                 ha=\"center\", va=\"center\", color=\"black\", fontsize=8)\n",
    "\n",
    "# Цветовая шкала\n",
    "plt.colorbar(im)\n",
    "plt.title('Корреляционная матрица числовых признаков')\n",
    "plt.tight_layout()\n",
    "plt.show()\n"
   ]
  },
  {
   "cell_type": "markdown",
   "metadata": {},
   "source": [
    "<div class=\"alert alert-warning\">\n",
    "<h2> Комментарий ревьюера <a class=\"tocSkip\"> </h2>\n",
    "    \n",
    "<b>Некоторые замечания и рекомендации💡:</b> \n",
    "\n",
    "Важно нарисовать тепловую карту и показателями. Просто лоскутное одеяло нам будет не так полезно.\n",
    "    \n",
    "Проще всего это сделать командой `numeric_features.corr(method='spearman').style.background_gradient(cmap=\"RdYlGn\")`\n",
    "    \n",
    " \n",
    "        \n",
    "</div> "
   ]
  },
  {
   "cell_type": "code",
   "execution_count": 20,
   "metadata": {},
   "outputs": [
    {
     "name": "stdout",
     "output_type": "stream",
     "text": [
      "Разрешить сообщать: 0 выбросов\n",
      "Маркет_актив_6_мес: 36 выбросов\n",
      "Маркет_актив_тек_мес: 628 выбросов\n",
      "Длительность: 0 выбросов\n",
      "Акционные_покупки: 168 выбросов\n",
      "Средний_просмотр_категорий_за_визит: 0 выбросов\n",
      "Неоплаченные_продукты_штук_квартал: 14 выбросов\n",
      "Ошибка_сервиса: 0 выбросов\n",
      "Страниц_за_визит: 0 выбросов\n"
     ]
    }
   ],
   "source": [
    "# Список числовых признаков, исключая id\n",
    "num_cols = df_main.select_dtypes(include=['int64', 'float64']).drop(columns='id').columns\n",
    "\n",
    "# Создаём сводку по выбросам\n",
    "outliers_summary = {}\n",
    "\n",
    "for col in num_cols:\n",
    "    q1 = df_main[col].quantile(0.25)\n",
    "    q3 = df_main[col].quantile(0.75)\n",
    "    iqr = q3 - q1\n",
    "    lower = q1 - 1.5 * iqr\n",
    "    upper = q3 + 1.5 * iqr\n",
    "    outliers = df_main[(df_main[col] < lower) | (df_main[col] > upper)]\n",
    "    outliers_summary[col] = len(outliers)\n",
    "\n",
    "# Вывод количества выбросов по каждому признаку\n",
    "for col, count in outliers_summary.items():\n",
    "    print(f'{col}: {count} выбросов')\n"
   ]
  },
  {
   "cell_type": "code",
   "execution_count": 21,
   "metadata": {},
   "outputs": [
    {
     "data": {
      "image/png": "[encoded data removed]",
      "text/plain": [
       "<Figure size 1080x864 with 9 Axes>"
      ]
     },
     "metadata": {
      "needs_background": "light"
     },
     "output_type": "display_data"
    }
   ],
   "source": [
    "# Визуализация выбросов\n",
    "cols = 3\n",
    "rows = (len(num_cols) + cols - 1) // cols\n",
    "\n",
    "plt.figure(figsize=(5 * cols, 4 * rows))\n",
    "\n",
    "for i, col in enumerate(num_cols):\n",
    "    plt.subplot(rows, cols, i + 1)\n",
    "    plt.boxplot(df_main[col], vert=False)\n",
    "    plt.title(col)\n",
    "\n",
    "plt.suptitle('Boxplot для числовых признаков', fontsize=16, y=1.02)\n",
    "plt.tight_layout()\n",
    "plt.show()\n"
   ]
  },
  {
   "cell_type": "code",
   "execution_count": 22,
   "metadata": {},
   "outputs": [
    {
     "data": {
      "image/png": "[encoded data removed]",
      "text/plain": [
       "<Figure size 432x288 with 1 Axes>"
      ]
     },
     "metadata": {
      "needs_background": "light"
     },
     "output_type": "display_data"
    },
    {
     "name": "stdout",
     "output_type": "stream",
     "text": [
      "Количество активных клиентов: 1297\n"
     ]
    }
   ],
   "source": [
    "# Подсчёт количества клиентов по категориям\n",
    "activity_counts = df_main['Покупательская активность'].value_counts()\n",
    "activity_labels = activity_counts.index\n",
    "activity_values = activity_counts.values\n",
    "\n",
    "# Построение графика\n",
    "plt.figure(figsize=(6, 4))\n",
    "bars = plt.bar(activity_labels, activity_values, color=['#4CAF50', '#F44336'])\n",
    "\n",
    "# Добавим аннотации над столбцами\n",
    "for bar in bars:\n",
    "    height = bar.get_height()\n",
    "    plt.text(bar.get_x() + bar.get_width() / 2, height + 10, f'{height}', ha='center', va='bottom')\n",
    "\n",
    "plt.title('Количество клиентов по активности')\n",
    "plt.ylabel('Число клиентов')\n",
    "plt.xticks(rotation=0)\n",
    "plt.grid(axis='y', linestyle='--', alpha=0.5)\n",
    "plt.tight_layout()\n",
    "plt.show()\n",
    "print(f'Количество активных клиентов: {df_main.shape[0]}')"
   ]
  },
  {
   "cell_type": "markdown",
   "metadata": {},
   "source": [
    "### Вывод по шагу 3: Исследовательский анализ данных\n",
    "\n",
    "- Клиенты с покупками: 1297 имели выручку в каждом месяце периода.\n",
    "- Большинство клиентов (802) остались активными, 495 — снизили активность.\n",
    "- Целевой признак: ~61.7% клиентов сохранили прежний уровень активности, ~38.3% — снизили. Классы сбалансированы умеренно.\n",
    "- Корреляции:\n",
    "    - Сильной мультиколлинеарности между признаками не обнаружено.\n",
    "    - Наиболее выраженные положительные корреляции выявлены между признаками поведения на сайте: `Страниц_за_визит`, `Средний_просмотр_категорий_за_визит`, `Длительность`.\n",
    "- Выбросы:\n",
    "    - Наибольшее количество выбросов по признакам `Маркет_актив_тек_мес`, `Акционные_покупки`, `Неоплаченные_продукты_штук_квартал`.\n",
    "    - Выбросы сохраняются как потенциально значимая часть клиентского поведения.\n"
   ]
  },
  {
   "cell_type": "markdown",
   "metadata": {},
   "source": [
    "<div class=\"alert alert-block alert-danger\">\n",
    "<h2><s> Комментарий ревьюера <a class=\"tocSkip\"></h2>\n",
    "  \n",
    "<b>На доработку🤔:</b>\n",
    " \n",
    "По проекту нам важно анализировать и использовать в моделях данные о покупателях, которые делали хотя бы одну покупку, но в каждый из трех месяцев:\n",
    "    \n",
    "`Отберите клиентов с покупательской активностью не менее трёх месяцев, то есть таких, которые что-либо покупали в этот период. Оформите выводы по результатам шага.`\n",
    "    \n",
    "Важно удалить таких пользователей.\n",
    "    \n",
    "***\n",
    "    \n",
    "Не пропусти выброс в выручке.\n",
    "\n",
    "</div>"
   ]
  },
  {
   "cell_type": "markdown",
   "metadata": {},
   "source": [
    "<div class=\"alert alert-success\">\n",
    "<h2> Комментарий ревьюера <a class=\"tocSkip\"> </h2>\n",
    " \n",
    "👍 Да, мультиколлинеарности не будет, оставляем все признаки."
   ]
  },
  {
   "cell_type": "markdown",
   "metadata": {},
   "source": [
    "\n",
    "<div class=\"alert alert-block alert-danger\">\n",
    "<h2><s> Комментарий ревьюера #2 <a class=\"tocSkip\"></h2>\n",
    "  \n",
    "<b>На доработку🤔:</b>\n",
    " \n",
    "Если используешь ИИ, прошу подходить критично к генерации кода. Ну и тут, на мой взгляд быстрее и проще руками закодить фильтрацию неактивных пользователей. \n",
    "    \n",
    "У нас будет три неактивных, выше код немного галлюцинирует и далет сильно не то, что нам нужно.\n",
    "\n",
    "</div>\n"
   ]
  },
  {
   "cell_type": "markdown",
   "metadata": {},
   "source": [
    "# Объединение таблиц"
   ]
  },
  {
   "cell_type": "code",
   "execution_count": 24,
   "metadata": {},
   "outputs": [],
   "source": [
    "# Поворот выручки\n",
    "df_revenue_wide = df_revenue.pivot(index='id', columns='Период', values='Выручка').reset_index()\n",
    "df_revenue_wide.columns.name = None  # убрать название уровня колонок\n",
    "df_revenue_wide = df_revenue_wide.rename(columns={\n",
    "    'текущий_месяц': 'Выручка_текущий',\n",
    "    'предыдущий_месяц': 'Выручка_предыдущий',\n",
    "    'препредыдущий_месяц': 'Выручка_препредыдущий'\n",
    "})\n",
    "\n",
    "# Поворот времени\n",
    "df_time_wide = df_time.pivot(index='id', columns='Период', values='минут').reset_index()\n",
    "df_time_wide.columns.name = None\n",
    "df_time_wide = df_time_wide.rename(columns={\n",
    "    'текущий_месяц': 'Время_текущий',\n",
    "    'предыдущий_месяц': 'Время_предыдущий',\n",
    "    'препредыдущий_месяц': 'Время_препредыдущий'\n",
    "})\n"
   ]
  },
  {
   "cell_type": "code",
   "execution_count": 25,
   "metadata": {},
   "outputs": [
    {
     "name": "stdout",
     "output_type": "stream",
     "text": [
      "Размер объединённой таблицы: 1297 строк\n"
     ]
    }
   ],
   "source": [
    "# Объединение таблиц\n",
    "df_full = df_main.merge(df_revenue_wide, on='id', how='left')\n",
    "df_full = df_full.merge(df_time_wide, on='id', how='left')\n",
    "\n",
    "# Проверим размер\n",
    "print(f'Размер объединённой таблицы: {df_full.shape[0]} строк')\n"
   ]
  },
  {
   "cell_type": "markdown",
   "metadata": {},
   "source": [
    "<div class=\"alert alert-block alert-danger\" style=\"border-radius: 15px; box-shadow: 4px 4px 4px; border: 1px solid \">\n",
    "<h2><s> Комментарий ревьюера #2 <a class=\"tocSkip\"></h2>\n",
    "  \n",
    "<b>На доработку🤔:</b>\n",
    " \n",
    "После объединения таблицы стоит убедиться, что ничего лишнего не удалили, но убрали все лишнее. Повторюсь, должно получиться либо 1296, либо 1297 строк. Выше прошу упростить и починить решения.\n",
    "\n",
    "</div>\n"
   ]
  },
  {
   "cell_type": "markdown",
   "metadata": {},
   "source": [
    "### Гистограммы и boxplot’ы по числовым признакам, для категориальных признаков — столбчатые диаграммы по группам\n",
    "\n",
    "\n"
   ]
  },
  {
   "cell_type": "code",
   "execution_count": 26,
   "metadata": {},
   "outputs": [],
   "source": [
    "# Разделим данные на группы\n",
    "df_active = df_full[df_full['Покупательская активность'] == 'Прежний уровень']\n",
    "df_dropped = df_full[df_full['Покупательская активность'] == 'Снизилась']\n"
   ]
  },
  {
   "cell_type": "code",
   "execution_count": 27,
   "metadata": {},
   "outputs": [
    {
     "data": {
      "image/png": "[encoded data removed]",
      "text/plain": [
       "<Figure size 1080x1440 with 14 Axes>"
      ]
     },
     "metadata": {
      "needs_background": "light"
     },
     "output_type": "display_data"
    }
   ],
   "source": [
    "# Сравним числовые признаки\n",
    "# Список числовых признаков без id\n",
    "num_cols = df_full.select_dtypes(include=['int64', 'float64']).drop(columns='id').columns\n",
    "\n",
    "# Построим наложенные гистограммы\n",
    "cols = 3\n",
    "rows = (len(num_cols) + cols - 1) // cols\n",
    "plt.figure(figsize=(5 * cols, 4 * rows))\n",
    "\n",
    "for i, col in enumerate(num_cols):\n",
    "    plt.subplot(rows, cols, i + 1)\n",
    "    plt.hist(df_active[col], bins=20, alpha=0.6, label='Прежний уровень')\n",
    "    plt.hist(df_dropped[col], bins=20, alpha=0.6, label='Снизилась')\n",
    "    plt.title(col)\n",
    "    plt.legend()\n",
    "\n",
    "plt.tight_layout()\n",
    "plt.suptitle('Распределения числовых признаков по целевому признаку', y=1.02, fontsize=16)\n",
    "plt.show()\n"
   ]
  },
  {
   "cell_type": "markdown",
   "metadata": {},
   "source": [
    "<div class=\"alert alert-warning\">\n",
    "<h2> Комментарий ревьюера  #2 <a class=\"tocSkip\"> </h2>\n",
    "    \n",
    "<b>Некоторые замечания и рекомендации💡:</b> \n",
    "\n",
    "По графикам отлично. Рекомендую делать пояснения сразу под графиками, чтобы предполагаемый читатель проекта не скроллил вверх-вниз от графиков к выводам и обратно. \n",
    "       \n",
    "</div>\n"
   ]
  },
  {
   "cell_type": "code",
   "execution_count": 28,
   "metadata": {
    "scrolled": false
   },
   "outputs": [
    {
     "data": {
      "image/png": "[encoded data removed]",
      "text/plain": [
       "<Figure size 576x432 with 1 Axes>"
      ]
     },
     "metadata": {
      "needs_background": "light"
     },
     "output_type": "display_data"
    }
   ],
   "source": [
    "# Категориальные признаки\n",
    "col = 'Популярная_категория'\n",
    "ctab = pd.crosstab(df_full[col], df_full['Покупательская активность'], normalize='index')\n",
    "\n",
    "ctab.plot(kind='barh', stacked=True, figsize=(8, 6))  # горизонтальная диаграмма\n",
    "plt.title(f'{col} по группам активности')\n",
    "plt.xlabel('Доля')\n",
    "plt.ylabel('Категория')\n",
    "plt.grid(axis='x')\n",
    "plt.tight_layout()\n",
    "plt.show()\n"
   ]
  },
  {
   "cell_type": "code",
   "execution_count": 29,
   "metadata": {},
   "outputs": [
    {
     "data": {
      "image/png": "[encoded data removed]",
      "text/plain": [
       "<Figure size 432x216 with 1 Axes>"
      ]
     },
     "metadata": {
      "needs_background": "light"
     },
     "output_type": "display_data"
    }
   ],
   "source": [
    "# Горизонтальный график для 'Тип сервиса'\n",
    "col = 'Тип сервиса'\n",
    "ctab = pd.crosstab(df_full[col], df_full['Покупательская активность'], normalize='index')\n",
    "\n",
    "ctab.plot(kind='barh', stacked=True, figsize=(6, 3))  # горизонтальная диаграмма\n",
    "plt.title(f'{col} по группам активности')\n",
    "plt.xlabel('Доля')\n",
    "plt.ylabel('Тип сервиса')\n",
    "plt.grid(axis='x')\n",
    "plt.tight_layout()\n",
    "plt.show()\n"
   ]
  },
  {
   "cell_type": "markdown",
   "metadata": {},
   "source": [
    "<div class=\"alert alert-warning\">\n",
    "<h2> Комментарий ревьюера <a class=\"tocSkip\"> </h2>\n",
    "    \n",
    "<b>Некоторые замечания и рекомендации💡:</b> \n",
    "\n",
    "По объединению все оптимально. Здесь у нас будет такая ситуация: в выручке один выброс и три неактивных покупателя. В зависимости от того, как будем обрабатывать выброс, здесь ожидаем увидеть либо 1296, либо 1297 строк."
   ]
  },
  {
   "cell_type": "markdown",
   "metadata": {},
   "source": [
    "<div class=\"alert alert-block alert-danger\">\n",
    "<h2><s> Комментарий ревьюера <a class=\"tocSkip\"></h2>\n",
    "  \n",
    "<b>На доработку🤔:</b>\n",
    "    \n",
    "Исследовательский анализ мы делаем для того, чтобы понять, какие закономерности заложены в наших данных. Здесь важно посмотреть на распределения признаков в разрезе целевого признака (снижения активности). \n",
    "    \n",
    "Можно построить и наложить друг на друга гистограммы по данным в подвыборках с и без снижения активности. Можно расположить рядом два боксплота, для категориальных данных − две диаграммы.\n",
    "    \n",
    "Думаю, так мы увидим гораздо больше интересной информации. Она нам особенно пригодится для части с исследованием сегмента покупателей.\n",
    "\n",
    "***\n",
    "    \n",
    "По итогам исследовательского анализа (кроме красивой таблицы) у нас должен быть вывод с портретом покупателя, который снижает активность: какие значения каких признаков для него будут характерны. Сколько страниц он в среднем просматривает, больше или меньше это, чем у активных пользователей, также с акционными покупками, временем на сайте и другими признаками. \n",
    "    \n",
    "Фактически основной костяк выводов проекта делаем уже здесь. Модель нам нужна для перевода категориального признака (факт снижения активности) в вероятностный (вероятность снижения), чтобы дальше чуть более пластично исследовать выбранный сегмент.\n",
    "\n",
    "       \n",
    "</div> \n"
   ]
  },
  {
   "cell_type": "markdown",
   "metadata": {},
   "source": [
    "### Вывод по шагу 4: Объединение таблиц\n",
    "\n",
    "- Таблица `market_money.csv` преобразована из длинного формата в широкий, с колонками: `Выручка_тек`, `Выручка_пред`, `Выручка_до_этого`.\n",
    "- Таблица `market_time.csv` преобразована аналогично, с колонками: `Время_тек`, `Время_пред`. Признак `Время_до_этого` отсутствует в исходных данных.\n",
    "- Все преобразованные таблицы объединены с основной (`market_file.csv`) по ключу `id`. Размер итоговой таблицы: 1300 строк и 18 признаков.\n",
    "- Таблица прибыли (`money.csv`) содержит уникальные `id`, полностью совпадающие с основной таблицей, и будет использоваться позже на этапе сегментации.\n",
    "\n",
    "На основе визуального анализа распределений можно выделить особенности поведения клиентов, чья покупательская активность снизилась:\n",
    "\n",
    "- **Коммуникации:** реже соглашаются на рассылки, получают меньше маркетинговых касаний.\n",
    "- **Пользовательское поведение:** просматривают меньше страниц и категорий, меньше времени проводят на сайте.\n",
    "- **Акции и покупки:** делают меньше акционных покупок, меньше товаров оставляют в корзине.\n",
    "- **Финансовые показатели:** у них ниже выручка в каждый из трёх месяцев.\n",
    "- **Категории интересов:** чаще покупают косметику и посуду; реже — товары для детей и технику.\n",
    "- **Тип сервиса:** среди них чаще встречается тариф `стандарт`.\n",
    "\n",
    "Таким образом, клиенты с пониженной активностью демонстрируют признаки снижения вовлечённости и меньшей лояльности к магазину. Эти поведенческие особенности можно использовать для построения модели и последующей сегментации."
   ]
  },
  {
   "cell_type": "markdown",
   "metadata": {},
   "source": [
    "<div class=\"alert alert-success\">\n",
    "<h2> Комментарий ревьюера #2 <a class=\"tocSkip\"> </h2>\n",
    "\n",
    "👍 Здесь все отлично.\n",
    "    \n",
    "Я бы только в финальный вывод (после Таким образом) добавил конкретики или гипотез, какие признаки наиболее четко ассоциированы со снижением активности?\n",
    "</div>\n"
   ]
  },
  {
   "cell_type": "code",
   "execution_count": 30,
   "metadata": {},
   "outputs": [],
   "source": [
    "# Подготовка признаков и целевого столбца\n",
    "# Целевой признак\n",
    "df_full['Покупательская активность'] = df_full['Покупательская активность'].map({\n",
    "    'Снизилась': 1,\n",
    "    'Прежний уровень': 0\n",
    "})\n",
    "\n",
    "# Целевая переменная и признаки\n",
    "target = 'Покупательская активность'\n",
    "X = df_full.drop(columns=[target])\n",
    "y = df_full[target]\n",
    "\n",
    "# Список признаков\n",
    "cat_features = ['Тип сервиса', 'Популярная_категория']\n",
    "num_features = [col for col in X.columns if col not in ['id'] + cat_features]\n",
    "\n",
    "# Разделение на обучающую и тестовую выборки\n",
    "X_train, X_test, y_train, y_test = train_test_split(\n",
    "    X, y, test_size=0.25, stratify=y, random_state=42\n",
    ")\n"
   ]
  },
  {
   "cell_type": "markdown",
   "metadata": {},
   "source": [
    "<div class=\"alert alert-success\">\n",
    "<h2> Комментарий ревьюера <a class=\"tocSkip\"> </h2>\n",
    " \n",
    "👍 Отлично по кодированию таргета."
   ]
  },
  {
   "cell_type": "code",
   "execution_count": 31,
   "metadata": {},
   "outputs": [],
   "source": [
    "# Категориальные и числовые признаки\n",
    "cat_features = df_main.select_dtypes(include='object').drop(columns='Покупательская активность').columns.tolist()\n",
    "num_features = df_main.select_dtypes(include=['int64', 'float64']).drop(columns='id').columns.tolist()\n",
    "\n",
    "# Категориальный трансформер\n",
    "cat_transformer = Pipeline(steps=[\n",
    "    ('imputer', SimpleImputer(strategy='most_frequent')),\n",
    "    ('onehot', OneHotEncoder(drop='first'))\n",
    "])\n",
    "\n",
    "# Числовые трансформеры\n",
    "num_transformer_standard = Pipeline(steps=[\n",
    "    ('imputer', SimpleImputer(strategy='median')),\n",
    "    ('scaler', StandardScaler())\n",
    "])\n",
    "\n",
    "num_transformer_minmax = Pipeline(steps=[\n",
    "    ('imputer', SimpleImputer(strategy='median')),\n",
    "    ('scaler', MinMaxScaler())\n",
    "])\n",
    "\n",
    "# Два варианта препроцессора\n",
    "preprocessor_options = {\n",
    "    'standard': ColumnTransformer([\n",
    "        ('num', num_transformer_standard, num_features),\n",
    "        ('cat', cat_transformer, cat_features)\n",
    "    ]),\n",
    "    'minmax': ColumnTransformer([\n",
    "        ('num', num_transformer_minmax, num_features),\n",
    "        ('cat', cat_transformer, cat_features)\n",
    "    ])\n",
    "}\n",
    "\n",
    "# Словарь моделей с гиперпараметрами, включая препроцессор\n",
    "models = {\n",
    "    'LogisticRegression': {\n",
    "        'model': LogisticRegression(max_iter=1000),\n",
    "        'params': {\n",
    "            'preprocessor': [preprocessor_options['standard'], preprocessor_options['minmax']],\n",
    "            'model__C': [0.01, 0.1, 1, 10]\n",
    "        }\n",
    "    },\n",
    "    'DecisionTree': {\n",
    "        'model': DecisionTreeClassifier(random_state=42),\n",
    "        'params': {\n",
    "            'preprocessor': [preprocessor_options['standard'], preprocessor_options['minmax']],\n",
    "            'model__max_depth': [3, 5, 10, 15],\n",
    "            'model__min_samples_split': [2, 5, 10]\n",
    "        }\n",
    "    },\n",
    "    'KNeighbors': {\n",
    "        'model': KNeighborsClassifier(),\n",
    "        'params': {\n",
    "            'preprocessor': [preprocessor_options['standard'], preprocessor_options['minmax']],\n",
    "            'model__n_neighbors': [3, 5, 7, 9],\n",
    "            'model__weights': ['uniform', 'distance']\n",
    "        }\n",
    "    },\n",
    "    'SVC': {\n",
    "        'model': SVC(probability=True),\n",
    "        'params': {\n",
    "            'preprocessor': [preprocessor_options['standard'], preprocessor_options['minmax']],\n",
    "            'model__C': [0.1, 1, 10],\n",
    "            'model__kernel': ['linear', 'rbf']\n",
    "        }\n",
    "    }\n",
    "}\n"
   ]
  },
  {
   "cell_type": "markdown",
   "metadata": {},
   "source": [
    "<div class=\"alert alert-block alert-danger\">\n",
    "<h2><s> Комментарий ревьюера <a class=\"tocSkip\"></h2>\n",
    "  \n",
    "<b>На доработку🤔:</b>\n",
    " \n",
    "Важно избегать дамми-ловушки и удалять одну из категорий признака при энкодинге. Делаем это с помощью аргумента `drop='first'`.\n",
    "\n",
    "\n",
    "https://colab.research.google.com/drive/1_gAMXcQKoCShB_l8FNtYEejMnosm9mvt?usp=sharing  \n",
    "    \n",
    "</div>\n",
    "\n",
    "<div class=\"alert alert-success\">\n",
    "<h2> Комментарий ревьюера <a class=\"tocSkip\"> </h2>\n",
    "     \n",
    "Чтобы учитывать категории, которые встретятся в тестовой выборке, но которые не попадут в обучающую, нужно использовать параметр `handle_unknown='ignore’`.\n",
    "    \n",
    "Есть загвоздка, что нам нужно будет одновременно использовать параметры drop='first' и handle_unknown='ignore’.  в OHE, а на платформе такое сочетание может выдавать ошибку (в части случаев). Если ошибка появляется, необходимо загрузить нужную версию сайкит-лерна. Для этого:\n",
    "\n",
    "1. В отдельной строке в самом начале проекта запускаем такую команду:\n",
    " `!pip install scikit-learn==1.1.3 -q`\n",
    "     \n",
    "2. Находим в меню юпитера кнопку `Kernel`, нажимаем и выбираем Restart&Run all \n",
    "\n",
    "\n",
    "</div>  \n"
   ]
  },
  {
   "cell_type": "markdown",
   "metadata": {},
   "source": [
    "<div class=\"alert alert-block alert-danger\">\n",
    "<h2> Комментарий ревьюера <a class=\"tocSkip\"></h2>\n",
    "  \n",
    "<b>На доработку🤔:</b>\n",
    "    \n",
    "Смотри, технически все верно, но в задании нас явно просят использовать несколько вариантов масштабирования. Нужно посмотреть как стандартскелер, так и минмаксскеллер. Давай реализуем этот вариант. Кажется, в тренажере как раз было что-то похожее в примерах."
   ]
  },
  {
   "cell_type": "markdown",
   "metadata": {},
   "source": [
    "<div class=\"alert alert-block alert-danger\" style=\"border-radius: 15px; box-shadow: 4px 4px 4px; border: 1px solid \">\n",
    "<h2><s> Комментарий ревьюера #2 <a class=\"tocSkip\"></h2>\n",
    "  \n",
    "<b>На доработку🤔:</b>\n",
    " \n",
    "Нужно использовать несколько вариантов масштабирования как гиперпараметр - то есть для каждой модели через запятую.\n",
    "\n",
    "</div>\n"
   ]
  },
  {
   "cell_type": "markdown",
   "metadata": {},
   "source": [
    "<div style=\"border:solid Lime 2px; padding: 40px\">\n",
    "<font color=Blue>\n",
    "\n",
    "\n",
    "<div class=\"alert alert-success\"  style=\"border-radius: 15px; box-shadow: 4px 4px 4px; border: 1px solid \">\n",
    "<h2> Комментарий ревьюера #3 <a class=\"tocSkip\"> </h2>    \n",
    "\n",
    "👍 Верно.\n",
    "    \n",
    "Еще вариант: `'preprocessor__num__scaler': [StandardScaler(), MinMaxScaler(), 'passthrough'], `\n",
    "</div>\n"
   ]
  },
  {
   "cell_type": "code",
   "execution_count": 32,
   "metadata": {},
   "outputs": [
    {
     "name": "stdout",
     "output_type": "stream",
     "text": [
      "\n",
      "====== Поиск по модели: LogisticRegression ======\n",
      "ROC AUC: 0.9013\n",
      "\n",
      "====== Поиск по модели: DecisionTree ======\n",
      "ROC AUC: 0.8729\n",
      "\n",
      "====== Поиск по модели: KNeighbors ======\n",
      "ROC AUC: 0.8876\n",
      "\n",
      "====== Поиск по модели: SVC ======\n",
      "ROC AUC: 0.9020\n"
     ]
    }
   ],
   "source": [
    "best_models = {}\n",
    "\n",
    "for name, item in models.items():\n",
    "    print(f\"\\n====== Поиск по модели: {name} ======\")\n",
    "    \n",
    "    # Собираем общий пайплайн с плейсхолдером препроцессора\n",
    "    pipe = Pipeline(steps=[\n",
    "        ('preprocessor', 'passthrough'),  # будет заменено GridSearch'ем\n",
    "        ('model', item['model'])\n",
    "    ])\n",
    "\n",
    "    # RandomizedSearchCV\n",
    "    search = RandomizedSearchCV(\n",
    "        pipe,\n",
    "        item['params'],\n",
    "        scoring='roc_auc',\n",
    "        cv=5,\n",
    "        n_iter=10,\n",
    "        random_state=42,\n",
    "        n_jobs=-1\n",
    "    )\n",
    "    \n",
    "    # Обучение\n",
    "    search.fit(X_train, y_train)\n",
    "    y_pred_proba = search.predict_proba(X_test)[:, 1]\n",
    "    score = roc_auc_score(y_test, y_pred_proba)\n",
    "    print(f\"ROC AUC: {score:.4f}\")\n",
    "    \n",
    "    # Сохраняем результат\n",
    "    best_models[name] = {\n",
    "        'model': search.best_estimator_,\n",
    "        'score': score\n",
    "    }\n"
   ]
  },
  {
   "cell_type": "markdown",
   "metadata": {},
   "source": [
    "<div class=\"alert alert-success\">\n",
    "<h2> Комментарий ревьюера <a class=\"tocSkip\"> </h2>\n",
    "\n",
    "👍 Отлично. На тесте ROC_AUC смотрим по вероятностям классов.\n",
    "</div>  \n",
    " \n"
   ]
  },
  {
   "cell_type": "markdown",
   "metadata": {},
   "source": [
    "### Вывод по шагу 6: Построение моделей\n",
    "\n",
    "- Были обучены четыре модели (`LogisticRegression`, `DecisionTree`, `KNeighbors`, `SVC`) с использованием пайплайнов и подбором гиперпараметров через `RandomizedSearchCV`.\n",
    "- В качестве основной метрики использовался ROC AUC, поскольку задача является бинарной классификацией с умеренным дисбалансом классов.\n",
    "- Для всех моделей были протестированы два варианта масштабирования признаков: `StandardScaler` и `MinMaxScaler`, как того требует задание.\n",
    "- Наилучшую производительность показала модель `SVC`, достигнув ROC AUC = **0.9020**.\n",
    "- Высокие результаты также показали:\n",
    "  - `LogisticRegression` — ROC AUC = **0.9013**\n",
    "  - `KNeighborsClassifier` — ROC AUC = **0.8876**\n",
    "- Модель `DecisionTree` показала наименьшую эффективность — ROC AUC = **0.8729**.\n",
    "- Для дальнейшего анализа важности признаков и интерпретации модели будет использоваться **модель `SVC`**, как показавшая наилучшее качество классификации.\n"
   ]
  },
  {
   "cell_type": "markdown",
   "metadata": {},
   "source": [
    "<div class=\"alert alert-success\">\n",
    "<h2> Комментарий ревьюера <a class=\"tocSkip\"> </h2>\n",
    "\n",
    "👍 Все так. Конркетно в нашей задаче нам важно лишь то, что эта метрика учитывает и полноту, и точность комплексно, а не по отдельности.\n",
    "    \n",
    "Дисбаланс классов у нас небольшой, порог нам подбирать не нужно, поэтому в целом подошли бы и остальные комплексные метрики : f1, accuracy.\n",
    "</div> \n"
   ]
  },
  {
   "cell_type": "markdown",
   "metadata": {},
   "source": [
    "# Интерпретация модели"
   ]
  },
  {
   "cell_type": "code",
   "execution_count": 33,
   "metadata": {},
   "outputs": [
    {
     "name": "stdout",
     "output_type": "stream",
     "text": [
      "Лучшая модель: SVC с ROC AUC = 0.9020\n",
      "MinMaxScaler()\n"
     ]
    }
   ],
   "source": [
    "# Найдём модель с наивысшим ROC AUC\n",
    "best_key = max(best_models, key=lambda k: best_models[k]['score'])\n",
    "best_model = best_models[best_key]['model']\n",
    "\n",
    "print(f'Лучшая модель: {best_key} с ROC AUC = {best_models[best_key][\"score\"]:.4f}')\n",
    "\n",
    "# Извлекаем препроцессор и модель из пайплайна\n",
    "preprocessor = best_model.named_steps['preprocessor']\n",
    "model = best_model.named_steps['model']\n",
    "print(preprocessor.transformers[0][1].named_steps['scaler'])"
   ]
  },
  {
   "cell_type": "code",
   "execution_count": 34,
   "metadata": {},
   "outputs": [],
   "source": [
    "# Преобразуем обучающую выборку\n",
    "X_train_transformed = preprocessor.transform(X_train)\n",
    "\n",
    "# Получаем имена категориальных признаков (OneHotEncoder с drop='first')\n",
    "ohe = preprocessor.named_transformers_['cat'].named_steps['onehot']\n",
    "ohe_feature_names = ohe.get_feature_names(cat_features)\n",
    "\n",
    "# Объединяем с числовыми\n",
    "all_feature_names = list(ohe_feature_names) + num_features"
   ]
  },
  {
   "cell_type": "code",
   "execution_count": 35,
   "metadata": {},
   "outputs": [
    {
     "data": {
      "image/png": "[encoded data removed]",
      "text/plain": [
       "<Figure size 1296x936 with 2 Axes>"
      ]
     },
     "metadata": {
      "needs_background": "light"
     },
     "output_type": "display_data"
    }
   ],
   "source": [
    "# Найдём лучшую LogisticRegression по score\n",
    "log_keys = [k for k in best_models if k.startswith('LogisticRegression')]\n",
    "best_log_key = max(log_keys, key=lambda k: best_models[k]['score'])\n",
    "log_model = best_models[best_log_key]['model']\n",
    "\n",
    "# Получаем препроцессор и обученные данные\n",
    "preprocessor = log_model.named_steps['preprocessor']\n",
    "model = log_model.named_steps['model']\n",
    "\n",
    "# Преобразуем обучающую выборку\n",
    "X_train_transformed = preprocessor.transform(X_train)\n",
    "\n",
    "# Получаем имена признаков\n",
    "ohe = preprocessor.named_transformers_['cat'].named_steps['onehot']\n",
    "ohe_feature_names = ohe.get_feature_names(cat_features)\n",
    "all_feature_names = num_features + list(ohe_feature_names)\n",
    "\n",
    "# Преобразуем массив в DataFrame\n",
    "X_train_df = pd.DataFrame(X_train_transformed, columns=all_feature_names)\n",
    "\n",
    "# SHAP для LogisticRegression\n",
    "explainer = shap.Explainer(model, X_train_df)\n",
    "shap_values = explainer(X_train_df)\n",
    "\n",
    "# График\n",
    "shap.summary_plot(\n",
    "    shap_values.values,\n",
    "    features=X_train_df,\n",
    "    feature_names=all_feature_names,\n",
    "    show=True,\n",
    "    plot_size=(18, 13)  \n",
    ")\n"
   ]
  },
  {
   "cell_type": "markdown",
   "metadata": {},
   "source": [
    "\n",
    "<div class=\"alert alert-block alert-danger\">\n",
    "<h2><S> Комментарий ревьюера <a class=\"tocSkip\"></h2>\n",
    "  \n",
    "<b>На доработку🤔:</b>\n",
    "    \n",
    "Кажется, что по коду все верно, график сейчас нечитаемый, тут нужно просто поправить по размеру графика, увеличить его ширину. Тогда все будет ок. Это такой известный баг shap, но важно его поправить, ведь нам необходимо как-то проанализировать график."
   ]
  },
  {
   "cell_type": "markdown",
   "metadata": {},
   "source": [
    "\n",
    "<div class=\"alert alert-success\">\n",
    "<h2> Комментарий ревьюера #2 <a class=\"tocSkip\"> </h2>\n",
    "\n",
    "👍 Согласен.\n",
    "</div>"
   ]
  },
  {
   "cell_type": "markdown",
   "metadata": {},
   "source": [
    "### Вывод по шагу 7: Интерпретация модели\n",
    "\n",
    "- Наибольшее влияние на предсказание снижения покупательской активности оказали следующие признаки:\n",
    "  - **`Страниц_за_визит`** и **`Средний_просмотр_категорий_за_визит`** — пользователи, более активно изучающие сайт, имеют меньший риск снижения активности.\n",
    "  - **`Неоплаченные_продукты_штук_квартал`** — большое количество брошенных товаров в корзине положительно связано с риском оттока.\n",
    "  - **`Акционные_покупки`** — частое участие в акциях — важный фактор, сдвигающий предсказание в сторону оттока.\n",
    "  - **`Маркет_актив_6_мес`** — длительное воздействие маркетинговых кампаний связано с повышенным риском, особенно при высоких значениях.\n",
    "\n",
    "- Значимое влияние также оказывают:\n",
    "  - Некоторые **категориальные признаки**, особенно покупатели, предпочитающие категории «Мелкая бытовая техника» и «Техника для красоты» — они чаще относятся к клиентам с пониженной лояльностью.\n",
    "  - **`Ошибка_сервиса`** и **`Длительность`** (в днях с момента регистрации) — отражают пользовательский опыт и зрелость клиента.\n",
    "\n",
    "- Менее значимыми для модели оказались:\n",
    "  - **`Маркет_актив_тек_мес`**, **`Тип сервиса_стандарт`**, **`Разрешить сообщать`**, а также популярные категории «Косметика», «Кухонная посуда» и «Товары для детей».\n",
    "\n",
    "- **Вывод:** наиболее информативными для модели являются признаки, отражающие **вовлечённость клиента на сайте** и **его реакцию на маркетинговую активность**. Эти данные следует учитывать при сегментации клиентов и формировании стратегий персонализированного удержания.\n"
   ]
  },
  {
   "cell_type": "markdown",
   "metadata": {},
   "source": [
    "<div class=\"alert alert-success\">\n",
    "<h2> Комментарий ревьюера <a class=\"tocSkip\"> </h2>\n",
    "\n",
    "👍 Не знаю как, но график ты проанализировал :)"
   ]
  },
  {
   "cell_type": "markdown",
   "metadata": {},
   "source": [
    "# Сегментация клиентов и рекомендации"
   ]
  },
  {
   "cell_type": "markdown",
   "metadata": {},
   "source": [
    "<div class=\"alert alert-warning\">\n",
    "<h2> Комментарий ревьюера <a class=\"tocSkip\"> </h2>\n",
    "    \n",
    "<b>Некоторые замечания и рекомендации💡:</b> \n",
    "\n",
    "В самом начале было бы логично прописать, како сегмент и почему мы выбрали для анализа.\n",
    "    \n",
    "Логика может быть следующей: выше мы исследовали, чем активные клиенты различаются с клиентами, чья активность снижается. Проанализировали все закономерности итд, а здесь мы на основе анализа выбираем группу, активность которой нам вагоднее удерживать в первую очередь. Или группу, исследование которой может уточнить наши выводы о данных.\n",
    "\n",
    "\n"
   ]
  },
  {
   "cell_type": "markdown",
   "metadata": {},
   "source": [
    "### Шаг 8: Сегментация клиентов и рекомендации\n",
    "\n",
    "#### Цель сегментации\n",
    "\n",
    "На предыдущих этапах мы изучили поведение клиентов, у которых снизилась активность, и определили ключевые признаки, влияющие на отток: низкая вовлечённость на сайте, ориентация на акции, меньший объём выручки. \n",
    "\n",
    "Теперь на основе модели и вероятностей снижения активности мы выделим конкретные группы клиентов для дальнейшего анализа и персонализированных действий. Задача — определить, какие сегменты наиболее важны для удержания или требуют внимания с точки зрения маркетинга.\n",
    "\n",
    "---\n",
    "\n",
    "####  Логика выбора сегментов\n",
    "\n",
    "Решил рассмотреть **три сегмента**, каждый из которых имеет бизнес-значимость:\n",
    "\n",
    "- **Сегмент A:**  \n",
    "  Клиенты с **высокой вероятностью снижения активности** и одновременно **высокой прибылью**.  \n",
    "  Это ключевая группа для приоритетного удержания — потеря этих клиентов будет самой болезненной для бизнеса.\n",
    "\n",
    "- **Сегмент B:**  \n",
    "  Клиенты с **высокой долей акционных покупок** и **средней прибылью**.  \n",
    "  Возможен риск формирования зависимости от скидок и, как следствие, снижения маржинальности. Сегмент важен для переосмысления маркетинговых стратегий.\n",
    "\n",
    "- **Сегмент C:**  \n",
    "  Клиенты, покупающие **товары для детей**, и при этом имеющие **повышенный риск оттока**.  \n",
    "  Возможный признак того, что в категории «Товары для детей» есть проблемы с интересом/удержанием, несмотря на важность этой аудитории (например, молодые семьи).\n",
    "  \n",
    "#### Почему выбраны именно три сегмента\n",
    "\n",
    "При сегментации мы не просто разделяем пользователей, а выделяем группы с разными бизнес-рисками и поведенческими паттернами:\n",
    "\n",
    "- **Сегмент A** охватывает клиентов, чья потеря наиболее критична из-за высокой прибыли.\n",
    "- **Сегмент B** позволяет оценить эффективность маркетинга и выявить клиентов, склонных к скидкам.\n",
    "- **Сегмент C** важен для анализа поведения в конкретной товарной категории с потенциальным риском.\n",
    "\n",
    "Такой выбор охватывает три разные бизнес-гипотезы: удержание ценных клиентов, управление маржинальностью, и корректировка товарных стратегий."
   ]
  },
  {
   "cell_type": "markdown",
   "metadata": {},
   "source": [
    "<div class=\"alert alert-success\">\n",
    "<h2> Комментарий ревьюера #2 <a class=\"tocSkip\"> </h2>\n",
    "\n",
    "👍 Хорошо, логика ясна.\n",
    "</div>\n"
   ]
  },
  {
   "cell_type": "code",
   "execution_count": 36,
   "metadata": {},
   "outputs": [
    {
     "data": {
      "text/html": [
       "<div>\n",
       "<style scoped>\n",
       "    .dataframe tbody tr th:only-of-type {\n",
       "        vertical-align: middle;\n",
       "    }\n",
       "\n",
       "    .dataframe tbody tr th {\n",
       "        vertical-align: top;\n",
       "    }\n",
       "\n",
       "    .dataframe thead th {\n",
       "        text-align: right;\n",
       "    }\n",
       "</style>\n",
       "<table border=\"1\" class=\"dataframe\">\n",
       "  <thead>\n",
       "    <tr style=\"text-align: right;\">\n",
       "      <th></th>\n",
       "      <th>id</th>\n",
       "      <th>Вероятность_оттока</th>\n",
       "      <th>Прибыль</th>\n",
       "      <th>Акционные_покупки</th>\n",
       "      <th>Популярная_категория</th>\n",
       "    </tr>\n",
       "  </thead>\n",
       "  <tbody>\n",
       "    <tr>\n",
       "      <th>0</th>\n",
       "      <td>215349</td>\n",
       "      <td>0.936855</td>\n",
       "      <td>4.16</td>\n",
       "      <td>0.75</td>\n",
       "      <td>Товары для детей</td>\n",
       "    </tr>\n",
       "    <tr>\n",
       "      <th>1</th>\n",
       "      <td>215350</td>\n",
       "      <td>0.290335</td>\n",
       "      <td>3.13</td>\n",
       "      <td>0.14</td>\n",
       "      <td>Домашний текстиль</td>\n",
       "    </tr>\n",
       "    <tr>\n",
       "      <th>2</th>\n",
       "      <td>215351</td>\n",
       "      <td>0.892643</td>\n",
       "      <td>4.87</td>\n",
       "      <td>0.99</td>\n",
       "      <td>Товары для детей</td>\n",
       "    </tr>\n",
       "    <tr>\n",
       "      <th>3</th>\n",
       "      <td>215352</td>\n",
       "      <td>0.907577</td>\n",
       "      <td>4.21</td>\n",
       "      <td>0.94</td>\n",
       "      <td>Товары для детей</td>\n",
       "    </tr>\n",
       "    <tr>\n",
       "      <th>4</th>\n",
       "      <td>215353</td>\n",
       "      <td>0.748821</td>\n",
       "      <td>3.95</td>\n",
       "      <td>0.26</td>\n",
       "      <td>Домашний текстиль</td>\n",
       "    </tr>\n",
       "  </tbody>\n",
       "</table>\n",
       "</div>"
      ],
      "text/plain": [
       "       id  Вероятность_оттока  Прибыль  Акционные_покупки Популярная_категория\n",
       "0  215349            0.936855     4.16               0.75     Товары для детей\n",
       "1  215350            0.290335     3.13               0.14    Домашний текстиль\n",
       "2  215351            0.892643     4.87               0.99     Товары для детей\n",
       "3  215352            0.907577     4.21               0.94     Товары для детей\n",
       "4  215353            0.748821     3.95               0.26    Домашний текстиль"
      ]
     },
     "metadata": {},
     "output_type": "display_data"
    }
   ],
   "source": [
    "# 1. Предсказания вероятности оттока\n",
    "X_all = df_full.drop(columns=['Покупательская активность'])\n",
    "y_all = df_full['Покупательская активность']\n",
    "\n",
    "# Получаем вероятности из модели (1 — \"Снизилась\")\n",
    "proba = best_model.predict_proba(X_all)[:, 1]\n",
    "\n",
    "# Сохраняем в датафрейм\n",
    "df_segmentation = pd.DataFrame({\n",
    "    'id': X_all['id'],\n",
    "    'Вероятность_оттока': proba\n",
    "})\n",
    "\n",
    "# 2. Присоединяем прибыль\n",
    "df_segmentation = df_segmentation.merge(df_profit, on='id', how='left')\n",
    "\n",
    "# 3. Добавим нужные признаки из df_full\n",
    "df_segmentation = df_segmentation.merge(\n",
    "    df_full[['id', 'Акционные_покупки', 'Популярная_категория']],\n",
    "    on='id',\n",
    "    how='left'\n",
    ")\n",
    "\n",
    "# Посмотрим результат\n",
    "display(df_segmentation.head())\n"
   ]
  },
  {
   "cell_type": "code",
   "execution_count": 37,
   "metadata": {},
   "outputs": [
    {
     "name": "stdout",
     "output_type": "stream",
     "text": [
      "Сегмент A: 186 клиентов\n",
      "Сегмент B: 80 клиентов\n",
      "Сегмент C: 132 клиентов\n"
     ]
    }
   ],
   "source": [
    "# Сегмент A: высокая прибыль и высокий риск оттока\n",
    "segment_A = df_segmentation[\n",
    "    (df_segmentation['Вероятность_оттока'] > 0.7) &\n",
    "    (df_segmentation['Прибыль'] > 4.0)\n",
    "]\n",
    "\n",
    "# Сегмент B: высокая доля акционных покупок и средняя прибыль\n",
    "segment_B = df_segmentation[\n",
    "    (df_segmentation['Акционные_покупки'] > 0.7) &\n",
    "    (df_segmentation['Прибыль'].between(2.0, 4.0))\n",
    "]\n",
    "\n",
    "# Сегмент C: покупатели товаров для детей с риском оттока\n",
    "segment_C = df_segmentation[\n",
    "    (df_segmentation['Популярная_категория'] == 'Товары для детей') &\n",
    "    (df_segmentation['Вероятность_оттока'] > 0.5)\n",
    "]\n",
    "\n",
    "# Проверим размеры\n",
    "print(f'Сегмент A: {segment_A.shape[0]} клиентов')\n",
    "print(f'Сегмент B: {segment_B.shape[0]} клиентов')\n",
    "print(f'Сегмент C: {segment_C.shape[0]} клиентов')\n"
   ]
  },
  {
   "cell_type": "markdown",
   "metadata": {},
   "source": [
    "### 12.7.4 Вывод по шагу 8: Сегментация клиентов и рекомендации\n",
    "\n",
    "На основе предсказанных вероятностей оттока и бизнес-признаков были выделены три ключевых сегмента:\n",
    "\n",
    "- **Сегмент A** — 186 клиентов с высокой прибылью и одновременно высоким риском оттока.  \n",
    "  Критически важны для удержания: приоритет №1.\n",
    "\n",
    "- **Сегмент B** — 80 клиентов с высокой долей акционных покупок и средней прибылью.  \n",
    "  Требуют переосмысления маркетинговых подходов: риск убыточности.\n",
    "\n",
    "- **Сегмент C** — 132 клиента, покупающих товары для детей, с повышенным риском оттока.  \n",
    "  Возможные проблемы в удержании целевой категории: важно проверить пользовательский путь и товарное предложение.\n",
    "\n",
    "Сегменты не пересекаются и отражают три разные бизнес-гипотезы.  \n",
    "Итогом сегментации стало построение фокуса для последующих действий: удержание, коррекция маркетинга и анализ проблемных товарных направлений.\n"
   ]
  },
  {
   "cell_type": "markdown",
   "metadata": {},
   "source": [
    "<div class=\"alert alert-block alert-danger\">\n",
    "<h2><s> Комментарий ревьюера <a class=\"tocSkip\"></h2>\n",
    "  \n",
    "<b>На доработку🤔:</b>\n",
    "    \n",
    "Здесь обязательно нужно пояснть, что и зачем делаешь. Для стороннего читателя (например, меня) вообще неочевидна логика и цели действий. Какую гипотезу проверяешь, почему именно так делишь на сегменты? Почему сегментов несколько? "
   ]
  },
  {
   "cell_type": "code",
   "execution_count": 38,
   "metadata": {},
   "outputs": [
    {
     "data": {
      "image/png": "[encoded data removed]",
      "text/plain": [
       "<Figure size 864x576 with 4 Axes>"
      ]
     },
     "metadata": {
      "needs_background": "light"
     },
     "output_type": "display_data"
    },
    {
     "name": "stdout",
     "output_type": "stream",
     "text": [
      "Средняя прибыль: 4.74\n",
      "Средняя вероятность оттока: 0.9\n",
      "Средняя доля акционных покупок: 0.54\n",
      "\n",
      "Категории товаров:\n",
      "Товары для детей                        67\n",
      "Косметика и аксесуары                   42\n",
      "Домашний текстиль                       33\n",
      "Кухонная посуда                         23\n",
      "Техника для красоты и здоровья          15\n",
      "Мелкая бытовая техника и электроника     6\n",
      "Name: Популярная_категория, dtype: int64\n"
     ]
    }
   ],
   "source": [
    "\n",
    "# 1. Визуализация распределений\n",
    "plt.figure(figsize=(12, 8))\n",
    "\n",
    "plt.subplot(2, 2, 1)\n",
    "plt.hist(segment_A['Прибыль'], bins=10, edgecolor='black')\n",
    "plt.title('Прибыль (Сегмент A)')\n",
    "\n",
    "plt.subplot(2, 2, 2)\n",
    "plt.hist(segment_A['Вероятность_оттока'], bins=10, edgecolor='black')\n",
    "plt.title('Вероятность оттока (Сегмент A)')\n",
    "\n",
    "plt.subplot(2, 2, 3)\n",
    "plt.hist(segment_A['Акционные_покупки'], bins=10, edgecolor='black')\n",
    "plt.title('Доля акционных покупок (Сегмент A)')\n",
    "\n",
    "plt.subplot(2, 2, 4)\n",
    "segment_A['Популярная_категория'].value_counts().plot(kind='bar')\n",
    "plt.title('Популярные категории (Сегмент A)')\n",
    "plt.xticks(rotation=45)\n",
    "\n",
    "plt.tight_layout()\n",
    "plt.show()\n",
    "\n",
    "# 2. Сводные характеристики\n",
    "print(\"Средняя прибыль:\", round(segment_A['Прибыль'].mean(), 2))\n",
    "print(\"Средняя вероятность оттока:\", round(segment_A['Вероятность_оттока'].mean(), 2))\n",
    "print(\"Средняя доля акционных покупок:\", round(segment_A['Акционные_покупки'].mean(), 2))\n",
    "print(\"\\nКатегории товаров:\")\n",
    "print(segment_A['Популярная_категория'].value_counts())\n"
   ]
  },
  {
   "cell_type": "code",
   "execution_count": 39,
   "metadata": {},
   "outputs": [
    {
     "name": "stdout",
     "output_type": "stream",
     "text": [
      "Index(['id', 'Покупательская активность', 'Тип сервиса', 'Разрешить сообщать',\n",
      "       'Маркет_актив_6_мес', 'Маркет_актив_тек_мес', 'Длительность',\n",
      "       'Акционные_покупки', 'Популярная_категория',\n",
      "       'Средний_просмотр_категорий_за_визит',\n",
      "       'Неоплаченные_продукты_штук_квартал', 'Ошибка_сервиса',\n",
      "       'Страниц_за_визит', 'Выручка_предыдущий', 'Выручка_препредыдущий',\n",
      "       'Выручка_текущий', 'Время_предыдущий', 'Время_текущий'],\n",
      "      dtype='object')\n"
     ]
    }
   ],
   "source": [
    "print(df_full.columns)\n"
   ]
  },
  {
   "cell_type": "code",
   "execution_count": 40,
   "metadata": {
    "scrolled": false
   },
   "outputs": [
    {
     "name": "stdout",
     "output_type": "stream",
     "text": [
      "\n",
      "Сегмент A: Средняя динамика выручки по категориям\n"
     ]
    },
    {
     "data": {
      "text/html": [
       "<div>\n",
       "<style scoped>\n",
       "    .dataframe tbody tr th:only-of-type {\n",
       "        vertical-align: middle;\n",
       "    }\n",
       "\n",
       "    .dataframe tbody tr th {\n",
       "        vertical-align: top;\n",
       "    }\n",
       "\n",
       "    .dataframe thead th {\n",
       "        text-align: right;\n",
       "    }\n",
       "</style>\n",
       "<table border=\"1\" class=\"dataframe\">\n",
       "  <thead>\n",
       "    <tr style=\"text-align: right;\">\n",
       "      <th></th>\n",
       "      <th>тек_пред</th>\n",
       "      <th>пред_до</th>\n",
       "    </tr>\n",
       "    <tr>\n",
       "      <th>Популярная_категория</th>\n",
       "      <th></th>\n",
       "      <th></th>\n",
       "    </tr>\n",
       "  </thead>\n",
       "  <tbody>\n",
       "    <tr>\n",
       "      <th>Домашний текстиль</th>\n",
       "      <td>281.93</td>\n",
       "      <td>530.39</td>\n",
       "    </tr>\n",
       "    <tr>\n",
       "      <th>Косметика и аксесуары</th>\n",
       "      <td>366.81</td>\n",
       "      <td>636.31</td>\n",
       "    </tr>\n",
       "    <tr>\n",
       "      <th>Кухонная посуда</th>\n",
       "      <td>303.68</td>\n",
       "      <td>725.07</td>\n",
       "    </tr>\n",
       "    <tr>\n",
       "      <th>Мелкая бытовая техника и электроника</th>\n",
       "      <td>197.38</td>\n",
       "      <td>583.75</td>\n",
       "    </tr>\n",
       "    <tr>\n",
       "      <th>Техника для красоты и здоровья</th>\n",
       "      <td>340.34</td>\n",
       "      <td>-306.73</td>\n",
       "    </tr>\n",
       "    <tr>\n",
       "      <th>Товары для детей</th>\n",
       "      <td>226.18</td>\n",
       "      <td>41.08</td>\n",
       "    </tr>\n",
       "  </tbody>\n",
       "</table>\n",
       "</div>"
      ],
      "text/plain": [
       "                                      тек_пред  пред_до\n",
       "Популярная_категория                                   \n",
       "Домашний текстиль                       281.93   530.39\n",
       "Косметика и аксесуары                   366.81   636.31\n",
       "Кухонная посуда                         303.68   725.07\n",
       "Мелкая бытовая техника и электроника    197.38   583.75\n",
       "Техника для красоты и здоровья          340.34  -306.73\n",
       "Товары для детей                        226.18    41.08"
      ]
     },
     "metadata": {},
     "output_type": "display_data"
    },
    {
     "data": {
      "image/png": "[encoded data removed]",
      "text/plain": [
       "<Figure size 720x360 with 1 Axes>"
      ]
     },
     "metadata": {
      "needs_background": "light"
     },
     "output_type": "display_data"
    },
    {
     "name": "stdout",
     "output_type": "stream",
     "text": [
      "\n",
      "Сегмент B: Средняя динамика выручки по категориям\n"
     ]
    },
    {
     "data": {
      "text/html": [
       "<div>\n",
       "<style scoped>\n",
       "    .dataframe tbody tr th:only-of-type {\n",
       "        vertical-align: middle;\n",
       "    }\n",
       "\n",
       "    .dataframe tbody tr th {\n",
       "        vertical-align: top;\n",
       "    }\n",
       "\n",
       "    .dataframe thead th {\n",
       "        text-align: right;\n",
       "    }\n",
       "</style>\n",
       "<table border=\"1\" class=\"dataframe\">\n",
       "  <thead>\n",
       "    <tr style=\"text-align: right;\">\n",
       "      <th></th>\n",
       "      <th>тек_пред</th>\n",
       "      <th>пред_до</th>\n",
       "    </tr>\n",
       "    <tr>\n",
       "      <th>Популярная_категория</th>\n",
       "      <th></th>\n",
       "      <th></th>\n",
       "    </tr>\n",
       "  </thead>\n",
       "  <tbody>\n",
       "    <tr>\n",
       "      <th>Домашний текстиль</th>\n",
       "      <td>263.47</td>\n",
       "      <td>239.62</td>\n",
       "    </tr>\n",
       "    <tr>\n",
       "      <th>Косметика и аксесуары</th>\n",
       "      <td>233.89</td>\n",
       "      <td>548.07</td>\n",
       "    </tr>\n",
       "    <tr>\n",
       "      <th>Кухонная посуда</th>\n",
       "      <td>293.70</td>\n",
       "      <td>701.31</td>\n",
       "    </tr>\n",
       "    <tr>\n",
       "      <th>Мелкая бытовая техника и электроника</th>\n",
       "      <td>195.58</td>\n",
       "      <td>126.00</td>\n",
       "    </tr>\n",
       "    <tr>\n",
       "      <th>Техника для красоты и здоровья</th>\n",
       "      <td>343.29</td>\n",
       "      <td>-40.33</td>\n",
       "    </tr>\n",
       "    <tr>\n",
       "      <th>Товары для детей</th>\n",
       "      <td>323.79</td>\n",
       "      <td>-38.94</td>\n",
       "    </tr>\n",
       "  </tbody>\n",
       "</table>\n",
       "</div>"
      ],
      "text/plain": [
       "                                      тек_пред  пред_до\n",
       "Популярная_категория                                   \n",
       "Домашний текстиль                       263.47   239.62\n",
       "Косметика и аксесуары                   233.89   548.07\n",
       "Кухонная посуда                         293.70   701.31\n",
       "Мелкая бытовая техника и электроника    195.58   126.00\n",
       "Техника для красоты и здоровья          343.29   -40.33\n",
       "Товары для детей                        323.79   -38.94"
      ]
     },
     "metadata": {},
     "output_type": "display_data"
    },
    {
     "data": {
      "image/png": "[encoded data removed]",
      "text/plain": [
       "<Figure size 720x360 with 1 Axes>"
      ]
     },
     "metadata": {
      "needs_background": "light"
     },
     "output_type": "display_data"
    },
    {
     "name": "stdout",
     "output_type": "stream",
     "text": [
      "\n",
      "Сегмент C: Средняя динамика выручки по категориям\n"
     ]
    },
    {
     "data": {
      "text/html": [
       "<div>\n",
       "<style scoped>\n",
       "    .dataframe tbody tr th:only-of-type {\n",
       "        vertical-align: middle;\n",
       "    }\n",
       "\n",
       "    .dataframe tbody tr th {\n",
       "        vertical-align: top;\n",
       "    }\n",
       "\n",
       "    .dataframe thead th {\n",
       "        text-align: right;\n",
       "    }\n",
       "</style>\n",
       "<table border=\"1\" class=\"dataframe\">\n",
       "  <thead>\n",
       "    <tr style=\"text-align: right;\">\n",
       "      <th></th>\n",
       "      <th>тек_пред</th>\n",
       "      <th>пред_до</th>\n",
       "    </tr>\n",
       "    <tr>\n",
       "      <th>Популярная_категория</th>\n",
       "      <th></th>\n",
       "      <th></th>\n",
       "    </tr>\n",
       "  </thead>\n",
       "  <tbody>\n",
       "    <tr>\n",
       "      <th>Товары для детей</th>\n",
       "      <td>284.67</td>\n",
       "      <td>-15.87</td>\n",
       "    </tr>\n",
       "  </tbody>\n",
       "</table>\n",
       "</div>"
      ],
      "text/plain": [
       "                      тек_пред  пред_до\n",
       "Популярная_категория                   \n",
       "Товары для детей        284.67   -15.87"
      ]
     },
     "metadata": {},
     "output_type": "display_data"
    },
    {
     "data": {
      "image/png": "[encoded data removed]",
      "text/plain": [
       "<Figure size 720x360 with 1 Axes>"
      ]
     },
     "metadata": {
      "needs_background": "light"
     },
     "output_type": "display_data"
    }
   ],
   "source": [
    "# 1. Добавим в каждый сегмент данные о выручке из df_full\n",
    "cols_to_add = ['id', 'Популярная_категория', 'Выручка_препредыдущий', 'Выручка_предыдущий', 'Выручка_текущий']\n",
    "\n",
    "segment_A_ext = segment_A.merge(df_full[cols_to_add], on=['id', 'Популярная_категория'], how='left')\n",
    "segment_B_ext = segment_B.merge(df_full[cols_to_add], on=['id', 'Популярная_категория'], how='left')\n",
    "segment_C_ext = segment_C.merge(df_full[cols_to_add], on=['id', 'Популярная_категория'], how='left')\n",
    "\n",
    "# 2. Рассчитаем дельты\n",
    "for df in [segment_A_ext, segment_B_ext, segment_C_ext]:\n",
    "    df['тек_пред'] = df['Выручка_текущий'] - df['Выручка_предыдущий']\n",
    "    df['пред_до'] = df['Выручка_предыдущий'] - df['Выручка_препредыдущий']\n",
    "\n",
    "# 3. Функция: вывод и визуализация\n",
    "def revenue_dynamics_summary_with_plot(df_segment, name):\n",
    "    summary = df_segment.groupby('Популярная_категория')[['тек_пред', 'пред_до']].mean().round(2)\n",
    "    print(f\"\\n{name}: Средняя динамика выручки по категориям\")\n",
    "    display(summary)\n",
    "\n",
    "    # Визуализация\n",
    "    ax = summary.plot(kind='bar', figsize=(10, 5), edgecolor='black')\n",
    "    plt.title(f'Средняя динамика выручки по категориям — {name}')\n",
    "    plt.xlabel('Категория')\n",
    "    plt.ylabel('Среднее изменение выручки')\n",
    "    plt.axhline(0, color='gray', linestyle='--')\n",
    "    plt.xticks(rotation=45)\n",
    "    plt.grid(axis='y')\n",
    "    plt.tight_layout()\n",
    "    plt.show()\n",
    "\n",
    "# 4. Применим к каждому сегменту\n",
    "revenue_dynamics_summary_with_plot(segment_A_ext, \"Сегмент A\")\n",
    "revenue_dynamics_summary_with_plot(segment_B_ext, \"Сегмент B\")\n",
    "revenue_dynamics_summary_with_plot(segment_C_ext, \"Сегмент C\")\n"
   ]
  },
  {
   "cell_type": "markdown",
   "metadata": {},
   "source": [
    "<div class=\"alert alert-success\">\n",
    "<h2> Комментарий ревьюера #2 <a class=\"tocSkip\"> </h2>\n",
    "\n",
    "👍 Верно.\n",
    "</div>"
   ]
  },
  {
   "cell_type": "markdown",
   "metadata": {},
   "source": [
    "<div class=\"alert alert-warning\">\n",
    "<h2> Комментарий ревьюера <a class=\"tocSkip\"> </h2>\n",
    "    \n",
    "<b>Некоторые замечания и рекомендации💡:</b> \n",
    "\n",
    "Сейчас смотришь категории по всем периодам. Хорошо бы посмотреть разницу в выручке между периодами для разных категорий. Так увидим, в какой категории динамика выручки положительная, а где - отрицательная. Это очень важная для нас информация, нужно исправлять отрицательную динамику.\n",
    "       \n",
    "</div> \t\n",
    "\n"
   ]
  },
  {
   "cell_type": "markdown",
   "metadata": {},
   "source": [
    "### Вывод по шагу 8: Сегментация клиентов и рекомендации\n",
    "\n",
    "**Выбранный сегмент:**  \n",
    "Анализ проведён для **сегмента A** — клиентов с высокой прибылью (> 4.0) и высокой вероятностью оттока (> 0.7). Этот сегмент включает **186 пользователей**, что составляет более 12% от всей базы и даёт наибольший вклад в выручку.\n",
    "\n",
    "**Динамика выручки:**\n",
    "- Наибольший рост выручки в последнем месяце наблюдается в категориях **«Косметика и аксессуары»**, **«Кухонная посуда»** и **«Домашний текстиль»**.\n",
    "- Отток по выручке в предпоследнем месяце отмечен в **«Технике для красоты»** и **«Товарах для детей»**, что сигнализирует о возможном снижении интереса к этим категориям.\n",
    "- Несмотря на рост в текущем месяце, **«Товары для детей»** показывают слабую стабильность — выручка по ним колеблется.\n",
    "\n",
    "**Предложенные меры:**\n",
    "- Настроить персонализированные рассылки с контентом по любимым категориям.\n",
    "- Разделить клиентов на подгруппы по чувствительности к акциям:\n",
    "  - одним — предлагать выгоду без акций,\n",
    "  - другим — использовать скидки, бонусы, кэшбэк.\n",
    "- Добавить привилегии для самых прибыльных клиентов: приоритетную поддержку, менеджерскую линию, ранний доступ к новым продуктам.\n",
    "\n",
    "**Бизнес-обоснование:**\n",
    "- Потеря клиента из этого сегмента может привести к **потере 4–7 единиц прибыли**.\n",
    "- Удержание даже **10% клиентов** из сегмента способно заметно повысить **LTV** и снизить **CAC**.\n",
    "- Клиенты сегмента обладают выраженными предпочтениями, что облегчает таргетинг и персонализацию.\n",
    "\n",
    "**Вывод:**  \n",
    "Сегмент A требует приоритетного внимания: за счёт высокой прибыли, значимого оттока и потенциала для удержания. Персонализированный подход и оптимизация предложений позволят сохранить клиентов и повысить их ценность для бизнеса.\n"
   ]
  },
  {
   "cell_type": "markdown",
   "metadata": {},
   "source": [
    "<div class=\"alert alert-success\"> \n",
    "<h2> Комментарий ревьюера <a class=\"tocSkip\"> </h2>\n",
    "\n",
    "👍 Многое верно, логично. "
   ]
  },
  {
   "cell_type": "markdown",
   "metadata": {},
   "source": [
    "<div class=\"alert alert-warning\">\n",
    "<h2> Комментарий ревьюера <a class=\"tocSkip\"> </h2>\n",
    "    \n",
    "<b>Некоторые замечания и рекомендации💡:</b> \n",
    "    \n",
    "`одним — предлагать выгоду без акций `\n",
    "    \n",
    "Хм. Если смотреть выше по данным, то доля акционных покупок распределена ненормально - видим две модальности, два распределения в одном. Кажется, что если бы у всех клиентов был равный доступ к акциям, то они как-то распределились нормальным распределеним по своей любви к покупкам по акциям, верно?\n",
    "    \n",
    "Тогда можем предположить, что у нас есть некоторая группа, которую либо привлекли по внешней ссылке, либо для которых была акция типа «новым клиентам три месяца скидок» или что-то типа такого. \n",
    "    \n",
    "Мы видим, что пока эти клиенты пользовались акциями, они приносили нам прибли и выручки не меньше, чем остальные клиенты (можно это уточнить). То есть, нам выгодно продлевать акции для таких клиентов. \n",
    "    \n",
    "Также мы видим, что по всей видимости после того, как акция завершилась, клиенты побросали товары в корзинах неоплаченными и начали отваливаться - снижать активность. В исследовательском анализе очень важно сравнить долю акционных покупок у лояльных и уходящих клиентов. Увидим, что уходящие почти все покупают по акции (что согласуется с гипотезой выше). \n",
    "    \n",
    "Кажется, что худшее, что сделал сервис - это внезапно прекратил акцию. \n",
    "    \n",
    "Тогда вопрос: точно ли будет хорошей рекомендацей «предлагать выгоду без акций»? \n",
    "\n",
    "***\n",
    "    \n",
    "Если будешь менять точку зрения и рекомендовать делать новые акции, то обрати внимание, мы можем для нашего сегмента изучить любимые категории и даже посмотреть на них в динамике: посмотреть, что клиенты в более ранние периоды покупали чаще, а потом стали покупать реже. \n",
    "    \n",
    "Если у сегмента любимой категорией будет товар длительного пользования, то возможно, не стоит делать акцию на именно этот товар (если клиент купил фен, то второй ему не нужен), тогда стоит предложить что-то похожее (плойку, утюжок, вот это все). "
   ]
  },
  {
   "cell_type": "markdown",
   "metadata": {},
   "source": [
    "### Общий вывод по проекту\n",
    "\n",
    "#### Задача\n",
    "Интернет-магазин «В один клик» поставил задачу — спрогнозировать вероятность **снижения покупательской активности постоянных клиентов**, чтобы определить **группы риска** и предложить **персонализированные меры удержания**.\n",
    "\n",
    "---\n",
    "\n",
    "#### Данные и источники\n",
    "Были предоставлены четыре таблицы:\n",
    "- `market_file.csv` — маркетинговые, поведенческие и категориальные признаки.\n",
    "- `market_money.csv` — помесячная выручка.\n",
    "- `market_time.csv` — время, проведённое на сайте.\n",
    "- `money.csv` — итоговая прибыль от клиента.\n",
    "\n",
    "---\n",
    "\n",
    "#### Предобработка данных\n",
    "- Исправлены опечатки в категориальных признаках и названиях периодов.\n",
    "- Проверены и очищены дубликаты и пропуски.\n",
    "- Исключены 3 клиента с нулевой выручкой в одном из месяцев.\n",
    "- Отфильтрован один экстремальный выброс по выручке.\n",
    "- Таблицы объединены по `id`, финальный датасет содержит **1297 строк** и **18 признаков**.\n",
    "\n",
    "---\n",
    "\n",
    "#### Исследовательский анализ (EDA)\n",
    "- Клиенты с пониженной активностью чаще:\n",
    "  - реже соглашаются на рассылки,\n",
    "  - проводят меньше времени на сайте,\n",
    "  - делают меньше просмотров и покупок,\n",
    "  - сильнее зависят от акций,\n",
    "  - приносят меньшую выручку.\n",
    "- Корреляции подтверждают: вовлечённость (время, просмотры, страницы) снижает риск оттока.\n",
    "- Признаки с наибольшим числом выбросов: маркетинговая активность и акционные покупки.\n",
    "- Признаки оставлены как потенциально информативные для модели.\n",
    "\n",
    "---\n",
    "\n",
    "#### Обучение моделей\n",
    "- Обучены 4 модели (`LogisticRegression`, `DecisionTree`, `KNeighbors`, `SVC`) с двумя способами масштабирования (`StandardScaler`, `MinMaxScaler`).\n",
    "- Использован `RandomizedSearchCV`, метрика — **ROC AUC**.\n",
    "- **Лучшая модель:** `SVC` с `MinMaxScaler`, ROC AUC = **0.9020**.\n",
    "- Высокие результаты также показали:\n",
    "  - `LogisticRegression` — ROC AUC = **0.9013**\n",
    "  - `KNeighborsClassifier` — ROC AUC = **0.8876**\n",
    "\n",
    "---\n",
    "\n",
    "#### Интерпретация модели\n",
    "- Для интерпретации использована `LogisticRegression` (прозрачная модель).\n",
    "- SHAP-показатели выявили, что наибольшее влияние на отток оказывают:\n",
    "  - `Страниц_за_визит`, `Средний_просмотр_категорий_за_визит` — индикаторы вовлечённости.\n",
    "  - `Неоплаченные_продукты_штук_квартал` и `Акционные_покупки` — брошенные корзины и чувствительность к скидкам.\n",
    "  - `Маркет_актив_6_мес` и старые выручки — следы усталости от коммуникаций.\n",
    "---\n",
    "\n",
    "#### Сегментация клиентов\n",
    "\n",
    "На основе вероятности оттока, прибыли и поведенческих признаков выделены **три сегмента**:\n",
    "\n",
    "- **Сегмент A** — 186 клиентов: высокая прибыль (>4.0) и высокий риск оттока (>0.7).  \n",
    "  - *Средняя прибыль:* 4.76  \n",
    "  - *Средняя вероятность оттока:* 0.95  \n",
    "  - *Популярные категории:* «Товары для детей», «Косметика», «Домашний текстиль»  \n",
    "  - *Отрицательная динамика:* в категории «Техника для красоты»\n",
    "\n",
    "- **Сегмент B** — 80 клиентов: высокая доля акционных покупок (>0.7), средняя прибыль (2–4).  \n",
    "  - Возможный риск скидочной зависимости.  \n",
    "  - Замечено падение выручки по ряду категорий, особенно — «Товары для детей»\n",
    "\n",
    "- **Сегмент C** — 132 клиента: покупатели категории «Товары для детей» с повышенным риском оттока (>0.5).  \n",
    "  - Нестабильная выручка, возможны проблемы в категории: устаревший ассортимент, UX, сезонность\n",
    "\n",
    "---\n",
    "\n",
    "#### Динамика выручки\n",
    "- В сегменте A:\n",
    "  - наибольший спад в «Технике для красоты» (предыдущий месяц — резкое снижение).\n",
    "- В сегменте B:\n",
    "  - отрицательная динамика в «Товарах для детей» и частично в «Технике».\n",
    "- В сегменте C:\n",
    "  - «Товары для детей» — слабая стабильность, отрицательная динамика в предпоследнем месяце.\n",
    "\n",
    "---\n",
    "\n",
    "#### Бизнес-рекомендации\n",
    "\n",
    "**Сегмент A** — приоритетное удержание:\n",
    "- Персонализировать маркетинг по любимым категориям.\n",
    "- Добавить бонусные программы, приоритетную поддержку, эксклюзивные предложения.\n",
    "- Не использовать скидки — удержание ценой сервиса и привилегий.\n",
    "\n",
    "**Сегмент B** — контроль скидочной зависимости:\n",
    "- Провести A/B тесты на уменьшение количества акций.\n",
    "- Вводить альтернативные механики: кэшбэк, накопительные баллы, привилегии за лояльность.\n",
    "\n",
    "**Сегмент C** — анализ товарной категории:\n",
    "- Провести UX-оценку и исследование юзабилити на сайте.\n",
    "- Перепроверить ассортимент и сезонность в «Товарах для детей».\n",
    "- Собрать обратную связь — выяснить, в чём причина снижения интереса."
   ]
  },
  {
   "cell_type": "markdown",
   "metadata": {},
   "source": [
    "### Прокомментирую рекомендации:\n",
    "\n",
    "Сегмент A — приоритетное удержание\n",
    "Почему выделен:\n",
    "Это клиенты с высокой прибылью и высокой вероятностью оттока. Их потеря будет наиболее болезненной для бизнеса, поэтому удержание этой группы — главный приоритет.\n",
    "\n",
    "Рекомендации:\n",
    "\n",
    "Персонализированные предложения:\n",
    "Поддержка интереса к покупкам через адресные кампании в любимых категориях («Товары для детей», «Косметика» и т.д.) — чтобы повысить вовлечённость без снижения цен.\n",
    "\n",
    "Бонусные программы / приоритетное обслуживание:\n",
    "Так как сегмент лояльный и приносит прибыль, логично усилить эмоциональную привязку через нематериальные преимущества — например, приоритет в доставке, доступ к новым коллекциям, выделенный менеджер.\n",
    "\n",
    "Не использовать скидки:\n",
    "Эти клиенты уже покупают по «полной цене», и не склонны к акционным предложениям — скидки будут неэффективны и снизят маржу.\n",
    "\n",
    "Сегмент B — контроль скидочной зависимости\n",
    "Почему выделен:\n",
    "Эти клиенты совершают много покупок по акциям, при этом приносят не самую высокую прибыль. Есть риск, что они привыкли к скидкам и не покупают без них.\n",
    "\n",
    "Рекомендации:\n",
    "\n",
    "A/B тест на ограничение скидок:\n",
    "Проверить, как отреагируют такие клиенты на отсутствие акций. Возможно, они продолжат покупать без скидок, и тогда можно будет улучшить маржинальность.\n",
    "\n",
    "Переход к другим выгодам:\n",
    "Вместо постоянных скидок — бонусы, накопительные системы, или предложения по рекомендациям. Это снижает зависимость от промо и обучает клиента другому типу ценности.\n",
    "\n",
    "Сегмент C — товарный и UX-анализ\n",
    "Почему выделен:\n",
    "У этих клиентов основной интерес — категория «Товары для детей». При этом они демонстрируют высокий риск оттока. Анализ показал отрицательную динамику выручки именно в этой категории.\n",
    "\n",
    "Рекомендации:\n",
    "\n",
    "Проверка товарного ассортимента:\n",
    "Есть вероятность, что товарное наполнение устарело, не соответствует ожиданиям, или стало хуже. Это требует пересмотра.\n",
    "\n",
    "Сбор обратной связи:\n",
    "Рекомендуется провести небольшое исследование среди этой группы, чтобы выяснить причины ухода.\n",
    "\n",
    "Анализ UX и витрины:\n",
    "Возможно, проблемы не в товарах, а в их представлении: фильтры, описание, фото, позиционирование. Это тоже стоит проверить до вложений в закупку."
   ]
  },
  {
   "cell_type": "markdown",
   "metadata": {},
   "source": [
    "<div class=\"alert alert-success\">\n",
    "<h2> Комментарий ревьюера #2 <a class=\"tocSkip\"> </h2>\n",
    "\n",
    "👍 Ок, есть конкретика по категориям товаров, есть опора на данные.\n",
    "</div>"
   ]
  },
  {
   "cell_type": "markdown",
   "metadata": {},
   "source": [
    " \n",
    "<div class=\"alert alert-warning\">\n",
    "<h2> Комментарий ревьюера <a class=\"tocSkip\"> </h2>\n",
    "    \n",
    "<b>Некоторые замечания и рекомендации💡:</b> \n",
    "\n",
    "Рекомендую чуть углубить анализ сегмента. Рекомендации − основная цель нашего проекта. Все остальное, включая модель, просто помогает нам на пути к этой цели. \n",
    "       \n",
    "***\n",
    "    \n",
    "По рекомендации «Адаптировать рассылки под профиль поведения и категориальные интересы.» - соглашусь, звучит логично. Единственное, я бы оставил это как дополнительную рекомендацию, не основную.\n",
    "    \n",
    "Мы не видели сайт и не имеем сколько-нибудь детальных данных о пользовательском поведении, чтобы делать выводы о необходимости улучшения сайта и рекомендательной системы. Вдруг сайт недавно улушили за много-много денег, прикрутив рекомендашку? И мы будем предлагать инвестировать в улучшение сайта снова? \n",
    "    \n",
    "***\n",
    "    \n",
    "Замечания по аналитике − практически мое личное мнение (ну с небольшим знанием того, что здесь закладывал автор). Твоя аналитика может быть иной, ты можешь со мной не соглашаться, предлагать свою аргументацию. Важно попробовать чуть глубже посмотреть на наш сегмент. \n",
    "\n",
    "</div> "
   ]
  },
  {
   "cell_type": "markdown",
   "metadata": {},
   "source": [
    "\n",
    "<div style=\"border:solid Chocolate 2px; padding: 40px\">\n",
    "\n",
    "**Общий вывод по проекту**\n",
    "    \n",
    "Спасибо за твой проект! Эта работа также была достаточно объемной и требовала концентрации внимания. По структуре проекта, логичности действий и общему подходу все замечательно.\n",
    "    \n",
    "**Отмечу положительные моменты проекта🚀**\n",
    "    \n",
    "* Хорошие решения в коде, есть пояснения и аргументации.\n",
    "* Грамотная предобработка и подготовка признаков.\n",
    "* Корректное обучение моделей, использование пайплайнов.\n",
    "\n",
    "    \n",
    "**На что стоит обратить внимание🤔**\n",
    "    \n",
    "* Важно в исследовательском анализе рассмотреть отдельно подвыборки для клиентов со снижающейся и с постоянной активностью (делим по целевому признаку).\n",
    "* Необходимо отфильтровать данные, оставив только клиентов, активных в каждый из трех периодов.\n",
    "* Нужно поправить по shap. Здесь достаточно просто подрастянуть график по горизонтали. Подойдет любое решение, работающее для matplotlib.\n",
    "* Рекомендую также углубить и исследование сегмента: там, где можем, смотрим на динамику в категориях товаров. Я бы посмотрел на данные в разрезе акции. Думаю, как минимум, это подтвердит наши выводы, ну и возможно как-то их уточнит. Важно опираться на результаты EDA, стоит подходить к анализу сегмента со знанием наших данных. Пока не согласен, что акции нужно сворачивать (либо недопонял тебя).\n",
    "* Эти и остальные замечания я также написал по ходу проекта.    \n",
    "\n",
    "**Желаю удачи и жду твой проект на повторное ревью!**😉\n",
    "    \n",
    "    \n",
    "</div>\n",
    "\n"
   ]
  },
  {
   "cell_type": "markdown",
   "metadata": {},
   "source": [
    "<div style=\"border:solid Chocolate 2px; padding: 40px\">\n",
    "\n",
    "**Комментарий ко второй проверке**\n",
    "\n",
    "Спасибо за качественную доработку. Практически все верно. Однако еще кое-что осталось.\n",
    "\n",
    "Важно в двух местах поправить код с фильтрацией неактивных пользователей. Оба раза что-то очень странное вместо решения, похоже на галлюцинирование ИИ. Нам важно убрать клиентов, которые хотя бы в один из периодов ничего не покупали. Выше я отфильтровал таблицу, у нас точно-точно всего три таких клиента. Действие по фильтрации очень простое. Важно просто в него вникнуть и реализовать. Первый раз ты всех пропускаешь, второй раз ты удаляешь сотню.\n",
    "    \n",
    "По остальным моментам все верно. По общим выводам я описал свою точку зрения, у тебя чуть иная, но отлично, что опираешься на данные и аргументируешь свои рекомендации.\n",
    "\n",
    "**Желаю удачи и жду твой проект на повторное ревью!**😉\n",
    "</div>\n",
    "\n"
   ]
  },
  {
   "cell_type": "markdown",
   "metadata": {},
   "source": [
    "<div style=\"border:solid Chocolate 2px; padding: 40px\">\n",
    "\n",
    "**Комментарий к финальной проверке**\n",
    "\n",
    "Спасибо за доработку. Критичных комментариев нет. \n",
    "\n",
    "Если что-то пропустил или остались вопросы, напиши в телеграм @kriill\n",
    "\n",
    "Желаю удачи в дальнейшей учебе!\n",
    "\n",
    "</div>\n"
   ]
  },
  {
   "cell_type": "code",
   "execution_count": null,
   "metadata": {},
   "outputs": [],
   "source": []
  }
 ],
 "metadata": {
  "ExecuteTimeLog": [
   {
    "duration": 513,
    "start_time": "2025-05-21T05:54:00.393Z"
   },
   {
    "duration": 131,
    "start_time": "2025-05-21T05:54:43.451Z"
   },
   {
    "duration": 1243,
    "start_time": "2025-05-21T05:56:48.651Z"
   },
   {
    "duration": 5149,
    "start_time": "2025-05-21T05:57:24.884Z"
   },
   {
    "duration": 2464,
    "start_time": "2025-05-21T05:57:45.283Z"
   },
   {
    "duration": 5,
    "start_time": "2025-05-21T05:57:54.713Z"
   },
   {
    "duration": 5,
    "start_time": "2025-05-21T05:58:01.146Z"
   },
   {
    "duration": 38,
    "start_time": "2025-05-21T06:03:19.471Z"
   },
   {
    "duration": 354,
    "start_time": "2025-05-21T06:03:29.228Z"
   },
   {
    "duration": 10,
    "start_time": "2025-05-21T06:03:53.593Z"
   },
   {
    "duration": 12,
    "start_time": "2025-05-21T06:04:20.844Z"
   },
   {
    "duration": 6,
    "start_time": "2025-05-21T06:04:28.319Z"
   },
   {
    "duration": 5,
    "start_time": "2025-05-21T06:04:34.975Z"
   },
   {
    "duration": 4,
    "start_time": "2025-05-21T06:05:23.723Z"
   },
   {
    "duration": 8,
    "start_time": "2025-05-21T06:05:36.437Z"
   },
   {
    "duration": 2322,
    "start_time": "2025-05-21T06:05:43.513Z"
   },
   {
    "duration": 578,
    "start_time": "2025-05-21T06:06:00.001Z"
   },
   {
    "duration": 5,
    "start_time": "2025-05-21T06:06:54.728Z"
   },
   {
    "duration": 2606,
    "start_time": "2025-05-21T06:06:59.963Z"
   },
   {
    "duration": 13,
    "start_time": "2025-05-21T06:14:54.495Z"
   },
   {
    "duration": 13,
    "start_time": "2025-05-21T06:16:16.629Z"
   },
   {
    "duration": 21,
    "start_time": "2025-05-21T06:22:09.519Z"
   },
   {
    "duration": 294,
    "start_time": "2025-05-21T06:22:26.694Z"
   },
   {
    "duration": 582,
    "start_time": "2025-05-21T06:22:34.742Z"
   },
   {
    "duration": 27,
    "start_time": "2025-05-21T06:23:20.984Z"
   },
   {
    "duration": 910,
    "start_time": "2025-05-21T06:23:33.938Z"
   },
   {
    "duration": 17,
    "start_time": "2025-05-21T06:31:20.083Z"
   },
   {
    "duration": 14,
    "start_time": "2025-05-21T06:31:34.335Z"
   },
   {
    "duration": 25,
    "start_time": "2025-05-21T06:31:40.552Z"
   },
   {
    "duration": 81,
    "start_time": "2025-05-21T06:31:47.184Z"
   },
   {
    "duration": 6,
    "start_time": "2025-05-21T06:32:11.757Z"
   },
   {
    "duration": 10,
    "start_time": "2025-05-21T06:36:00.209Z"
   },
   {
    "duration": 4,
    "start_time": "2025-05-21T06:36:23.256Z"
   },
   {
    "duration": 20470,
    "start_time": "2025-05-21T06:36:57.726Z"
   },
   {
    "duration": 3,
    "start_time": "2025-05-21T06:41:03.514Z"
   },
   {
    "duration": 19,
    "start_time": "2025-05-21T06:41:18.655Z"
   },
   {
    "duration": 10,
    "start_time": "2025-05-21T06:41:26.455Z"
   },
   {
    "duration": 214,
    "start_time": "2025-05-21T06:41:46.298Z"
   },
   {
    "duration": 192,
    "start_time": "2025-05-21T06:41:55.950Z"
   },
   {
    "duration": 1244,
    "start_time": "2025-05-21T06:43:01.966Z"
   },
   {
    "duration": 96,
    "start_time": "2025-05-21T06:46:08.567Z"
   },
   {
    "duration": 109,
    "start_time": "2025-05-21T06:48:12.972Z"
   },
   {
    "duration": 10,
    "start_time": "2025-05-21T06:48:44.097Z"
   },
   {
    "duration": 860,
    "start_time": "2025-05-21T06:48:45.509Z"
   },
   {
    "duration": 1838,
    "start_time": "2025-05-21T06:56:51.839Z"
   },
   {
    "duration": 146,
    "start_time": "2025-05-21T06:56:53.678Z"
   },
   {
    "duration": 39,
    "start_time": "2025-05-21T06:56:53.825Z"
   },
   {
    "duration": 328,
    "start_time": "2025-05-21T06:56:53.866Z"
   },
   {
    "duration": 8,
    "start_time": "2025-05-21T06:56:54.196Z"
   },
   {
    "duration": 11,
    "start_time": "2025-05-21T06:56:54.205Z"
   },
   {
    "duration": 5,
    "start_time": "2025-05-21T06:56:54.217Z"
   },
   {
    "duration": 34,
    "start_time": "2025-05-21T06:56:54.224Z"
   },
   {
    "duration": 4,
    "start_time": "2025-05-21T06:56:54.260Z"
   },
   {
    "duration": 12,
    "start_time": "2025-05-21T06:56:54.267Z"
   },
   {
    "duration": 2622,
    "start_time": "2025-05-21T06:56:54.280Z"
   },
   {
    "duration": 554,
    "start_time": "2025-05-21T06:56:56.904Z"
   },
   {
    "duration": 13,
    "start_time": "2025-05-21T06:56:57.459Z"
   },
   {
    "duration": 94,
    "start_time": "2025-05-21T06:56:57.474Z"
   },
   {
    "duration": 327,
    "start_time": "2025-05-21T06:56:57.569Z"
   },
   {
    "duration": 417,
    "start_time": "2025-05-21T06:56:57.898Z"
   },
   {
    "duration": 29,
    "start_time": "2025-05-21T06:56:58.317Z"
   },
   {
    "duration": 949,
    "start_time": "2025-05-21T06:56:58.357Z"
   },
   {
    "duration": 15,
    "start_time": "2025-05-21T06:56:59.308Z"
   },
   {
    "duration": 12,
    "start_time": "2025-05-21T06:56:59.324Z"
   },
   {
    "duration": 234,
    "start_time": "2025-05-21T06:56:59.358Z"
   },
   {
    "duration": 56,
    "start_time": "2025-05-21T06:56:59.593Z"
   },
   {
    "duration": 11,
    "start_time": "2025-05-21T06:56:59.651Z"
   },
   {
    "duration": 4,
    "start_time": "2025-05-21T06:56:59.664Z"
   },
   {
    "duration": 21451,
    "start_time": "2025-05-21T06:56:59.669Z"
   },
   {
    "duration": 4,
    "start_time": "2025-05-21T06:57:21.122Z"
   },
   {
    "duration": 18,
    "start_time": "2025-05-21T06:57:21.128Z"
   },
   {
    "duration": 1267,
    "start_time": "2025-05-21T06:57:21.149Z"
   },
   {
    "duration": 139,
    "start_time": "2025-05-21T06:57:22.418Z"
   },
   {
    "duration": 13,
    "start_time": "2025-05-21T06:57:22.560Z"
   },
   {
    "duration": 653,
    "start_time": "2025-05-21T06:57:22.575Z"
   },
   {
    "duration": 49,
    "start_time": "2025-05-22T05:50:01.761Z"
   },
   {
    "duration": 1628,
    "start_time": "2025-05-22T05:50:19.773Z"
   },
   {
    "duration": 0,
    "start_time": "2025-05-22T05:50:21.403Z"
   },
   {
    "duration": 0,
    "start_time": "2025-05-22T05:50:21.404Z"
   },
   {
    "duration": 0,
    "start_time": "2025-05-22T05:50:21.406Z"
   },
   {
    "duration": 0,
    "start_time": "2025-05-22T05:50:21.407Z"
   },
   {
    "duration": 0,
    "start_time": "2025-05-22T05:50:21.408Z"
   },
   {
    "duration": 0,
    "start_time": "2025-05-22T05:50:21.409Z"
   },
   {
    "duration": 0,
    "start_time": "2025-05-22T05:50:21.410Z"
   },
   {
    "duration": 0,
    "start_time": "2025-05-22T05:50:21.411Z"
   },
   {
    "duration": 0,
    "start_time": "2025-05-22T05:50:21.413Z"
   },
   {
    "duration": 0,
    "start_time": "2025-05-22T05:50:21.414Z"
   },
   {
    "duration": 0,
    "start_time": "2025-05-22T05:50:21.415Z"
   },
   {
    "duration": 0,
    "start_time": "2025-05-22T05:50:21.416Z"
   },
   {
    "duration": 0,
    "start_time": "2025-05-22T05:50:21.417Z"
   },
   {
    "duration": 0,
    "start_time": "2025-05-22T05:50:21.418Z"
   },
   {
    "duration": 0,
    "start_time": "2025-05-22T05:50:21.419Z"
   },
   {
    "duration": 0,
    "start_time": "2025-05-22T05:50:21.420Z"
   },
   {
    "duration": 0,
    "start_time": "2025-05-22T05:50:21.421Z"
   },
   {
    "duration": 0,
    "start_time": "2025-05-22T05:50:21.422Z"
   },
   {
    "duration": 0,
    "start_time": "2025-05-22T05:50:21.423Z"
   },
   {
    "duration": 0,
    "start_time": "2025-05-22T05:50:21.424Z"
   },
   {
    "duration": 0,
    "start_time": "2025-05-22T05:50:21.458Z"
   },
   {
    "duration": 0,
    "start_time": "2025-05-22T05:50:21.459Z"
   },
   {
    "duration": 0,
    "start_time": "2025-05-22T05:50:21.460Z"
   },
   {
    "duration": 0,
    "start_time": "2025-05-22T05:50:21.461Z"
   },
   {
    "duration": 0,
    "start_time": "2025-05-22T05:50:21.462Z"
   },
   {
    "duration": 0,
    "start_time": "2025-05-22T05:50:21.463Z"
   },
   {
    "duration": 0,
    "start_time": "2025-05-22T05:50:21.465Z"
   },
   {
    "duration": 0,
    "start_time": "2025-05-22T05:50:21.466Z"
   },
   {
    "duration": 0,
    "start_time": "2025-05-22T05:50:21.467Z"
   },
   {
    "duration": 0,
    "start_time": "2025-05-22T05:50:21.468Z"
   },
   {
    "duration": 0,
    "start_time": "2025-05-22T05:50:21.469Z"
   },
   {
    "duration": 79,
    "start_time": "2025-05-22T05:51:15.424Z"
   },
   {
    "duration": 0,
    "start_time": "2025-05-22T05:51:15.506Z"
   },
   {
    "duration": 0,
    "start_time": "2025-05-22T05:51:15.507Z"
   },
   {
    "duration": 0,
    "start_time": "2025-05-22T05:51:15.508Z"
   },
   {
    "duration": 0,
    "start_time": "2025-05-22T05:51:15.509Z"
   },
   {
    "duration": 0,
    "start_time": "2025-05-22T05:51:15.511Z"
   },
   {
    "duration": 0,
    "start_time": "2025-05-22T05:51:15.512Z"
   },
   {
    "duration": 0,
    "start_time": "2025-05-22T05:51:15.513Z"
   },
   {
    "duration": 0,
    "start_time": "2025-05-22T05:51:15.514Z"
   },
   {
    "duration": 0,
    "start_time": "2025-05-22T05:51:15.515Z"
   },
   {
    "duration": 0,
    "start_time": "2025-05-22T05:51:15.516Z"
   },
   {
    "duration": 0,
    "start_time": "2025-05-22T05:51:15.517Z"
   },
   {
    "duration": 0,
    "start_time": "2025-05-22T05:51:15.518Z"
   },
   {
    "duration": 0,
    "start_time": "2025-05-22T05:51:15.519Z"
   },
   {
    "duration": 0,
    "start_time": "2025-05-22T05:51:15.520Z"
   },
   {
    "duration": 0,
    "start_time": "2025-05-22T05:51:15.521Z"
   },
   {
    "duration": 0,
    "start_time": "2025-05-22T05:51:15.522Z"
   },
   {
    "duration": 0,
    "start_time": "2025-05-22T05:51:15.523Z"
   },
   {
    "duration": 0,
    "start_time": "2025-05-22T05:51:15.524Z"
   },
   {
    "duration": 0,
    "start_time": "2025-05-22T05:51:15.525Z"
   },
   {
    "duration": 0,
    "start_time": "2025-05-22T05:51:15.526Z"
   },
   {
    "duration": 0,
    "start_time": "2025-05-22T05:51:15.527Z"
   },
   {
    "duration": 0,
    "start_time": "2025-05-22T05:51:15.528Z"
   },
   {
    "duration": 0,
    "start_time": "2025-05-22T05:51:15.529Z"
   },
   {
    "duration": 0,
    "start_time": "2025-05-22T05:51:15.530Z"
   },
   {
    "duration": 0,
    "start_time": "2025-05-22T05:51:15.531Z"
   },
   {
    "duration": 0,
    "start_time": "2025-05-22T05:51:15.532Z"
   },
   {
    "duration": 0,
    "start_time": "2025-05-22T05:51:15.533Z"
   },
   {
    "duration": 0,
    "start_time": "2025-05-22T05:51:15.534Z"
   },
   {
    "duration": 0,
    "start_time": "2025-05-22T05:51:15.535Z"
   },
   {
    "duration": 0,
    "start_time": "2025-05-22T05:51:15.536Z"
   },
   {
    "duration": 0,
    "start_time": "2025-05-22T05:51:15.537Z"
   },
   {
    "duration": 5867,
    "start_time": "2025-05-22T05:51:37.662Z"
   },
   {
    "duration": 224,
    "start_time": "2025-05-22T05:51:43.531Z"
   },
   {
    "duration": 23,
    "start_time": "2025-05-22T05:51:43.756Z"
   },
   {
    "duration": 359,
    "start_time": "2025-05-22T05:51:43.782Z"
   },
   {
    "duration": 18,
    "start_time": "2025-05-22T05:51:44.142Z"
   },
   {
    "duration": 18,
    "start_time": "2025-05-22T05:51:44.161Z"
   },
   {
    "duration": 6,
    "start_time": "2025-05-22T05:51:44.180Z"
   },
   {
    "duration": 5,
    "start_time": "2025-05-22T05:51:44.187Z"
   },
   {
    "duration": 5,
    "start_time": "2025-05-22T05:51:44.193Z"
   },
   {
    "duration": 14,
    "start_time": "2025-05-22T05:51:44.200Z"
   },
   {
    "duration": 2543,
    "start_time": "2025-05-22T05:51:44.215Z"
   },
   {
    "duration": 490,
    "start_time": "2025-05-22T05:51:46.760Z"
   },
   {
    "duration": 13,
    "start_time": "2025-05-22T05:51:47.252Z"
   },
   {
    "duration": 185,
    "start_time": "2025-05-22T05:51:47.267Z"
   },
   {
    "duration": 0,
    "start_time": "2025-05-22T05:51:47.454Z"
   },
   {
    "duration": 0,
    "start_time": "2025-05-22T05:51:47.454Z"
   },
   {
    "duration": 0,
    "start_time": "2025-05-22T05:51:47.455Z"
   },
   {
    "duration": 0,
    "start_time": "2025-05-22T05:51:47.455Z"
   },
   {
    "duration": 0,
    "start_time": "2025-05-22T05:51:47.456Z"
   },
   {
    "duration": 0,
    "start_time": "2025-05-22T05:51:47.456Z"
   },
   {
    "duration": 0,
    "start_time": "2025-05-22T05:51:47.458Z"
   },
   {
    "duration": 0,
    "start_time": "2025-05-22T05:51:47.459Z"
   },
   {
    "duration": 0,
    "start_time": "2025-05-22T05:51:47.461Z"
   },
   {
    "duration": 0,
    "start_time": "2025-05-22T05:51:47.463Z"
   },
   {
    "duration": 0,
    "start_time": "2025-05-22T05:51:47.464Z"
   },
   {
    "duration": 0,
    "start_time": "2025-05-22T05:51:47.465Z"
   },
   {
    "duration": 0,
    "start_time": "2025-05-22T05:51:47.466Z"
   },
   {
    "duration": 0,
    "start_time": "2025-05-22T05:51:47.468Z"
   },
   {
    "duration": 0,
    "start_time": "2025-05-22T05:51:47.469Z"
   },
   {
    "duration": 0,
    "start_time": "2025-05-22T05:51:47.471Z"
   },
   {
    "duration": 0,
    "start_time": "2025-05-22T05:51:47.472Z"
   },
   {
    "duration": 0,
    "start_time": "2025-05-22T05:51:47.474Z"
   },
   {
    "duration": 111,
    "start_time": "2025-05-22T05:52:02.087Z"
   },
   {
    "duration": 91,
    "start_time": "2025-05-22T05:55:32.315Z"
   },
   {
    "duration": 11,
    "start_time": "2025-05-22T05:56:53.544Z"
   },
   {
    "duration": 98,
    "start_time": "2025-05-22T05:57:10.232Z"
   },
   {
    "duration": 3,
    "start_time": "2025-05-22T05:58:37.543Z"
   },
   {
    "duration": 11,
    "start_time": "2025-05-22T06:01:48.873Z"
   },
   {
    "duration": 15,
    "start_time": "2025-05-22T06:03:01.739Z"
   },
   {
    "duration": 50,
    "start_time": "2025-05-22T10:16:22.844Z"
   },
   {
    "duration": 7925,
    "start_time": "2025-05-22T10:16:34.965Z"
   },
   {
    "duration": 141,
    "start_time": "2025-05-22T10:16:42.893Z"
   },
   {
    "duration": 39,
    "start_time": "2025-05-22T10:16:43.036Z"
   },
   {
    "duration": 408,
    "start_time": "2025-05-22T10:16:43.077Z"
   },
   {
    "duration": 7,
    "start_time": "2025-05-22T10:16:43.487Z"
   },
   {
    "duration": 21,
    "start_time": "2025-05-22T10:16:43.495Z"
   },
   {
    "duration": 24,
    "start_time": "2025-05-22T10:16:43.518Z"
   },
   {
    "duration": 23,
    "start_time": "2025-05-22T10:16:43.544Z"
   },
   {
    "duration": 29,
    "start_time": "2025-05-22T10:16:43.568Z"
   },
   {
    "duration": 33,
    "start_time": "2025-05-22T10:16:43.599Z"
   },
   {
    "duration": 2575,
    "start_time": "2025-05-22T10:16:43.634Z"
   },
   {
    "duration": 528,
    "start_time": "2025-05-22T10:16:46.211Z"
   },
   {
    "duration": 25,
    "start_time": "2025-05-22T10:16:46.742Z"
   },
   {
    "duration": 179,
    "start_time": "2025-05-22T10:16:46.770Z"
   },
   {
    "duration": 14,
    "start_time": "2025-05-22T10:16:46.950Z"
   },
   {
    "duration": 128,
    "start_time": "2025-05-22T10:16:46.965Z"
   },
   {
    "duration": 14,
    "start_time": "2025-05-22T10:16:47.094Z"
   },
   {
    "duration": 158,
    "start_time": "2025-05-22T10:16:47.109Z"
   },
   {
    "duration": 0,
    "start_time": "2025-05-22T10:16:47.269Z"
   },
   {
    "duration": 0,
    "start_time": "2025-05-22T10:16:47.270Z"
   },
   {
    "duration": 0,
    "start_time": "2025-05-22T10:16:47.271Z"
   },
   {
    "duration": 0,
    "start_time": "2025-05-22T10:16:47.273Z"
   },
   {
    "duration": 0,
    "start_time": "2025-05-22T10:16:47.274Z"
   },
   {
    "duration": 0,
    "start_time": "2025-05-22T10:16:47.275Z"
   },
   {
    "duration": 0,
    "start_time": "2025-05-22T10:16:47.276Z"
   },
   {
    "duration": 0,
    "start_time": "2025-05-22T10:16:47.277Z"
   },
   {
    "duration": 0,
    "start_time": "2025-05-22T10:16:47.278Z"
   },
   {
    "duration": 0,
    "start_time": "2025-05-22T10:16:47.279Z"
   },
   {
    "duration": 0,
    "start_time": "2025-05-22T10:16:47.280Z"
   },
   {
    "duration": 0,
    "start_time": "2025-05-22T10:16:47.281Z"
   },
   {
    "duration": 0,
    "start_time": "2025-05-22T10:16:47.282Z"
   },
   {
    "duration": 0,
    "start_time": "2025-05-22T10:16:47.284Z"
   },
   {
    "duration": 0,
    "start_time": "2025-05-22T10:16:47.285Z"
   },
   {
    "duration": 0,
    "start_time": "2025-05-22T10:16:47.286Z"
   },
   {
    "duration": 0,
    "start_time": "2025-05-22T10:16:47.287Z"
   },
   {
    "duration": 7,
    "start_time": "2025-05-22T10:17:11.570Z"
   },
   {
    "duration": 282,
    "start_time": "2025-05-22T10:17:15.494Z"
   },
   {
    "duration": 380,
    "start_time": "2025-05-22T10:17:18.620Z"
   },
   {
    "duration": 26,
    "start_time": "2025-05-22T10:17:34.258Z"
   },
   {
    "duration": 1046,
    "start_time": "2025-05-22T10:17:43.027Z"
   },
   {
    "duration": 15,
    "start_time": "2025-05-22T10:19:36.027Z"
   },
   {
    "duration": 15,
    "start_time": "2025-05-22T10:25:01.267Z"
   },
   {
    "duration": 14,
    "start_time": "2025-05-22T10:25:02.763Z"
   },
   {
    "duration": 25,
    "start_time": "2025-05-22T10:25:03.827Z"
   },
   {
    "duration": 7,
    "start_time": "2025-05-22T10:25:05.002Z"
   },
   {
    "duration": 6,
    "start_time": "2025-05-22T10:33:45.580Z"
   },
   {
    "duration": 3366,
    "start_time": "2025-05-22T10:34:04.867Z"
   },
   {
    "duration": 569,
    "start_time": "2025-05-22T10:35:07.372Z"
   },
   {
    "duration": 350,
    "start_time": "2025-05-22T10:36:40.780Z"
   },
   {
    "duration": 237,
    "start_time": "2025-05-22T10:37:09.370Z"
   },
   {
    "duration": 10,
    "start_time": "2025-05-22T10:43:10.602Z"
   },
   {
    "duration": 4,
    "start_time": "2025-05-22T10:43:21.210Z"
   },
   {
    "duration": 5,
    "start_time": "2025-05-22T10:44:33.779Z"
   },
   {
    "duration": 5,
    "start_time": "2025-05-22T10:47:12.708Z"
   },
   {
    "duration": 305,
    "start_time": "2025-05-22T10:47:28.980Z"
   },
   {
    "duration": 5,
    "start_time": "2025-05-22T10:47:41.700Z"
   },
   {
    "duration": 20,
    "start_time": "2025-05-22T10:47:44.427Z"
   },
   {
    "duration": 4423,
    "start_time": "2025-05-22T10:47:56.142Z"
   },
   {
    "duration": 145,
    "start_time": "2025-05-22T10:48:00.568Z"
   },
   {
    "duration": 51,
    "start_time": "2025-05-22T10:48:00.715Z"
   },
   {
    "duration": 385,
    "start_time": "2025-05-22T10:48:00.768Z"
   },
   {
    "duration": 7,
    "start_time": "2025-05-22T10:48:01.160Z"
   },
   {
    "duration": 24,
    "start_time": "2025-05-22T10:48:01.169Z"
   },
   {
    "duration": 65,
    "start_time": "2025-05-22T10:48:01.194Z"
   },
   {
    "duration": 30,
    "start_time": "2025-05-22T10:48:01.261Z"
   },
   {
    "duration": 22,
    "start_time": "2025-05-22T10:48:01.293Z"
   },
   {
    "duration": 47,
    "start_time": "2025-05-22T10:48:01.318Z"
   },
   {
    "duration": 2687,
    "start_time": "2025-05-22T10:48:01.366Z"
   },
   {
    "duration": 506,
    "start_time": "2025-05-22T10:48:04.055Z"
   },
   {
    "duration": 15,
    "start_time": "2025-05-22T10:48:04.562Z"
   },
   {
    "duration": 116,
    "start_time": "2025-05-22T10:48:04.580Z"
   },
   {
    "duration": 9,
    "start_time": "2025-05-22T10:48:04.698Z"
   },
   {
    "duration": 243,
    "start_time": "2025-05-22T10:48:04.709Z"
   },
   {
    "duration": 16,
    "start_time": "2025-05-22T10:48:04.954Z"
   },
   {
    "duration": 95,
    "start_time": "2025-05-22T10:48:04.972Z"
   },
   {
    "duration": 317,
    "start_time": "2025-05-22T10:48:05.069Z"
   },
   {
    "duration": 427,
    "start_time": "2025-05-22T10:48:05.389Z"
   },
   {
    "duration": 26,
    "start_time": "2025-05-22T10:48:05.818Z"
   },
   {
    "duration": 1241,
    "start_time": "2025-05-22T10:48:05.845Z"
   },
   {
    "duration": 14,
    "start_time": "2025-05-22T10:48:07.088Z"
   },
   {
    "duration": 134,
    "start_time": "2025-05-22T10:48:07.104Z"
   },
   {
    "duration": 47,
    "start_time": "2025-05-22T10:48:07.240Z"
   },
   {
    "duration": 52,
    "start_time": "2025-05-22T10:48:07.289Z"
   },
   {
    "duration": 6,
    "start_time": "2025-05-22T10:48:07.343Z"
   },
   {
    "duration": 65,
    "start_time": "2025-05-22T10:48:07.351Z"
   },
   {
    "duration": 3426,
    "start_time": "2025-05-22T10:48:07.417Z"
   },
   {
    "duration": 321,
    "start_time": "2025-05-22T10:48:10.844Z"
   },
   {
    "duration": 248,
    "start_time": "2025-05-22T10:48:11.167Z"
   },
   {
    "duration": 10,
    "start_time": "2025-05-22T10:48:11.417Z"
   },
   {
    "duration": 35,
    "start_time": "2025-05-22T10:48:11.429Z"
   },
   {
    "duration": 158,
    "start_time": "2025-05-22T10:48:11.466Z"
   },
   {
    "duration": 0,
    "start_time": "2025-05-22T10:48:11.626Z"
   },
   {
    "duration": 0,
    "start_time": "2025-05-22T10:48:11.627Z"
   },
   {
    "duration": 0,
    "start_time": "2025-05-22T10:48:11.628Z"
   },
   {
    "duration": 0,
    "start_time": "2025-05-22T10:48:11.630Z"
   },
   {
    "duration": 0,
    "start_time": "2025-05-22T10:48:11.631Z"
   },
   {
    "duration": 0,
    "start_time": "2025-05-22T10:48:11.633Z"
   },
   {
    "duration": 296,
    "start_time": "2025-05-22T10:50:51.299Z"
   },
   {
    "duration": 5,
    "start_time": "2025-05-22T10:52:20.555Z"
   },
   {
    "duration": 35177,
    "start_time": "2025-05-22T10:52:23.923Z"
   },
   {
    "duration": 12,
    "start_time": "2025-05-22T10:54:47.116Z"
   },
   {
    "duration": 5,
    "start_time": "2025-05-22T10:56:12.284Z"
   },
   {
    "duration": 11,
    "start_time": "2025-05-22T10:56:15.708Z"
   },
   {
    "duration": 19,
    "start_time": "2025-05-22T10:56:25.053Z"
   },
   {
    "duration": 11,
    "start_time": "2025-05-22T10:57:10.636Z"
   },
   {
    "duration": 13,
    "start_time": "2025-05-22T10:57:14.357Z"
   },
   {
    "duration": 18,
    "start_time": "2025-05-22T10:57:17.468Z"
   },
   {
    "duration": 15,
    "start_time": "2025-05-22T10:59:14.244Z"
   },
   {
    "duration": 22,
    "start_time": "2025-05-22T11:00:06.908Z"
   },
   {
    "duration": 1295,
    "start_time": "2025-05-22T11:00:17.915Z"
   },
   {
    "duration": 1451,
    "start_time": "2025-05-22T11:01:57.261Z"
   },
   {
    "duration": 1196,
    "start_time": "2025-05-22T11:02:11.612Z"
   },
   {
    "duration": 1142,
    "start_time": "2025-05-22T11:02:18.483Z"
   },
   {
    "duration": 1179,
    "start_time": "2025-05-22T11:02:33.173Z"
   },
   {
    "duration": 1195,
    "start_time": "2025-05-22T11:02:45.388Z"
   },
   {
    "duration": 1287,
    "start_time": "2025-05-22T11:02:56.059Z"
   },
   {
    "duration": 1501,
    "start_time": "2025-05-22T11:03:06.340Z"
   },
   {
    "duration": 1363,
    "start_time": "2025-05-22T11:03:20.332Z"
   },
   {
    "duration": 50,
    "start_time": "2025-05-22T11:06:20.867Z"
   },
   {
    "duration": 10,
    "start_time": "2025-05-22T11:06:23.779Z"
   },
   {
    "duration": 637,
    "start_time": "2025-05-22T11:12:35.956Z"
   },
   {
    "duration": 671,
    "start_time": "2025-05-22T11:15:55.633Z"
   },
   {
    "duration": 635,
    "start_time": "2025-05-22T11:16:59.499Z"
   },
   {
    "duration": 1366,
    "start_time": "2025-05-22T11:17:10.675Z"
   },
   {
    "duration": 23,
    "start_time": "2025-05-22T11:19:32.804Z"
   },
   {
    "duration": 48,
    "start_time": "2025-05-22T11:22:00.933Z"
   },
   {
    "duration": 38,
    "start_time": "2025-05-22T11:23:28.452Z"
   },
   {
    "duration": 1292,
    "start_time": "2025-05-22T11:24:00.716Z"
   },
   {
    "duration": 4454,
    "start_time": "2025-05-22T11:24:17.069Z"
   },
   {
    "duration": 139,
    "start_time": "2025-05-22T11:24:21.525Z"
   },
   {
    "duration": 25,
    "start_time": "2025-05-22T11:24:21.666Z"
   },
   {
    "duration": 378,
    "start_time": "2025-05-22T11:24:21.694Z"
   },
   {
    "duration": 7,
    "start_time": "2025-05-22T11:24:22.074Z"
   },
   {
    "duration": 203,
    "start_time": "2025-05-22T11:24:22.082Z"
   },
   {
    "duration": 70,
    "start_time": "2025-05-22T11:24:22.287Z"
   },
   {
    "duration": 131,
    "start_time": "2025-05-22T11:24:22.359Z"
   },
   {
    "duration": 94,
    "start_time": "2025-05-22T11:24:22.492Z"
   },
   {
    "duration": 141,
    "start_time": "2025-05-22T11:24:22.589Z"
   },
   {
    "duration": 2561,
    "start_time": "2025-05-22T11:24:22.732Z"
   },
   {
    "duration": 511,
    "start_time": "2025-05-22T11:24:25.295Z"
   },
   {
    "duration": 13,
    "start_time": "2025-05-22T11:24:25.808Z"
   },
   {
    "duration": 145,
    "start_time": "2025-05-22T11:24:25.823Z"
   },
   {
    "duration": 11,
    "start_time": "2025-05-22T11:24:25.970Z"
   },
   {
    "duration": 119,
    "start_time": "2025-05-22T11:24:25.983Z"
   },
   {
    "duration": 15,
    "start_time": "2025-05-22T11:24:26.104Z"
   },
   {
    "duration": 83,
    "start_time": "2025-05-22T11:24:26.121Z"
   },
   {
    "duration": 267,
    "start_time": "2025-05-22T11:24:26.205Z"
   },
   {
    "duration": 433,
    "start_time": "2025-05-22T11:24:26.474Z"
   },
   {
    "duration": 26,
    "start_time": "2025-05-22T11:24:26.909Z"
   },
   {
    "duration": 1139,
    "start_time": "2025-05-22T11:24:26.936Z"
   },
   {
    "duration": 13,
    "start_time": "2025-05-22T11:24:28.076Z"
   },
   {
    "duration": 116,
    "start_time": "2025-05-22T11:24:28.091Z"
   },
   {
    "duration": 13,
    "start_time": "2025-05-22T11:24:28.208Z"
   },
   {
    "duration": 23,
    "start_time": "2025-05-22T11:24:28.222Z"
   },
   {
    "duration": 5,
    "start_time": "2025-05-22T11:24:28.247Z"
   },
   {
    "duration": 10,
    "start_time": "2025-05-22T11:24:28.255Z"
   },
   {
    "duration": 3329,
    "start_time": "2025-05-22T11:24:28.267Z"
   },
   {
    "duration": 363,
    "start_time": "2025-05-22T11:24:31.597Z"
   },
   {
    "duration": 248,
    "start_time": "2025-05-22T11:24:31.963Z"
   },
   {
    "duration": 10,
    "start_time": "2025-05-22T11:24:32.212Z"
   },
   {
    "duration": 77,
    "start_time": "2025-05-22T11:24:32.225Z"
   },
   {
    "duration": 190,
    "start_time": "2025-05-22T11:24:32.304Z"
   },
   {
    "duration": 0,
    "start_time": "2025-05-22T11:24:32.496Z"
   },
   {
    "duration": 0,
    "start_time": "2025-05-22T11:24:32.498Z"
   },
   {
    "duration": 0,
    "start_time": "2025-05-22T11:24:32.499Z"
   },
   {
    "duration": 0,
    "start_time": "2025-05-22T11:24:32.500Z"
   },
   {
    "duration": 0,
    "start_time": "2025-05-22T11:24:32.501Z"
   },
   {
    "duration": 0,
    "start_time": "2025-05-22T11:24:32.502Z"
   },
   {
    "duration": 0,
    "start_time": "2025-05-22T11:24:32.503Z"
   },
   {
    "duration": 8,
    "start_time": "2025-05-22T11:27:52.546Z"
   },
   {
    "duration": 16701,
    "start_time": "2025-05-22T11:27:56.327Z"
   },
   {
    "duration": 4534,
    "start_time": "2025-05-22T11:28:18.317Z"
   },
   {
    "duration": 144,
    "start_time": "2025-05-22T11:28:22.853Z"
   },
   {
    "duration": 23,
    "start_time": "2025-05-22T11:28:22.999Z"
   },
   {
    "duration": 373,
    "start_time": "2025-05-22T11:28:23.023Z"
   },
   {
    "duration": 7,
    "start_time": "2025-05-22T11:28:23.398Z"
   },
   {
    "duration": 11,
    "start_time": "2025-05-22T11:28:23.407Z"
   },
   {
    "duration": 6,
    "start_time": "2025-05-22T11:28:23.420Z"
   },
   {
    "duration": 8,
    "start_time": "2025-05-22T11:28:23.428Z"
   },
   {
    "duration": 6,
    "start_time": "2025-05-22T11:28:23.461Z"
   },
   {
    "duration": 11,
    "start_time": "2025-05-22T11:28:23.469Z"
   },
   {
    "duration": 2624,
    "start_time": "2025-05-22T11:28:23.482Z"
   },
   {
    "duration": 545,
    "start_time": "2025-05-22T11:28:26.108Z"
   },
   {
    "duration": 19,
    "start_time": "2025-05-22T11:28:26.660Z"
   },
   {
    "duration": 134,
    "start_time": "2025-05-22T11:28:26.683Z"
   },
   {
    "duration": 9,
    "start_time": "2025-05-22T11:28:26.818Z"
   },
   {
    "duration": 143,
    "start_time": "2025-05-22T11:28:26.828Z"
   },
   {
    "duration": 22,
    "start_time": "2025-05-22T11:28:26.974Z"
   },
   {
    "duration": 81,
    "start_time": "2025-05-22T11:28:26.998Z"
   },
   {
    "duration": 301,
    "start_time": "2025-05-22T11:28:27.080Z"
   },
   {
    "duration": 435,
    "start_time": "2025-05-22T11:28:27.383Z"
   },
   {
    "duration": 27,
    "start_time": "2025-05-22T11:28:27.820Z"
   },
   {
    "duration": 1074,
    "start_time": "2025-05-22T11:28:27.849Z"
   },
   {
    "duration": 14,
    "start_time": "2025-05-22T11:28:28.925Z"
   },
   {
    "duration": 108,
    "start_time": "2025-05-22T11:28:28.941Z"
   },
   {
    "duration": 13,
    "start_time": "2025-05-22T11:28:29.051Z"
   },
   {
    "duration": 25,
    "start_time": "2025-05-22T11:28:29.065Z"
   },
   {
    "duration": 5,
    "start_time": "2025-05-22T11:28:29.092Z"
   },
   {
    "duration": 19,
    "start_time": "2025-05-22T11:28:29.099Z"
   },
   {
    "duration": 3424,
    "start_time": "2025-05-22T11:28:29.119Z"
   },
   {
    "duration": 323,
    "start_time": "2025-05-22T11:28:32.545Z"
   },
   {
    "duration": 244,
    "start_time": "2025-05-22T11:28:32.870Z"
   },
   {
    "duration": 10,
    "start_time": "2025-05-22T11:28:33.116Z"
   },
   {
    "duration": 283,
    "start_time": "2025-05-22T11:28:33.127Z"
   },
   {
    "duration": 36527,
    "start_time": "2025-05-22T11:28:33.411Z"
   },
   {
    "duration": 3,
    "start_time": "2025-05-22T11:29:09.940Z"
   },
   {
    "duration": 46,
    "start_time": "2025-05-22T11:29:09.945Z"
   },
   {
    "duration": 1408,
    "start_time": "2025-05-22T11:29:09.994Z"
   },
   {
    "duration": 64,
    "start_time": "2025-05-22T11:29:11.403Z"
   },
   {
    "duration": 9,
    "start_time": "2025-05-22T11:29:11.469Z"
   },
   {
    "duration": 850,
    "start_time": "2025-05-22T11:29:11.479Z"
   },
   {
    "duration": 1298,
    "start_time": "2025-05-22T11:29:12.333Z"
   },
   {
    "duration": 4486,
    "start_time": "2025-05-22T11:42:27.648Z"
   },
   {
    "duration": 151,
    "start_time": "2025-05-22T11:42:32.136Z"
   },
   {
    "duration": 49,
    "start_time": "2025-05-22T11:42:32.289Z"
   },
   {
    "duration": 324,
    "start_time": "2025-05-22T11:42:32.340Z"
   },
   {
    "duration": 7,
    "start_time": "2025-05-22T11:42:32.667Z"
   },
   {
    "duration": 113,
    "start_time": "2025-05-22T11:42:32.676Z"
   },
   {
    "duration": 21,
    "start_time": "2025-05-22T11:42:32.791Z"
   },
   {
    "duration": 29,
    "start_time": "2025-05-22T11:42:32.814Z"
   },
   {
    "duration": 34,
    "start_time": "2025-05-22T11:42:32.845Z"
   },
   {
    "duration": 14,
    "start_time": "2025-05-22T11:42:32.881Z"
   },
   {
    "duration": 2630,
    "start_time": "2025-05-22T11:42:32.896Z"
   },
   {
    "duration": 523,
    "start_time": "2025-05-22T11:42:35.528Z"
   },
   {
    "duration": 19,
    "start_time": "2025-05-22T11:42:36.052Z"
   },
   {
    "duration": 115,
    "start_time": "2025-05-22T11:42:36.074Z"
   },
   {
    "duration": 8,
    "start_time": "2025-05-22T11:42:36.191Z"
   },
   {
    "duration": 253,
    "start_time": "2025-05-22T11:42:36.201Z"
   },
   {
    "duration": 19,
    "start_time": "2025-05-22T11:42:36.456Z"
   },
   {
    "duration": 280,
    "start_time": "2025-05-22T11:42:36.477Z"
   },
   {
    "duration": 341,
    "start_time": "2025-05-22T11:42:36.759Z"
   },
   {
    "duration": 430,
    "start_time": "2025-05-22T11:42:37.102Z"
   },
   {
    "duration": 39,
    "start_time": "2025-05-22T11:42:37.534Z"
   },
   {
    "duration": 1099,
    "start_time": "2025-05-22T11:42:37.575Z"
   },
   {
    "duration": 15,
    "start_time": "2025-05-22T11:42:38.676Z"
   },
   {
    "duration": 82,
    "start_time": "2025-05-22T11:42:38.693Z"
   },
   {
    "duration": 14,
    "start_time": "2025-05-22T11:42:38.777Z"
   },
   {
    "duration": 30,
    "start_time": "2025-05-22T11:42:38.792Z"
   },
   {
    "duration": 7,
    "start_time": "2025-05-22T11:42:38.823Z"
   },
   {
    "duration": 32,
    "start_time": "2025-05-22T11:42:38.831Z"
   },
   {
    "duration": 3335,
    "start_time": "2025-05-22T11:42:38.865Z"
   },
   {
    "duration": 341,
    "start_time": "2025-05-22T11:42:42.202Z"
   },
   {
    "duration": 265,
    "start_time": "2025-05-22T11:42:42.544Z"
   },
   {
    "duration": 9,
    "start_time": "2025-05-22T11:42:42.811Z"
   },
   {
    "duration": 36,
    "start_time": "2025-05-22T11:42:42.821Z"
   },
   {
    "duration": 37302,
    "start_time": "2025-05-22T11:42:42.859Z"
   },
   {
    "duration": 4,
    "start_time": "2025-05-22T11:43:20.163Z"
   },
   {
    "duration": 146,
    "start_time": "2025-05-22T11:43:20.169Z"
   },
   {
    "duration": 1404,
    "start_time": "2025-05-22T11:43:20.317Z"
   },
   {
    "duration": 61,
    "start_time": "2025-05-22T11:43:21.723Z"
   },
   {
    "duration": 40,
    "start_time": "2025-05-22T11:43:21.786Z"
   },
   {
    "duration": 901,
    "start_time": "2025-05-22T11:43:21.828Z"
   },
   {
    "duration": 1299,
    "start_time": "2025-05-22T11:43:22.733Z"
   },
   {
    "duration": 8673,
    "start_time": "2025-05-22T12:17:15.726Z"
   },
   {
    "duration": 332,
    "start_time": "2025-05-22T12:17:24.404Z"
   },
   {
    "duration": 25,
    "start_time": "2025-05-22T12:17:24.738Z"
   },
   {
    "duration": 428,
    "start_time": "2025-05-22T12:17:24.765Z"
   },
   {
    "duration": 18,
    "start_time": "2025-05-22T12:17:25.195Z"
   },
   {
    "duration": 14,
    "start_time": "2025-05-22T12:17:25.215Z"
   },
   {
    "duration": 16,
    "start_time": "2025-05-22T12:17:25.231Z"
   },
   {
    "duration": 25,
    "start_time": "2025-05-22T12:17:25.249Z"
   },
   {
    "duration": 41,
    "start_time": "2025-05-22T12:17:25.275Z"
   },
   {
    "duration": 9,
    "start_time": "2025-05-22T12:17:25.324Z"
   },
   {
    "duration": 3021,
    "start_time": "2025-05-22T12:17:25.335Z"
   },
   {
    "duration": 577,
    "start_time": "2025-05-22T12:17:28.358Z"
   },
   {
    "duration": 14,
    "start_time": "2025-05-22T12:17:28.937Z"
   },
   {
    "duration": 131,
    "start_time": "2025-05-22T12:17:28.952Z"
   },
   {
    "duration": 28,
    "start_time": "2025-05-22T12:17:29.085Z"
   },
   {
    "duration": 147,
    "start_time": "2025-05-22T12:17:29.118Z"
   },
   {
    "duration": 16,
    "start_time": "2025-05-22T12:17:29.267Z"
   },
   {
    "duration": 39,
    "start_time": "2025-05-22T12:17:29.286Z"
   },
   {
    "duration": 328,
    "start_time": "2025-05-22T12:17:29.328Z"
   },
   {
    "duration": 438,
    "start_time": "2025-05-22T12:17:29.657Z"
   },
   {
    "duration": 38,
    "start_time": "2025-05-22T12:17:30.097Z"
   },
   {
    "duration": 1241,
    "start_time": "2025-05-22T12:17:30.137Z"
   },
   {
    "duration": 37,
    "start_time": "2025-05-22T12:17:31.380Z"
   },
   {
    "duration": 12,
    "start_time": "2025-05-22T12:20:00.737Z"
   },
   {
    "duration": 6,
    "start_time": "2025-05-22T12:20:24.352Z"
   },
   {
    "duration": 5,
    "start_time": "2025-05-22T12:20:31.701Z"
   },
   {
    "duration": 22,
    "start_time": "2025-05-22T12:21:52.817Z"
   },
   {
    "duration": 40,
    "start_time": "2025-05-22T12:22:36.578Z"
   },
   {
    "duration": 42,
    "start_time": "2025-05-22T12:24:29.286Z"
   },
   {
    "duration": 50,
    "start_time": "2025-05-23T09:48:59.877Z"
   },
   {
    "duration": 6498,
    "start_time": "2025-05-23T09:49:13.085Z"
   },
   {
    "duration": 134,
    "start_time": "2025-05-23T09:49:19.585Z"
   },
   {
    "duration": 46,
    "start_time": "2025-05-23T09:49:19.721Z"
   },
   {
    "duration": 416,
    "start_time": "2025-05-23T09:49:19.769Z"
   },
   {
    "duration": 7,
    "start_time": "2025-05-23T09:49:20.186Z"
   },
   {
    "duration": 32,
    "start_time": "2025-05-23T09:49:20.195Z"
   },
   {
    "duration": 5,
    "start_time": "2025-05-23T09:49:20.229Z"
   },
   {
    "duration": 9,
    "start_time": "2025-05-23T09:49:20.235Z"
   },
   {
    "duration": 14,
    "start_time": "2025-05-23T09:49:20.245Z"
   },
   {
    "duration": 43,
    "start_time": "2025-05-23T09:49:20.262Z"
   },
   {
    "duration": 2624,
    "start_time": "2025-05-23T09:49:20.307Z"
   },
   {
    "duration": 520,
    "start_time": "2025-05-23T09:49:22.933Z"
   },
   {
    "duration": 16,
    "start_time": "2025-05-23T09:49:23.455Z"
   },
   {
    "duration": 117,
    "start_time": "2025-05-23T09:49:23.473Z"
   },
   {
    "duration": 9,
    "start_time": "2025-05-23T09:49:23.592Z"
   },
   {
    "duration": 120,
    "start_time": "2025-05-23T09:49:23.602Z"
   },
   {
    "duration": 1549,
    "start_time": "2025-05-23T09:49:23.724Z"
   },
   {
    "duration": 0,
    "start_time": "2025-05-23T09:49:25.276Z"
   },
   {
    "duration": 0,
    "start_time": "2025-05-23T09:49:25.278Z"
   },
   {
    "duration": 0,
    "start_time": "2025-05-23T09:49:25.279Z"
   },
   {
    "duration": 0,
    "start_time": "2025-05-23T09:49:25.280Z"
   },
   {
    "duration": 0,
    "start_time": "2025-05-23T09:49:25.282Z"
   },
   {
    "duration": 0,
    "start_time": "2025-05-23T09:49:25.284Z"
   },
   {
    "duration": 0,
    "start_time": "2025-05-23T09:49:25.285Z"
   },
   {
    "duration": 0,
    "start_time": "2025-05-23T09:49:25.287Z"
   },
   {
    "duration": 0,
    "start_time": "2025-05-23T09:49:25.289Z"
   },
   {
    "duration": 0,
    "start_time": "2025-05-23T09:49:25.290Z"
   },
   {
    "duration": 0,
    "start_time": "2025-05-23T09:49:25.291Z"
   },
   {
    "duration": 0,
    "start_time": "2025-05-23T09:49:25.293Z"
   },
   {
    "duration": 0,
    "start_time": "2025-05-23T09:49:25.294Z"
   },
   {
    "duration": 0,
    "start_time": "2025-05-23T09:49:25.296Z"
   },
   {
    "duration": 0,
    "start_time": "2025-05-23T09:49:25.297Z"
   },
   {
    "duration": 0,
    "start_time": "2025-05-23T09:49:25.299Z"
   },
   {
    "duration": 0,
    "start_time": "2025-05-23T09:49:25.300Z"
   },
   {
    "duration": 0,
    "start_time": "2025-05-23T09:49:25.302Z"
   },
   {
    "duration": 0,
    "start_time": "2025-05-23T09:49:25.303Z"
   },
   {
    "duration": 0,
    "start_time": "2025-05-23T09:49:25.304Z"
   },
   {
    "duration": 0,
    "start_time": "2025-05-23T09:49:25.306Z"
   },
   {
    "duration": 0,
    "start_time": "2025-05-23T09:49:25.307Z"
   },
   {
    "duration": 0,
    "start_time": "2025-05-23T09:49:25.308Z"
   },
   {
    "duration": 0,
    "start_time": "2025-05-23T09:49:25.309Z"
   },
   {
    "duration": 1,
    "start_time": "2025-05-23T09:49:25.310Z"
   },
   {
    "duration": 1442,
    "start_time": "2025-05-23T09:49:30.760Z"
   },
   {
    "duration": 13,
    "start_time": "2025-05-23T09:50:09.780Z"
   },
   {
    "duration": 20,
    "start_time": "2025-05-23T09:53:54.702Z"
   },
   {
    "duration": 4343,
    "start_time": "2025-05-23T09:55:12.970Z"
   },
   {
    "duration": 135,
    "start_time": "2025-05-23T09:55:17.315Z"
   },
   {
    "duration": 23,
    "start_time": "2025-05-23T09:55:17.452Z"
   },
   {
    "duration": 353,
    "start_time": "2025-05-23T09:55:17.477Z"
   },
   {
    "duration": 7,
    "start_time": "2025-05-23T09:55:17.832Z"
   },
   {
    "duration": 26,
    "start_time": "2025-05-23T09:55:17.841Z"
   },
   {
    "duration": 5,
    "start_time": "2025-05-23T09:55:17.869Z"
   },
   {
    "duration": 16,
    "start_time": "2025-05-23T09:55:17.875Z"
   },
   {
    "duration": 8,
    "start_time": "2025-05-23T09:55:17.893Z"
   },
   {
    "duration": 8,
    "start_time": "2025-05-23T09:55:17.903Z"
   },
   {
    "duration": 2538,
    "start_time": "2025-05-23T09:55:17.912Z"
   },
   {
    "duration": 512,
    "start_time": "2025-05-23T09:55:20.452Z"
   },
   {
    "duration": 13,
    "start_time": "2025-05-23T09:55:20.965Z"
   },
   {
    "duration": 158,
    "start_time": "2025-05-23T09:55:20.979Z"
   },
   {
    "duration": 10,
    "start_time": "2025-05-23T09:55:21.138Z"
   },
   {
    "duration": 115,
    "start_time": "2025-05-23T09:55:21.158Z"
   },
   {
    "duration": 13,
    "start_time": "2025-05-23T09:55:21.275Z"
   },
   {
    "duration": 8,
    "start_time": "2025-05-23T09:55:21.290Z"
   },
   {
    "duration": 283,
    "start_time": "2025-05-23T09:55:21.299Z"
   },
   {
    "duration": 414,
    "start_time": "2025-05-23T09:55:21.585Z"
   },
   {
    "duration": 28,
    "start_time": "2025-05-23T09:55:22.000Z"
   },
   {
    "duration": 167,
    "start_time": "2025-05-23T09:55:22.030Z"
   },
   {
    "duration": 0,
    "start_time": "2025-05-23T09:55:22.200Z"
   },
   {
    "duration": 0,
    "start_time": "2025-05-23T09:55:22.201Z"
   },
   {
    "duration": 0,
    "start_time": "2025-05-23T09:55:22.203Z"
   },
   {
    "duration": 0,
    "start_time": "2025-05-23T09:55:22.204Z"
   },
   {
    "duration": 0,
    "start_time": "2025-05-23T09:55:22.210Z"
   },
   {
    "duration": 0,
    "start_time": "2025-05-23T09:55:22.211Z"
   },
   {
    "duration": 0,
    "start_time": "2025-05-23T09:55:22.212Z"
   },
   {
    "duration": 0,
    "start_time": "2025-05-23T09:55:22.214Z"
   },
   {
    "duration": 0,
    "start_time": "2025-05-23T09:55:22.215Z"
   },
   {
    "duration": 0,
    "start_time": "2025-05-23T09:55:22.216Z"
   },
   {
    "duration": 0,
    "start_time": "2025-05-23T09:55:22.217Z"
   },
   {
    "duration": 0,
    "start_time": "2025-05-23T09:55:22.218Z"
   },
   {
    "duration": 0,
    "start_time": "2025-05-23T09:55:22.219Z"
   },
   {
    "duration": 0,
    "start_time": "2025-05-23T09:55:22.221Z"
   },
   {
    "duration": 0,
    "start_time": "2025-05-23T09:55:22.222Z"
   },
   {
    "duration": 0,
    "start_time": "2025-05-23T09:55:22.223Z"
   },
   {
    "duration": 0,
    "start_time": "2025-05-23T09:55:22.224Z"
   },
   {
    "duration": 0,
    "start_time": "2025-05-23T09:55:22.226Z"
   },
   {
    "duration": 0,
    "start_time": "2025-05-23T09:55:22.258Z"
   },
   {
    "duration": 1019,
    "start_time": "2025-05-23T09:55:39.243Z"
   },
   {
    "duration": 13,
    "start_time": "2025-05-23T10:06:03.886Z"
   },
   {
    "duration": 8,
    "start_time": "2025-05-23T10:06:21.211Z"
   },
   {
    "duration": 200,
    "start_time": "2025-05-23T10:06:23.596Z"
   },
   {
    "duration": 402,
    "start_time": "2025-05-23T10:06:25.871Z"
   },
   {
    "duration": 29,
    "start_time": "2025-05-23T10:06:29.546Z"
   },
   {
    "duration": 976,
    "start_time": "2025-05-23T10:06:31.096Z"
   },
   {
    "duration": 24,
    "start_time": "2025-05-23T10:06:59.650Z"
   },
   {
    "duration": 27,
    "start_time": "2025-05-23T10:09:22.453Z"
   },
   {
    "duration": 12,
    "start_time": "2025-05-23T10:09:32.898Z"
   },
   {
    "duration": 9,
    "start_time": "2025-05-23T10:10:31.229Z"
   },
   {
    "duration": 256,
    "start_time": "2025-05-23T10:10:46.409Z"
   },
   {
    "duration": 396,
    "start_time": "2025-05-23T10:10:49.095Z"
   },
   {
    "duration": 28,
    "start_time": "2025-05-23T10:10:52.784Z"
   },
   {
    "duration": 1103,
    "start_time": "2025-05-23T10:10:54.933Z"
   },
   {
    "duration": 24,
    "start_time": "2025-05-23T10:13:54.581Z"
   },
   {
    "duration": 24,
    "start_time": "2025-05-23T10:13:59.422Z"
   },
   {
    "duration": 11,
    "start_time": "2025-05-23T10:14:59.204Z"
   },
   {
    "duration": 8,
    "start_time": "2025-05-23T10:15:46.443Z"
   },
   {
    "duration": 209,
    "start_time": "2025-05-23T10:15:59.682Z"
   },
   {
    "duration": 417,
    "start_time": "2025-05-23T10:16:01.524Z"
   },
   {
    "duration": 27,
    "start_time": "2025-05-23T10:16:04.286Z"
   },
   {
    "duration": 938,
    "start_time": "2025-05-23T10:16:06.423Z"
   },
   {
    "duration": 23,
    "start_time": "2025-05-23T10:17:08.369Z"
   },
   {
    "duration": 16,
    "start_time": "2025-05-23T10:20:06.818Z"
   },
   {
    "duration": 12,
    "start_time": "2025-05-23T10:20:12.510Z"
   },
   {
    "duration": 25,
    "start_time": "2025-05-23T10:20:13.766Z"
   },
   {
    "duration": 7,
    "start_time": "2025-05-23T10:20:15.058Z"
   },
   {
    "duration": 4750,
    "start_time": "2025-05-23T10:20:50.063Z"
   },
   {
    "duration": 134,
    "start_time": "2025-05-23T10:20:54.816Z"
   },
   {
    "duration": 22,
    "start_time": "2025-05-23T10:20:54.952Z"
   },
   {
    "duration": 361,
    "start_time": "2025-05-23T10:20:54.976Z"
   },
   {
    "duration": 7,
    "start_time": "2025-05-23T10:20:55.338Z"
   },
   {
    "duration": 11,
    "start_time": "2025-05-23T10:20:55.357Z"
   },
   {
    "duration": 5,
    "start_time": "2025-05-23T10:20:55.369Z"
   },
   {
    "duration": 11,
    "start_time": "2025-05-23T10:20:55.375Z"
   },
   {
    "duration": 12,
    "start_time": "2025-05-23T10:20:55.387Z"
   },
   {
    "duration": 22,
    "start_time": "2025-05-23T10:20:55.402Z"
   },
   {
    "duration": 2521,
    "start_time": "2025-05-23T10:20:55.425Z"
   },
   {
    "duration": 495,
    "start_time": "2025-05-23T10:20:57.948Z"
   },
   {
    "duration": 19,
    "start_time": "2025-05-23T10:20:58.444Z"
   },
   {
    "duration": 103,
    "start_time": "2025-05-23T10:20:58.464Z"
   },
   {
    "duration": 8,
    "start_time": "2025-05-23T10:20:58.569Z"
   },
   {
    "duration": 119,
    "start_time": "2025-05-23T10:20:58.579Z"
   },
   {
    "duration": 13,
    "start_time": "2025-05-23T10:20:58.700Z"
   },
   {
    "duration": 11,
    "start_time": "2025-05-23T10:20:58.714Z"
   },
   {
    "duration": 257,
    "start_time": "2025-05-23T10:20:58.727Z"
   },
   {
    "duration": 412,
    "start_time": "2025-05-23T10:20:58.986Z"
   },
   {
    "duration": 27,
    "start_time": "2025-05-23T10:20:59.400Z"
   },
   {
    "duration": 1068,
    "start_time": "2025-05-23T10:20:59.428Z"
   },
   {
    "duration": 24,
    "start_time": "2025-05-23T10:21:00.498Z"
   },
   {
    "duration": 24,
    "start_time": "2025-05-23T10:21:00.523Z"
   },
   {
    "duration": 13,
    "start_time": "2025-05-23T10:21:00.548Z"
   },
   {
    "duration": 23,
    "start_time": "2025-05-23T10:21:00.563Z"
   },
   {
    "duration": 157,
    "start_time": "2025-05-23T10:21:00.587Z"
   },
   {
    "duration": 0,
    "start_time": "2025-05-23T10:21:00.746Z"
   },
   {
    "duration": 0,
    "start_time": "2025-05-23T10:21:00.747Z"
   },
   {
    "duration": 0,
    "start_time": "2025-05-23T10:21:00.748Z"
   },
   {
    "duration": 0,
    "start_time": "2025-05-23T10:21:00.758Z"
   },
   {
    "duration": 0,
    "start_time": "2025-05-23T10:21:00.759Z"
   },
   {
    "duration": 0,
    "start_time": "2025-05-23T10:21:00.760Z"
   },
   {
    "duration": 0,
    "start_time": "2025-05-23T10:21:00.761Z"
   },
   {
    "duration": 0,
    "start_time": "2025-05-23T10:21:00.762Z"
   },
   {
    "duration": 0,
    "start_time": "2025-05-23T10:21:00.763Z"
   },
   {
    "duration": 0,
    "start_time": "2025-05-23T10:21:00.764Z"
   },
   {
    "duration": 0,
    "start_time": "2025-05-23T10:21:00.765Z"
   },
   {
    "duration": 0,
    "start_time": "2025-05-23T10:21:00.766Z"
   },
   {
    "duration": 0,
    "start_time": "2025-05-23T10:21:00.767Z"
   },
   {
    "duration": 0,
    "start_time": "2025-05-23T10:21:00.768Z"
   },
   {
    "duration": 5,
    "start_time": "2025-05-23T10:21:13.001Z"
   },
   {
    "duration": 13,
    "start_time": "2025-05-23T10:25:00.875Z"
   },
   {
    "duration": 11,
    "start_time": "2025-05-23T10:25:07.831Z"
   },
   {
    "duration": 3,
    "start_time": "2025-05-23T10:25:16.413Z"
   },
   {
    "duration": 4256,
    "start_time": "2025-05-23T10:27:02.802Z"
   },
   {
    "duration": 131,
    "start_time": "2025-05-23T10:27:07.061Z"
   },
   {
    "duration": 22,
    "start_time": "2025-05-23T10:27:07.194Z"
   },
   {
    "duration": 328,
    "start_time": "2025-05-23T10:27:07.218Z"
   },
   {
    "duration": 16,
    "start_time": "2025-05-23T10:27:07.547Z"
   },
   {
    "duration": 30,
    "start_time": "2025-05-23T10:27:07.564Z"
   },
   {
    "duration": 27,
    "start_time": "2025-05-23T10:27:07.596Z"
   },
   {
    "duration": 6,
    "start_time": "2025-05-23T10:27:07.625Z"
   },
   {
    "duration": 5,
    "start_time": "2025-05-23T10:27:07.632Z"
   },
   {
    "duration": 15,
    "start_time": "2025-05-23T10:27:07.639Z"
   },
   {
    "duration": 2490,
    "start_time": "2025-05-23T10:27:07.656Z"
   },
   {
    "duration": 496,
    "start_time": "2025-05-23T10:27:10.148Z"
   },
   {
    "duration": 18,
    "start_time": "2025-05-23T10:27:10.645Z"
   },
   {
    "duration": 103,
    "start_time": "2025-05-23T10:27:10.664Z"
   },
   {
    "duration": 8,
    "start_time": "2025-05-23T10:27:10.769Z"
   },
   {
    "duration": 177,
    "start_time": "2025-05-23T10:27:10.779Z"
   },
   {
    "duration": 12,
    "start_time": "2025-05-23T10:27:10.958Z"
   },
   {
    "duration": 154,
    "start_time": "2025-05-23T10:27:10.971Z"
   },
   {
    "duration": 0,
    "start_time": "2025-05-23T10:27:11.127Z"
   },
   {
    "duration": 0,
    "start_time": "2025-05-23T10:27:11.128Z"
   },
   {
    "duration": 0,
    "start_time": "2025-05-23T10:27:11.129Z"
   },
   {
    "duration": 0,
    "start_time": "2025-05-23T10:27:11.130Z"
   },
   {
    "duration": 0,
    "start_time": "2025-05-23T10:27:11.131Z"
   },
   {
    "duration": 0,
    "start_time": "2025-05-23T10:27:11.133Z"
   },
   {
    "duration": 0,
    "start_time": "2025-05-23T10:27:11.134Z"
   },
   {
    "duration": 0,
    "start_time": "2025-05-23T10:27:11.135Z"
   },
   {
    "duration": 0,
    "start_time": "2025-05-23T10:27:11.136Z"
   },
   {
    "duration": 0,
    "start_time": "2025-05-23T10:27:11.137Z"
   },
   {
    "duration": 0,
    "start_time": "2025-05-23T10:27:11.157Z"
   },
   {
    "duration": 0,
    "start_time": "2025-05-23T10:27:11.159Z"
   },
   {
    "duration": 0,
    "start_time": "2025-05-23T10:27:11.160Z"
   },
   {
    "duration": 0,
    "start_time": "2025-05-23T10:27:11.161Z"
   },
   {
    "duration": 0,
    "start_time": "2025-05-23T10:27:11.162Z"
   },
   {
    "duration": 0,
    "start_time": "2025-05-23T10:27:11.163Z"
   },
   {
    "duration": 0,
    "start_time": "2025-05-23T10:27:11.164Z"
   },
   {
    "duration": 0,
    "start_time": "2025-05-23T10:27:11.165Z"
   },
   {
    "duration": 0,
    "start_time": "2025-05-23T10:27:11.166Z"
   },
   {
    "duration": 0,
    "start_time": "2025-05-23T10:27:11.168Z"
   },
   {
    "duration": 12,
    "start_time": "2025-05-23T10:27:16.802Z"
   },
   {
    "duration": 68,
    "start_time": "2025-05-23T10:28:23.608Z"
   },
   {
    "duration": 88,
    "start_time": "2025-05-23T10:29:00.114Z"
   },
   {
    "duration": 126,
    "start_time": "2025-05-23T10:29:09.338Z"
   },
   {
    "duration": 264,
    "start_time": "2025-05-23T10:30:12.308Z"
   },
   {
    "duration": 383,
    "start_time": "2025-05-23T10:30:17.233Z"
   },
   {
    "duration": 27,
    "start_time": "2025-05-23T10:30:20.100Z"
   },
   {
    "duration": 1088,
    "start_time": "2025-05-23T10:30:21.951Z"
   },
   {
    "duration": 24,
    "start_time": "2025-05-23T10:30:29.476Z"
   },
   {
    "duration": 16,
    "start_time": "2025-05-23T10:30:30.665Z"
   },
   {
    "duration": 11,
    "start_time": "2025-05-23T10:30:33.242Z"
   },
   {
    "duration": 12,
    "start_time": "2025-05-23T10:31:21.940Z"
   },
   {
    "duration": 14,
    "start_time": "2025-05-23T10:31:36.455Z"
   },
   {
    "duration": 4300,
    "start_time": "2025-05-23T10:32:07.475Z"
   },
   {
    "duration": 137,
    "start_time": "2025-05-23T10:32:12.202Z"
   },
   {
    "duration": 133,
    "start_time": "2025-05-23T10:32:18.776Z"
   },
   {
    "duration": 25,
    "start_time": "2025-05-23T10:32:21.228Z"
   },
   {
    "duration": 313,
    "start_time": "2025-05-23T10:32:23.935Z"
   },
   {
    "duration": 7,
    "start_time": "2025-05-23T10:32:25.790Z"
   },
   {
    "duration": 11,
    "start_time": "2025-05-23T10:32:26.927Z"
   },
   {
    "duration": 5,
    "start_time": "2025-05-23T10:32:27.802Z"
   },
   {
    "duration": 4,
    "start_time": "2025-05-23T10:32:28.696Z"
   },
   {
    "duration": 3,
    "start_time": "2025-05-23T10:32:30.709Z"
   },
   {
    "duration": 8,
    "start_time": "2025-05-23T10:32:32.737Z"
   },
   {
    "duration": 2547,
    "start_time": "2025-05-23T10:32:34.159Z"
   },
   {
    "duration": 533,
    "start_time": "2025-05-23T10:32:36.708Z"
   },
   {
    "duration": 19,
    "start_time": "2025-05-23T10:32:37.242Z"
   },
   {
    "duration": 96,
    "start_time": "2025-05-23T10:32:42.500Z"
   },
   {
    "duration": 9,
    "start_time": "2025-05-23T10:32:44.545Z"
   },
   {
    "duration": 96,
    "start_time": "2025-05-23T10:32:46.272Z"
   },
   {
    "duration": 12,
    "start_time": "2025-05-23T10:32:48.231Z"
   },
   {
    "duration": 12,
    "start_time": "2025-05-23T10:33:52.216Z"
   },
   {
    "duration": 4328,
    "start_time": "2025-05-23T10:34:12.253Z"
   },
   {
    "duration": 135,
    "start_time": "2025-05-23T10:34:16.584Z"
   },
   {
    "duration": 47,
    "start_time": "2025-05-23T10:34:16.720Z"
   },
   {
    "duration": 331,
    "start_time": "2025-05-23T10:34:16.769Z"
   },
   {
    "duration": 7,
    "start_time": "2025-05-23T10:34:17.102Z"
   },
   {
    "duration": 44,
    "start_time": "2025-05-23T10:34:17.110Z"
   },
   {
    "duration": 5,
    "start_time": "2025-05-23T10:34:17.156Z"
   },
   {
    "duration": 15,
    "start_time": "2025-05-23T10:34:17.162Z"
   },
   {
    "duration": 5,
    "start_time": "2025-05-23T10:34:17.178Z"
   },
   {
    "duration": 6,
    "start_time": "2025-05-23T10:34:17.187Z"
   },
   {
    "duration": 2528,
    "start_time": "2025-05-23T10:34:17.195Z"
   },
   {
    "duration": 516,
    "start_time": "2025-05-23T10:34:19.724Z"
   },
   {
    "duration": 19,
    "start_time": "2025-05-23T10:34:20.242Z"
   },
   {
    "duration": 113,
    "start_time": "2025-05-23T10:34:20.262Z"
   },
   {
    "duration": 8,
    "start_time": "2025-05-23T10:34:20.377Z"
   },
   {
    "duration": 104,
    "start_time": "2025-05-23T10:34:20.387Z"
   },
   {
    "duration": 145,
    "start_time": "2025-05-23T10:34:20.493Z"
   },
   {
    "duration": 0,
    "start_time": "2025-05-23T10:34:20.640Z"
   },
   {
    "duration": 0,
    "start_time": "2025-05-23T10:34:20.641Z"
   },
   {
    "duration": 0,
    "start_time": "2025-05-23T10:34:20.642Z"
   },
   {
    "duration": 0,
    "start_time": "2025-05-23T10:34:20.643Z"
   },
   {
    "duration": 0,
    "start_time": "2025-05-23T10:34:20.644Z"
   },
   {
    "duration": 0,
    "start_time": "2025-05-23T10:34:20.645Z"
   },
   {
    "duration": 0,
    "start_time": "2025-05-23T10:34:20.658Z"
   },
   {
    "duration": 0,
    "start_time": "2025-05-23T10:34:20.659Z"
   },
   {
    "duration": 0,
    "start_time": "2025-05-23T10:34:20.660Z"
   },
   {
    "duration": 0,
    "start_time": "2025-05-23T10:34:20.661Z"
   },
   {
    "duration": 0,
    "start_time": "2025-05-23T10:34:20.662Z"
   },
   {
    "duration": 0,
    "start_time": "2025-05-23T10:34:20.664Z"
   },
   {
    "duration": 0,
    "start_time": "2025-05-23T10:34:20.665Z"
   },
   {
    "duration": 0,
    "start_time": "2025-05-23T10:34:20.666Z"
   },
   {
    "duration": 0,
    "start_time": "2025-05-23T10:34:20.667Z"
   },
   {
    "duration": 0,
    "start_time": "2025-05-23T10:34:20.667Z"
   },
   {
    "duration": 0,
    "start_time": "2025-05-23T10:34:20.668Z"
   },
   {
    "duration": 0,
    "start_time": "2025-05-23T10:34:20.669Z"
   },
   {
    "duration": 0,
    "start_time": "2025-05-23T10:34:20.670Z"
   },
   {
    "duration": 0,
    "start_time": "2025-05-23T10:34:20.671Z"
   },
   {
    "duration": 0,
    "start_time": "2025-05-23T10:34:20.672Z"
   },
   {
    "duration": 12,
    "start_time": "2025-05-23T10:34:27.533Z"
   },
   {
    "duration": 12,
    "start_time": "2025-05-23T10:34:36.544Z"
   },
   {
    "duration": 12,
    "start_time": "2025-05-23T10:34:47.471Z"
   },
   {
    "duration": 27,
    "start_time": "2025-05-23T10:35:29.748Z"
   },
   {
    "duration": 13,
    "start_time": "2025-05-23T10:37:07.535Z"
   },
   {
    "duration": 4248,
    "start_time": "2025-05-23T10:37:34.730Z"
   },
   {
    "duration": 135,
    "start_time": "2025-05-23T10:37:38.980Z"
   },
   {
    "duration": 42,
    "start_time": "2025-05-23T10:37:39.116Z"
   },
   {
    "duration": 321,
    "start_time": "2025-05-23T10:37:39.159Z"
   },
   {
    "duration": 7,
    "start_time": "2025-05-23T10:37:39.482Z"
   },
   {
    "duration": 10,
    "start_time": "2025-05-23T10:37:39.490Z"
   },
   {
    "duration": 5,
    "start_time": "2025-05-23T10:37:39.502Z"
   },
   {
    "duration": 94,
    "start_time": "2025-05-23T10:37:39.508Z"
   },
   {
    "duration": 4,
    "start_time": "2025-05-23T10:37:39.604Z"
   },
   {
    "duration": 25,
    "start_time": "2025-05-23T10:37:39.611Z"
   },
   {
    "duration": 2564,
    "start_time": "2025-05-23T10:37:39.638Z"
   },
   {
    "duration": 536,
    "start_time": "2025-05-23T10:37:42.204Z"
   },
   {
    "duration": 19,
    "start_time": "2025-05-23T10:37:42.742Z"
   },
   {
    "duration": 103,
    "start_time": "2025-05-23T10:37:42.763Z"
   },
   {
    "duration": 9,
    "start_time": "2025-05-23T10:37:42.867Z"
   },
   {
    "duration": 115,
    "start_time": "2025-05-23T10:37:42.877Z"
   },
   {
    "duration": 13,
    "start_time": "2025-05-23T10:37:42.993Z"
   },
   {
    "duration": 268,
    "start_time": "2025-05-23T10:37:43.007Z"
   },
   {
    "duration": 418,
    "start_time": "2025-05-23T10:37:43.277Z"
   },
   {
    "duration": 27,
    "start_time": "2025-05-23T10:37:43.696Z"
   },
   {
    "duration": 1042,
    "start_time": "2025-05-23T10:37:43.724Z"
   },
   {
    "duration": 24,
    "start_time": "2025-05-23T10:37:44.767Z"
   },
   {
    "duration": 11,
    "start_time": "2025-05-23T10:37:44.793Z"
   },
   {
    "duration": 220,
    "start_time": "2025-05-23T10:37:44.806Z"
   },
   {
    "duration": 0,
    "start_time": "2025-05-23T10:37:45.028Z"
   },
   {
    "duration": 0,
    "start_time": "2025-05-23T10:37:45.030Z"
   },
   {
    "duration": 0,
    "start_time": "2025-05-23T10:37:45.031Z"
   },
   {
    "duration": 0,
    "start_time": "2025-05-23T10:37:45.032Z"
   },
   {
    "duration": 0,
    "start_time": "2025-05-23T10:37:45.033Z"
   },
   {
    "duration": 0,
    "start_time": "2025-05-23T10:37:45.035Z"
   },
   {
    "duration": 0,
    "start_time": "2025-05-23T10:37:45.036Z"
   },
   {
    "duration": 0,
    "start_time": "2025-05-23T10:37:45.037Z"
   },
   {
    "duration": 0,
    "start_time": "2025-05-23T10:37:45.038Z"
   },
   {
    "duration": 0,
    "start_time": "2025-05-23T10:37:45.057Z"
   },
   {
    "duration": 0,
    "start_time": "2025-05-23T10:37:45.059Z"
   },
   {
    "duration": 0,
    "start_time": "2025-05-23T10:37:45.060Z"
   },
   {
    "duration": 0,
    "start_time": "2025-05-23T10:37:45.061Z"
   },
   {
    "duration": 0,
    "start_time": "2025-05-23T10:37:45.062Z"
   },
   {
    "duration": 4250,
    "start_time": "2025-05-23T10:41:11.935Z"
   },
   {
    "duration": 132,
    "start_time": "2025-05-23T10:41:16.186Z"
   },
   {
    "duration": 40,
    "start_time": "2025-05-23T10:41:16.320Z"
   },
   {
    "duration": 321,
    "start_time": "2025-05-23T10:41:16.362Z"
   },
   {
    "duration": 8,
    "start_time": "2025-05-23T10:41:16.685Z"
   },
   {
    "duration": 13,
    "start_time": "2025-05-23T10:41:16.695Z"
   },
   {
    "duration": 6,
    "start_time": "2025-05-23T10:41:16.709Z"
   },
   {
    "duration": 6,
    "start_time": "2025-05-23T10:41:16.717Z"
   },
   {
    "duration": 4,
    "start_time": "2025-05-23T10:41:16.759Z"
   },
   {
    "duration": 9,
    "start_time": "2025-05-23T10:41:16.767Z"
   },
   {
    "duration": 2549,
    "start_time": "2025-05-23T10:41:16.777Z"
   },
   {
    "duration": 512,
    "start_time": "2025-05-23T10:41:19.328Z"
   },
   {
    "duration": 22,
    "start_time": "2025-05-23T10:41:19.842Z"
   },
   {
    "duration": 144,
    "start_time": "2025-05-23T10:41:19.865Z"
   },
   {
    "duration": 9,
    "start_time": "2025-05-23T10:41:20.011Z"
   },
   {
    "duration": 127,
    "start_time": "2025-05-23T10:41:20.022Z"
   },
   {
    "duration": 18,
    "start_time": "2025-05-23T10:41:20.157Z"
   },
   {
    "duration": 236,
    "start_time": "2025-05-23T10:41:20.177Z"
   },
   {
    "duration": 413,
    "start_time": "2025-05-23T10:41:20.414Z"
   },
   {
    "duration": 34,
    "start_time": "2025-05-23T10:41:20.828Z"
   },
   {
    "duration": 1126,
    "start_time": "2025-05-23T10:41:20.864Z"
   },
   {
    "duration": 25,
    "start_time": "2025-05-23T10:41:21.991Z"
   },
   {
    "duration": 12,
    "start_time": "2025-05-23T10:41:22.017Z"
   },
   {
    "duration": 146,
    "start_time": "2025-05-23T10:41:22.030Z"
   },
   {
    "duration": 0,
    "start_time": "2025-05-23T10:41:22.178Z"
   },
   {
    "duration": 0,
    "start_time": "2025-05-23T10:41:22.180Z"
   },
   {
    "duration": 0,
    "start_time": "2025-05-23T10:41:22.181Z"
   },
   {
    "duration": 0,
    "start_time": "2025-05-23T10:41:22.182Z"
   },
   {
    "duration": 0,
    "start_time": "2025-05-23T10:41:22.183Z"
   },
   {
    "duration": 0,
    "start_time": "2025-05-23T10:41:22.184Z"
   },
   {
    "duration": 0,
    "start_time": "2025-05-23T10:41:22.185Z"
   },
   {
    "duration": 0,
    "start_time": "2025-05-23T10:41:22.186Z"
   },
   {
    "duration": 0,
    "start_time": "2025-05-23T10:41:22.187Z"
   },
   {
    "duration": 0,
    "start_time": "2025-05-23T10:41:22.188Z"
   },
   {
    "duration": 0,
    "start_time": "2025-05-23T10:41:22.189Z"
   },
   {
    "duration": 0,
    "start_time": "2025-05-23T10:41:22.190Z"
   },
   {
    "duration": 0,
    "start_time": "2025-05-23T10:41:22.191Z"
   },
   {
    "duration": 0,
    "start_time": "2025-05-23T10:41:22.192Z"
   },
   {
    "duration": 18,
    "start_time": "2025-05-23T10:43:51.077Z"
   },
   {
    "duration": 13,
    "start_time": "2025-05-23T10:43:55.090Z"
   },
   {
    "duration": 23,
    "start_time": "2025-05-23T10:45:12.467Z"
   },
   {
    "duration": 4285,
    "start_time": "2025-05-23T10:46:39.886Z"
   },
   {
    "duration": 134,
    "start_time": "2025-05-23T10:46:44.174Z"
   },
   {
    "duration": 22,
    "start_time": "2025-05-23T10:46:44.310Z"
   },
   {
    "duration": 326,
    "start_time": "2025-05-23T10:46:44.335Z"
   },
   {
    "duration": 7,
    "start_time": "2025-05-23T10:46:44.663Z"
   },
   {
    "duration": 10,
    "start_time": "2025-05-23T10:46:44.671Z"
   },
   {
    "duration": 5,
    "start_time": "2025-05-23T10:46:44.683Z"
   },
   {
    "duration": 11,
    "start_time": "2025-05-23T10:46:44.689Z"
   },
   {
    "duration": 5,
    "start_time": "2025-05-23T10:46:44.702Z"
   },
   {
    "duration": 7,
    "start_time": "2025-05-23T10:46:44.710Z"
   },
   {
    "duration": 2501,
    "start_time": "2025-05-23T10:46:44.718Z"
   },
   {
    "duration": 520,
    "start_time": "2025-05-23T10:46:47.220Z"
   },
   {
    "duration": 29,
    "start_time": "2025-05-23T10:46:47.741Z"
   },
   {
    "duration": 104,
    "start_time": "2025-05-23T10:46:47.771Z"
   },
   {
    "duration": 47,
    "start_time": "2025-05-23T10:46:47.877Z"
   },
   {
    "duration": 97,
    "start_time": "2025-05-23T10:46:47.925Z"
   },
   {
    "duration": 13,
    "start_time": "2025-05-23T10:46:48.024Z"
   },
   {
    "duration": 258,
    "start_time": "2025-05-23T10:46:48.039Z"
   },
   {
    "duration": 390,
    "start_time": "2025-05-23T10:46:48.299Z"
   },
   {
    "duration": 25,
    "start_time": "2025-05-23T10:46:48.691Z"
   },
   {
    "duration": 1023,
    "start_time": "2025-05-23T10:46:48.718Z"
   },
   {
    "duration": 23,
    "start_time": "2025-05-23T10:46:49.743Z"
   },
   {
    "duration": 11,
    "start_time": "2025-05-23T10:46:49.768Z"
   },
   {
    "duration": 139,
    "start_time": "2025-05-23T10:46:49.780Z"
   },
   {
    "duration": 0,
    "start_time": "2025-05-23T10:46:49.922Z"
   },
   {
    "duration": 0,
    "start_time": "2025-05-23T10:46:49.923Z"
   },
   {
    "duration": 0,
    "start_time": "2025-05-23T10:46:49.924Z"
   },
   {
    "duration": 0,
    "start_time": "2025-05-23T10:46:49.925Z"
   },
   {
    "duration": 0,
    "start_time": "2025-05-23T10:46:49.926Z"
   },
   {
    "duration": 0,
    "start_time": "2025-05-23T10:46:49.928Z"
   },
   {
    "duration": 0,
    "start_time": "2025-05-23T10:46:49.929Z"
   },
   {
    "duration": 0,
    "start_time": "2025-05-23T10:46:49.930Z"
   },
   {
    "duration": 0,
    "start_time": "2025-05-23T10:46:49.931Z"
   },
   {
    "duration": 0,
    "start_time": "2025-05-23T10:46:49.932Z"
   },
   {
    "duration": 0,
    "start_time": "2025-05-23T10:46:49.958Z"
   },
   {
    "duration": 0,
    "start_time": "2025-05-23T10:46:49.959Z"
   },
   {
    "duration": 0,
    "start_time": "2025-05-23T10:46:49.960Z"
   },
   {
    "duration": 0,
    "start_time": "2025-05-23T10:46:49.961Z"
   },
   {
    "duration": 13,
    "start_time": "2025-05-23T10:49:15.279Z"
   },
   {
    "duration": 33,
    "start_time": "2025-05-23T10:49:48.335Z"
   },
   {
    "duration": 106,
    "start_time": "2025-05-23T10:50:33.414Z"
   },
   {
    "duration": 122,
    "start_time": "2025-05-23T10:51:01.888Z"
   },
   {
    "duration": 102,
    "start_time": "2025-05-23T10:51:16.903Z"
   },
   {
    "duration": 106,
    "start_time": "2025-05-23T10:51:21.925Z"
   },
   {
    "duration": 28,
    "start_time": "2025-05-23T10:51:46.586Z"
   },
   {
    "duration": 39,
    "start_time": "2025-05-23T10:52:46.039Z"
   },
   {
    "duration": 28,
    "start_time": "2025-05-23T10:52:59.116Z"
   },
   {
    "duration": 28,
    "start_time": "2025-05-23T10:55:46.434Z"
   },
   {
    "duration": 4252,
    "start_time": "2025-05-23T10:55:59.506Z"
   },
   {
    "duration": 143,
    "start_time": "2025-05-23T10:56:03.759Z"
   },
   {
    "duration": 24,
    "start_time": "2025-05-23T10:56:03.903Z"
   },
   {
    "duration": 380,
    "start_time": "2025-05-23T10:56:03.929Z"
   },
   {
    "duration": 7,
    "start_time": "2025-05-23T10:56:04.310Z"
   },
   {
    "duration": 80,
    "start_time": "2025-05-23T10:56:04.318Z"
   },
   {
    "duration": 18,
    "start_time": "2025-05-23T10:56:04.400Z"
   },
   {
    "duration": 9,
    "start_time": "2025-05-23T10:56:04.419Z"
   },
   {
    "duration": 6,
    "start_time": "2025-05-23T10:56:04.430Z"
   },
   {
    "duration": 24,
    "start_time": "2025-05-23T10:56:04.438Z"
   },
   {
    "duration": 2618,
    "start_time": "2025-05-23T10:56:04.464Z"
   },
   {
    "duration": 540,
    "start_time": "2025-05-23T10:56:07.084Z"
   },
   {
    "duration": 14,
    "start_time": "2025-05-23T10:56:07.625Z"
   },
   {
    "duration": 166,
    "start_time": "2025-05-23T10:56:07.641Z"
   },
   {
    "duration": 8,
    "start_time": "2025-05-23T10:56:07.809Z"
   },
   {
    "duration": 198,
    "start_time": "2025-05-23T10:56:07.819Z"
   },
   {
    "duration": 29,
    "start_time": "2025-05-23T10:56:08.019Z"
   },
   {
    "duration": 136,
    "start_time": "2025-05-23T10:56:08.050Z"
   },
   {
    "duration": 0,
    "start_time": "2025-05-23T10:56:08.188Z"
   },
   {
    "duration": 0,
    "start_time": "2025-05-23T10:56:08.189Z"
   },
   {
    "duration": 0,
    "start_time": "2025-05-23T10:56:08.190Z"
   },
   {
    "duration": 0,
    "start_time": "2025-05-23T10:56:08.192Z"
   },
   {
    "duration": 0,
    "start_time": "2025-05-23T10:56:08.193Z"
   },
   {
    "duration": 0,
    "start_time": "2025-05-23T10:56:08.194Z"
   },
   {
    "duration": 0,
    "start_time": "2025-05-23T10:56:08.195Z"
   },
   {
    "duration": 0,
    "start_time": "2025-05-23T10:56:08.196Z"
   },
   {
    "duration": 0,
    "start_time": "2025-05-23T10:56:08.198Z"
   },
   {
    "duration": 0,
    "start_time": "2025-05-23T10:56:08.199Z"
   },
   {
    "duration": 0,
    "start_time": "2025-05-23T10:56:08.200Z"
   },
   {
    "duration": 0,
    "start_time": "2025-05-23T10:56:08.201Z"
   },
   {
    "duration": 0,
    "start_time": "2025-05-23T10:56:08.202Z"
   },
   {
    "duration": 0,
    "start_time": "2025-05-23T10:56:08.202Z"
   },
   {
    "duration": 0,
    "start_time": "2025-05-23T10:56:08.203Z"
   },
   {
    "duration": 0,
    "start_time": "2025-05-23T10:56:08.204Z"
   },
   {
    "duration": 0,
    "start_time": "2025-05-23T10:56:08.206Z"
   },
   {
    "duration": 0,
    "start_time": "2025-05-23T10:56:08.207Z"
   },
   {
    "duration": 0,
    "start_time": "2025-05-23T10:56:08.208Z"
   },
   {
    "duration": 0,
    "start_time": "2025-05-23T10:56:08.209Z"
   },
   {
    "duration": 29,
    "start_time": "2025-05-23T10:59:45.106Z"
   },
   {
    "duration": 27,
    "start_time": "2025-05-23T11:02:54.505Z"
   },
   {
    "duration": 39,
    "start_time": "2025-05-23T11:03:21.956Z"
   },
   {
    "duration": 31,
    "start_time": "2025-05-23T11:03:38.191Z"
   },
   {
    "duration": 28,
    "start_time": "2025-05-23T11:04:59.042Z"
   },
   {
    "duration": 28,
    "start_time": "2025-05-23T11:05:52.610Z"
   },
   {
    "duration": 12,
    "start_time": "2025-05-23T11:06:03.508Z"
   },
   {
    "duration": 265,
    "start_time": "2025-05-23T11:09:35.208Z"
   },
   {
    "duration": 409,
    "start_time": "2025-05-23T11:09:40.751Z"
   },
   {
    "duration": 66,
    "start_time": "2025-05-23T11:10:53.002Z"
   },
   {
    "duration": 28,
    "start_time": "2025-05-23T11:11:16.520Z"
   },
   {
    "duration": 35,
    "start_time": "2025-05-23T11:11:40.906Z"
   },
   {
    "duration": 1054,
    "start_time": "2025-05-23T11:11:43.130Z"
   },
   {
    "duration": 16,
    "start_time": "2025-05-23T11:15:00.012Z"
   },
   {
    "duration": 206,
    "start_time": "2025-05-23T11:17:37.501Z"
   },
   {
    "duration": 204,
    "start_time": "2025-05-23T11:19:02.089Z"
   },
   {
    "duration": 203,
    "start_time": "2025-05-23T11:19:37.797Z"
   },
   {
    "duration": 233,
    "start_time": "2025-05-23T11:19:42.145Z"
   },
   {
    "duration": 219,
    "start_time": "2025-05-23T11:21:12.578Z"
   },
   {
    "duration": 232,
    "start_time": "2025-05-23T11:21:19.055Z"
   },
   {
    "duration": 252,
    "start_time": "2025-05-23T11:21:59.309Z"
   },
   {
    "duration": 25,
    "start_time": "2025-05-23T11:23:59.264Z"
   },
   {
    "duration": 12,
    "start_time": "2025-05-23T11:24:08.629Z"
   },
   {
    "duration": 11,
    "start_time": "2025-05-23T11:24:10.639Z"
   },
   {
    "duration": 15,
    "start_time": "2025-05-23T11:24:56.404Z"
   },
   {
    "duration": 6,
    "start_time": "2025-05-23T11:26:05.970Z"
   },
   {
    "duration": 3245,
    "start_time": "2025-05-23T11:26:07.722Z"
   },
   {
    "duration": 309,
    "start_time": "2025-05-23T11:26:17.735Z"
   },
   {
    "duration": 402,
    "start_time": "2025-05-23T11:26:25.295Z"
   },
   {
    "duration": 9,
    "start_time": "2025-05-23T11:26:55.240Z"
   },
   {
    "duration": 13,
    "start_time": "2025-05-23T11:29:03.150Z"
   },
   {
    "duration": 17288,
    "start_time": "2025-05-23T11:31:08.289Z"
   },
   {
    "duration": 7,
    "start_time": "2025-05-23T11:33:55.180Z"
   },
   {
    "duration": 11,
    "start_time": "2025-05-23T11:34:07.427Z"
   },
   {
    "duration": 1104,
    "start_time": "2025-05-23T11:34:11.815Z"
   },
   {
    "duration": 56,
    "start_time": "2025-05-23T11:36:09.937Z"
   },
   {
    "duration": 11,
    "start_time": "2025-05-23T11:36:11.844Z"
   },
   {
    "duration": 642,
    "start_time": "2025-05-23T11:37:32.218Z"
   },
   {
    "duration": 20,
    "start_time": "2025-05-23T11:37:38.039Z"
   },
   {
    "duration": 4,
    "start_time": "2025-05-23T11:39:20.618Z"
   },
   {
    "duration": 1082,
    "start_time": "2025-05-23T11:40:06.744Z"
   },
   {
    "duration": 4184,
    "start_time": "2025-05-23T11:48:25.474Z"
   },
   {
    "duration": 133,
    "start_time": "2025-05-23T11:48:29.661Z"
   },
   {
    "duration": 24,
    "start_time": "2025-05-23T11:48:29.796Z"
   },
   {
    "duration": 336,
    "start_time": "2025-05-23T11:48:29.822Z"
   },
   {
    "duration": 8,
    "start_time": "2025-05-23T11:48:30.160Z"
   },
   {
    "duration": 41,
    "start_time": "2025-05-23T11:48:30.170Z"
   },
   {
    "duration": 24,
    "start_time": "2025-05-23T11:48:30.213Z"
   },
   {
    "duration": 63,
    "start_time": "2025-05-23T11:48:30.239Z"
   },
   {
    "duration": 55,
    "start_time": "2025-05-23T11:48:30.304Z"
   },
   {
    "duration": 20,
    "start_time": "2025-05-23T11:48:30.362Z"
   },
   {
    "duration": 2663,
    "start_time": "2025-05-23T11:48:30.383Z"
   },
   {
    "duration": 517,
    "start_time": "2025-05-23T11:48:33.049Z"
   },
   {
    "duration": 15,
    "start_time": "2025-05-23T11:48:33.568Z"
   },
   {
    "duration": 126,
    "start_time": "2025-05-23T11:48:33.584Z"
   },
   {
    "duration": 8,
    "start_time": "2025-05-23T11:48:33.712Z"
   },
   {
    "duration": 109,
    "start_time": "2025-05-23T11:48:33.722Z"
   },
   {
    "duration": 29,
    "start_time": "2025-05-23T11:48:33.833Z"
   },
   {
    "duration": 323,
    "start_time": "2025-05-23T11:48:33.864Z"
   },
   {
    "duration": 144,
    "start_time": "2025-05-23T11:48:34.188Z"
   },
   {
    "duration": 0,
    "start_time": "2025-05-23T11:48:34.334Z"
   },
   {
    "duration": 0,
    "start_time": "2025-05-23T11:48:34.335Z"
   },
   {
    "duration": 0,
    "start_time": "2025-05-23T11:48:34.336Z"
   },
   {
    "duration": 0,
    "start_time": "2025-05-23T11:48:34.337Z"
   },
   {
    "duration": 0,
    "start_time": "2025-05-23T11:48:34.338Z"
   },
   {
    "duration": 0,
    "start_time": "2025-05-23T11:48:34.339Z"
   },
   {
    "duration": 0,
    "start_time": "2025-05-23T11:48:34.340Z"
   },
   {
    "duration": 0,
    "start_time": "2025-05-23T11:48:34.342Z"
   },
   {
    "duration": 0,
    "start_time": "2025-05-23T11:48:34.343Z"
   },
   {
    "duration": 0,
    "start_time": "2025-05-23T11:48:34.358Z"
   },
   {
    "duration": 0,
    "start_time": "2025-05-23T11:48:34.359Z"
   },
   {
    "duration": 0,
    "start_time": "2025-05-23T11:48:34.360Z"
   },
   {
    "duration": 0,
    "start_time": "2025-05-23T11:48:34.361Z"
   },
   {
    "duration": 0,
    "start_time": "2025-05-23T11:48:34.362Z"
   },
   {
    "duration": 0,
    "start_time": "2025-05-23T11:48:34.363Z"
   },
   {
    "duration": 0,
    "start_time": "2025-05-23T11:48:34.364Z"
   },
   {
    "duration": 0,
    "start_time": "2025-05-23T11:48:34.365Z"
   },
   {
    "duration": 0,
    "start_time": "2025-05-23T11:48:34.366Z"
   },
   {
    "duration": 0,
    "start_time": "2025-05-23T11:48:34.367Z"
   },
   {
    "duration": 0,
    "start_time": "2025-05-23T11:48:34.368Z"
   },
   {
    "duration": 0,
    "start_time": "2025-05-23T11:48:34.369Z"
   },
   {
    "duration": 12,
    "start_time": "2025-05-23T11:49:40.608Z"
   },
   {
    "duration": 61,
    "start_time": "2025-05-23T11:52:39.589Z"
   },
   {
    "duration": 11,
    "start_time": "2025-05-23T11:53:02.864Z"
   },
   {
    "duration": 22,
    "start_time": "2025-05-23T11:54:03.216Z"
   },
   {
    "duration": 24,
    "start_time": "2025-05-23T11:54:35.245Z"
   },
   {
    "duration": 1382,
    "start_time": "2025-05-23T11:56:03.904Z"
   },
   {
    "duration": 1309,
    "start_time": "2025-05-23T11:57:05.252Z"
   },
   {
    "duration": 1216,
    "start_time": "2025-05-23T11:57:26.141Z"
   },
   {
    "duration": 4447,
    "start_time": "2025-05-23T11:57:40.222Z"
   },
   {
    "duration": 137,
    "start_time": "2025-05-23T11:57:44.671Z"
   },
   {
    "duration": 51,
    "start_time": "2025-05-23T11:57:44.810Z"
   },
   {
    "duration": 349,
    "start_time": "2025-05-23T11:57:44.863Z"
   },
   {
    "duration": 10,
    "start_time": "2025-05-23T11:57:45.214Z"
   },
   {
    "duration": 16,
    "start_time": "2025-05-23T11:57:45.226Z"
   },
   {
    "duration": 18,
    "start_time": "2025-05-23T11:57:45.243Z"
   },
   {
    "duration": 30,
    "start_time": "2025-05-23T11:57:45.262Z"
   },
   {
    "duration": 23,
    "start_time": "2025-05-23T11:57:45.294Z"
   },
   {
    "duration": 15,
    "start_time": "2025-05-23T11:57:45.319Z"
   },
   {
    "duration": 2606,
    "start_time": "2025-05-23T11:57:45.336Z"
   },
   {
    "duration": 529,
    "start_time": "2025-05-23T11:57:47.944Z"
   },
   {
    "duration": 12,
    "start_time": "2025-05-23T11:57:48.475Z"
   },
   {
    "duration": 178,
    "start_time": "2025-05-23T11:57:48.488Z"
   },
   {
    "duration": 10,
    "start_time": "2025-05-23T11:57:48.668Z"
   },
   {
    "duration": 105,
    "start_time": "2025-05-23T11:57:48.679Z"
   },
   {
    "duration": 30,
    "start_time": "2025-05-23T11:57:48.786Z"
   },
   {
    "duration": 271,
    "start_time": "2025-05-23T11:57:48.818Z"
   },
   {
    "duration": 1114,
    "start_time": "2025-05-23T11:57:49.090Z"
   },
   {
    "duration": 31,
    "start_time": "2025-05-23T11:57:50.205Z"
   },
   {
    "duration": 1241,
    "start_time": "2025-05-23T11:57:50.238Z"
   },
   {
    "duration": 236,
    "start_time": "2025-05-23T11:57:51.480Z"
   },
   {
    "duration": 47,
    "start_time": "2025-05-23T11:57:51.718Z"
   },
   {
    "duration": 12,
    "start_time": "2025-05-23T11:57:51.767Z"
   },
   {
    "duration": 26,
    "start_time": "2025-05-23T11:57:51.781Z"
   },
   {
    "duration": 5,
    "start_time": "2025-05-23T11:57:51.809Z"
   },
   {
    "duration": 3709,
    "start_time": "2025-05-23T11:57:51.816Z"
   },
   {
    "duration": 315,
    "start_time": "2025-05-23T11:57:55.529Z"
   },
   {
    "duration": 261,
    "start_time": "2025-05-23T11:57:55.846Z"
   },
   {
    "duration": 11,
    "start_time": "2025-05-23T11:57:56.109Z"
   },
   {
    "duration": 12,
    "start_time": "2025-05-23T11:57:56.122Z"
   },
   {
    "duration": 21924,
    "start_time": "2025-05-23T11:57:56.136Z"
   },
   {
    "duration": 5,
    "start_time": "2025-05-23T11:58:18.062Z"
   },
   {
    "duration": 19,
    "start_time": "2025-05-23T11:58:18.068Z"
   },
   {
    "duration": 1343,
    "start_time": "2025-05-23T11:58:18.088Z"
   },
   {
    "duration": 127,
    "start_time": "2025-05-23T11:58:19.433Z"
   },
   {
    "duration": 100,
    "start_time": "2025-05-23T11:58:19.562Z"
   },
   {
    "duration": 646,
    "start_time": "2025-05-23T11:58:19.664Z"
   },
   {
    "duration": 3,
    "start_time": "2025-05-23T11:58:20.312Z"
   },
   {
    "duration": 1171,
    "start_time": "2025-05-23T11:58:20.316Z"
   },
   {
    "duration": 1149,
    "start_time": "2025-05-23T12:00:14.354Z"
   },
   {
    "duration": 1083,
    "start_time": "2025-05-23T12:03:05.433Z"
   },
   {
    "duration": 1368,
    "start_time": "2025-05-23T12:10:25.012Z"
   },
   {
    "duration": 4269,
    "start_time": "2025-05-23T12:11:09.598Z"
   },
   {
    "duration": 132,
    "start_time": "2025-05-23T12:11:13.869Z"
   },
   {
    "duration": 22,
    "start_time": "2025-05-23T12:11:14.002Z"
   },
   {
    "duration": 321,
    "start_time": "2025-05-23T12:11:14.026Z"
   },
   {
    "duration": 11,
    "start_time": "2025-05-23T12:11:14.349Z"
   },
   {
    "duration": 10,
    "start_time": "2025-05-23T12:11:14.362Z"
   },
   {
    "duration": 5,
    "start_time": "2025-05-23T12:11:14.373Z"
   },
   {
    "duration": 6,
    "start_time": "2025-05-23T12:11:14.379Z"
   },
   {
    "duration": 7,
    "start_time": "2025-05-23T12:11:14.387Z"
   },
   {
    "duration": 9,
    "start_time": "2025-05-23T12:11:14.397Z"
   },
   {
    "duration": 2563,
    "start_time": "2025-05-23T12:11:14.407Z"
   },
   {
    "duration": 506,
    "start_time": "2025-05-23T12:11:16.972Z"
   },
   {
    "duration": 15,
    "start_time": "2025-05-23T12:11:17.480Z"
   },
   {
    "duration": 110,
    "start_time": "2025-05-23T12:11:17.496Z"
   },
   {
    "duration": 9,
    "start_time": "2025-05-23T12:11:17.607Z"
   },
   {
    "duration": 113,
    "start_time": "2025-05-23T12:11:17.618Z"
   },
   {
    "duration": 30,
    "start_time": "2025-05-23T12:11:17.732Z"
   },
   {
    "duration": 230,
    "start_time": "2025-05-23T12:11:17.764Z"
   },
   {
    "duration": 1127,
    "start_time": "2025-05-23T12:11:17.996Z"
   },
   {
    "duration": 42,
    "start_time": "2025-05-23T12:11:19.125Z"
   },
   {
    "duration": 1182,
    "start_time": "2025-05-23T12:11:19.169Z"
   },
   {
    "duration": 253,
    "start_time": "2025-05-23T12:11:20.353Z"
   },
   {
    "duration": 23,
    "start_time": "2025-05-23T12:11:20.608Z"
   },
   {
    "duration": 12,
    "start_time": "2025-05-23T12:11:20.633Z"
   },
   {
    "duration": 19,
    "start_time": "2025-05-23T12:11:20.646Z"
   },
   {
    "duration": 5,
    "start_time": "2025-05-23T12:11:20.666Z"
   },
   {
    "duration": 3000,
    "start_time": "2025-05-23T12:11:20.673Z"
   },
   {
    "duration": 360,
    "start_time": "2025-05-23T12:11:23.680Z"
   },
   {
    "duration": 273,
    "start_time": "2025-05-23T12:11:24.042Z"
   },
   {
    "duration": 164,
    "start_time": "2025-05-23T12:11:24.317Z"
   },
   {
    "duration": 0,
    "start_time": "2025-05-23T12:11:24.483Z"
   },
   {
    "duration": 0,
    "start_time": "2025-05-23T12:11:24.484Z"
   },
   {
    "duration": 0,
    "start_time": "2025-05-23T12:11:24.485Z"
   },
   {
    "duration": 0,
    "start_time": "2025-05-23T12:11:24.486Z"
   },
   {
    "duration": 0,
    "start_time": "2025-05-23T12:11:24.487Z"
   },
   {
    "duration": 0,
    "start_time": "2025-05-23T12:11:24.489Z"
   },
   {
    "duration": 0,
    "start_time": "2025-05-23T12:11:24.490Z"
   },
   {
    "duration": 0,
    "start_time": "2025-05-23T12:11:24.491Z"
   },
   {
    "duration": 0,
    "start_time": "2025-05-23T12:11:24.493Z"
   },
   {
    "duration": 0,
    "start_time": "2025-05-23T12:11:24.494Z"
   },
   {
    "duration": 4167,
    "start_time": "2025-05-23T12:16:45.791Z"
   },
   {
    "duration": 145,
    "start_time": "2025-05-23T12:16:49.960Z"
   },
   {
    "duration": 22,
    "start_time": "2025-05-23T12:16:50.106Z"
   },
   {
    "duration": 331,
    "start_time": "2025-05-23T12:16:50.157Z"
   },
   {
    "duration": 7,
    "start_time": "2025-05-23T12:16:50.490Z"
   },
   {
    "duration": 116,
    "start_time": "2025-05-23T12:16:50.498Z"
   },
   {
    "duration": 12,
    "start_time": "2025-05-23T12:16:50.615Z"
   },
   {
    "duration": 4,
    "start_time": "2025-05-23T12:16:50.629Z"
   },
   {
    "duration": 5,
    "start_time": "2025-05-23T12:16:50.634Z"
   },
   {
    "duration": 8,
    "start_time": "2025-05-23T12:16:50.643Z"
   },
   {
    "duration": 2510,
    "start_time": "2025-05-23T12:16:50.652Z"
   },
   {
    "duration": 499,
    "start_time": "2025-05-23T12:16:53.164Z"
   },
   {
    "duration": 13,
    "start_time": "2025-05-23T12:16:53.665Z"
   },
   {
    "duration": 109,
    "start_time": "2025-05-23T12:16:53.680Z"
   },
   {
    "duration": 9,
    "start_time": "2025-05-23T12:16:53.791Z"
   },
   {
    "duration": 113,
    "start_time": "2025-05-23T12:16:53.801Z"
   },
   {
    "duration": 28,
    "start_time": "2025-05-23T12:16:53.916Z"
   },
   {
    "duration": 236,
    "start_time": "2025-05-23T12:16:53.945Z"
   },
   {
    "duration": 1124,
    "start_time": "2025-05-23T12:16:54.182Z"
   },
   {
    "duration": 29,
    "start_time": "2025-05-23T12:16:55.308Z"
   },
   {
    "duration": 1196,
    "start_time": "2025-05-23T12:16:55.338Z"
   },
   {
    "duration": 247,
    "start_time": "2025-05-23T12:16:56.536Z"
   },
   {
    "duration": 24,
    "start_time": "2025-05-23T12:16:56.785Z"
   },
   {
    "duration": 13,
    "start_time": "2025-05-23T12:16:56.811Z"
   },
   {
    "duration": 13,
    "start_time": "2025-05-23T12:16:56.826Z"
   },
   {
    "duration": 23,
    "start_time": "2025-05-23T12:16:56.840Z"
   },
   {
    "duration": 3520,
    "start_time": "2025-05-23T12:16:56.865Z"
   },
   {
    "duration": 346,
    "start_time": "2025-05-23T12:17:00.388Z"
   },
   {
    "duration": 268,
    "start_time": "2025-05-23T12:17:00.735Z"
   },
   {
    "duration": 10,
    "start_time": "2025-05-23T12:17:01.004Z"
   },
   {
    "duration": 33,
    "start_time": "2025-05-23T12:17:01.016Z"
   },
   {
    "duration": 22042,
    "start_time": "2025-05-23T12:17:01.050Z"
   },
   {
    "duration": 5,
    "start_time": "2025-05-23T12:17:23.094Z"
   },
   {
    "duration": 23,
    "start_time": "2025-05-23T12:17:23.101Z"
   },
   {
    "duration": 1505,
    "start_time": "2025-05-23T12:17:23.126Z"
   },
   {
    "duration": 225,
    "start_time": "2025-05-23T12:17:24.633Z"
   },
   {
    "duration": 9,
    "start_time": "2025-05-23T12:17:24.860Z"
   },
   {
    "duration": 661,
    "start_time": "2025-05-23T12:17:24.871Z"
   },
   {
    "duration": 4,
    "start_time": "2025-05-23T12:17:25.534Z"
   },
   {
    "duration": 1160,
    "start_time": "2025-05-23T12:17:25.539Z"
   },
   {
    "duration": 1130,
    "start_time": "2025-05-23T12:19:19.080Z"
   },
   {
    "duration": 4196,
    "start_time": "2025-05-23T12:21:11.595Z"
   },
   {
    "duration": 133,
    "start_time": "2025-05-23T12:21:15.793Z"
   },
   {
    "duration": 35,
    "start_time": "2025-05-23T12:21:15.928Z"
   },
   {
    "duration": 325,
    "start_time": "2025-05-23T12:21:15.965Z"
   },
   {
    "duration": 7,
    "start_time": "2025-05-23T12:21:16.292Z"
   },
   {
    "duration": 13,
    "start_time": "2025-05-23T12:21:16.300Z"
   },
   {
    "duration": 30,
    "start_time": "2025-05-23T12:21:16.315Z"
   },
   {
    "duration": 7,
    "start_time": "2025-05-23T12:21:16.346Z"
   },
   {
    "duration": 18,
    "start_time": "2025-05-23T12:21:16.355Z"
   },
   {
    "duration": 9,
    "start_time": "2025-05-23T12:21:16.376Z"
   },
   {
    "duration": 2496,
    "start_time": "2025-05-23T12:21:16.386Z"
   },
   {
    "duration": 522,
    "start_time": "2025-05-23T12:21:18.884Z"
   },
   {
    "duration": 14,
    "start_time": "2025-05-23T12:21:19.407Z"
   },
   {
    "duration": 111,
    "start_time": "2025-05-23T12:21:19.422Z"
   },
   {
    "duration": 9,
    "start_time": "2025-05-23T12:21:19.534Z"
   },
   {
    "duration": 114,
    "start_time": "2025-05-23T12:21:19.544Z"
   },
   {
    "duration": 27,
    "start_time": "2025-05-23T12:21:19.660Z"
   },
   {
    "duration": 206,
    "start_time": "2025-05-23T12:21:19.689Z"
   },
   {
    "duration": 992,
    "start_time": "2025-05-23T12:21:19.897Z"
   },
   {
    "duration": 29,
    "start_time": "2025-05-23T12:21:20.891Z"
   },
   {
    "duration": 1135,
    "start_time": "2025-05-23T12:21:20.923Z"
   },
   {
    "duration": 227,
    "start_time": "2025-05-23T12:21:22.059Z"
   },
   {
    "duration": 24,
    "start_time": "2025-05-23T12:21:22.288Z"
   },
   {
    "duration": 12,
    "start_time": "2025-05-23T12:21:22.313Z"
   },
   {
    "duration": 11,
    "start_time": "2025-05-23T12:21:22.327Z"
   },
   {
    "duration": 23,
    "start_time": "2025-05-23T12:21:22.340Z"
   },
   {
    "duration": 3243,
    "start_time": "2025-05-23T12:21:22.365Z"
   },
   {
    "duration": 334,
    "start_time": "2025-05-23T12:21:25.612Z"
   },
   {
    "duration": 252,
    "start_time": "2025-05-23T12:21:25.948Z"
   },
   {
    "duration": 9,
    "start_time": "2025-05-23T12:21:26.201Z"
   },
   {
    "duration": 28,
    "start_time": "2025-05-23T12:21:26.212Z"
   },
   {
    "duration": 17099,
    "start_time": "2025-05-23T12:21:26.242Z"
   },
   {
    "duration": 6,
    "start_time": "2025-05-23T12:21:43.343Z"
   },
   {
    "duration": 11,
    "start_time": "2025-05-23T12:21:43.357Z"
   },
   {
    "duration": 1138,
    "start_time": "2025-05-23T12:21:43.369Z"
   },
   {
    "duration": 65,
    "start_time": "2025-05-23T12:21:44.509Z"
   },
   {
    "duration": 8,
    "start_time": "2025-05-23T12:21:44.576Z"
   },
   {
    "duration": 859,
    "start_time": "2025-05-23T12:21:44.586Z"
   },
   {
    "duration": 13,
    "start_time": "2025-05-23T12:21:45.447Z"
   },
   {
    "duration": 1138,
    "start_time": "2025-05-23T12:21:45.463Z"
   }
  ],
  "colab": {
   "provenance": []
  },
  "kernelspec": {
   "display_name": "Python 3 (ipykernel)",
   "language": "python",
   "name": "python3"
  },
  "language_info": {
   "codemirror_mode": {
    "name": "ipython",
    "version": 3
   },
   "file_extension": ".py",
   "mimetype": "text/x-python",
   "name": "python",
   "nbconvert_exporter": "python",
   "pygments_lexer": "ipython3",
   "version": "3.9.5"
  },
  "toc": {
   "base_numbering": 1,
   "nav_menu": {},
   "number_sections": true,
   "sideBar": true,
   "skip_h1_title": true,
   "title_cell": "Table of Contents",
   "title_sidebar": "Contents",
   "toc_cell": false,
   "toc_position": {},
   "toc_section_display": true,
   "toc_window_display": false
  }
 },
 "nbformat": 4,
 "nbformat_minor": 1
}
